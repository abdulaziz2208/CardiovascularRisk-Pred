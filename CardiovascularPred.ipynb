{
  "nbformat": 4,
  "nbformat_minor": 0,
  "metadata": {
    "colab": {
      "name": "CardiovascularPred.ipynb",
      "provenance": [],
      "collapsed_sections": [],
      "authorship_tag": "ABX9TyMMcH9/5qr7GoAJgJYdb/CI"
    },
    "kernelspec": {
      "name": "python3",
      "display_name": "Python 3"
    },
    "language_info": {
      "name": "python"
    }
  },
  "cells": [
    {
      "cell_type": "markdown",
      "source": [
        "Data Description\n",
        "\n",
        "Demographic:\n",
        "\n",
        "• Sex: male or female(\"M\" or \"F\")\n",
        "\n",
        "• Age: Age of the patient;(Continuous - Although the recorded ages have been truncated to whole numbers, the concept of age is continuous).\n",
        "\n",
        "Behavioral\n",
        "• is_smoking: whether or not the patient is a current smoker (\"YES\" or \"NO\")\n",
        "\n",
        "• Cigs Per Day: the number of cigarettes that the person smoked on average in one day.(can be considered continuous as one can have any number of cigarettes, even half a cigarette.)\n",
        "\n",
        "Medical( history)\n",
        "\n",
        "• BP Meds: whether or not the patient was on blood pressure medication (Nominal)\n",
        "\n",
        "• Prevalent Stroke: whether or not the patient had previously had a stroke (Nominal)\n",
        "\n",
        "• Prevalent Hyp: whether or not the patient was hypertensive (Nominal)\n",
        "\n",
        "• Diabetes: whether or not the patient had diabetes (Nominal)\n",
        "\n",
        "Medical(current)\n",
        "\n",
        "• Tot Chol: total cholesterol level (Continuous)\n",
        "\n",
        "• Sys BP: systolic blood pressure (Continuous)\n",
        "\n",
        "• Dia BP: diastolic blood pressure (Continuous)\n",
        "• BMI: Body Mass Index (Continuous)\n",
        "\n",
        "• Heart Rate: heart rate (Continuous - In medical research, variables such as heart rate though infact discrete, yet are considered continuous because of large number of possible values.)\n",
        "\n",
        "• Glucose: glucose level (Continuous)\n",
        "\n"
      ],
      "metadata": {
        "id": "HGP3uHpV4dFg"
      }
    },
    {
      "cell_type": "code",
      "source": [
        "import pandas as pd\n",
        "import numpy as np\n",
        "\n",
        "import matplotlib.pyplot as plt\n",
        "%matplotlib inline\n",
        "import seaborn as sns\n",
        "import statistics as s\n",
        "from sklearn.impute import KNNImputer\n",
        "## Will delete if not req\n",
        "from numpy import math"
      ],
      "metadata": {
        "id": "aWtPqUJOdPb8"
      },
      "execution_count": 1,
      "outputs": []
    },
    {
      "cell_type": "code",
      "source": [
        "##used to ignore warning messages\n",
        "import warnings\n",
        "warnings.filterwarnings('ignore')"
      ],
      "metadata": {
        "id": "9kcACh3dhZ8n"
      },
      "execution_count": 2,
      "outputs": []
    },
    {
      "cell_type": "code",
      "source": [
        "from google.colab import drive\n",
        "drive.mount('/content/drive')"
      ],
      "metadata": {
        "colab": {
          "base_uri": "https://localhost:8080/"
        },
        "id": "d-2m-WGR9_FH",
        "outputId": "d99241b5-467e-4669-e959-501b0f134f80"
      },
      "execution_count": 3,
      "outputs": [
        {
          "output_type": "stream",
          "name": "stdout",
          "text": [
            "Mounted at /content/drive\n"
          ]
        }
      ]
    },
    {
      "cell_type": "code",
      "source": [
        "pip install imbalanced-learn"
      ],
      "metadata": {
        "colab": {
          "base_uri": "https://localhost:8080/"
        },
        "id": "7H5zw1yhhX0g",
        "outputId": "80e6cc02-e5f9-4f88-cf97-9c96b430c9ab"
      },
      "execution_count": 4,
      "outputs": [
        {
          "output_type": "stream",
          "name": "stdout",
          "text": [
            "Requirement already satisfied: imbalanced-learn in /usr/local/lib/python3.7/dist-packages (0.8.1)\n",
            "Requirement already satisfied: numpy>=1.13.3 in /usr/local/lib/python3.7/dist-packages (from imbalanced-learn) (1.19.5)\n",
            "Requirement already satisfied: scikit-learn>=0.24 in /usr/local/lib/python3.7/dist-packages (from imbalanced-learn) (1.0.1)\n",
            "Requirement already satisfied: joblib>=0.11 in /usr/local/lib/python3.7/dist-packages (from imbalanced-learn) (1.1.0)\n",
            "Requirement already satisfied: scipy>=0.19.1 in /usr/local/lib/python3.7/dist-packages (from imbalanced-learn) (1.4.1)\n",
            "Requirement already satisfied: threadpoolctl>=2.0.0 in /usr/local/lib/python3.7/dist-packages (from scikit-learn>=0.24->imbalanced-learn) (3.0.0)\n"
          ]
        }
      ]
    },
    {
      "cell_type": "code",
      "source": [
        "data = pd.read_csv(\"/content/drive/MyDrive/Almabetter learning/Cardiovascular Risk Prediction/data_cardiovascular_risk.csv\")\n",
        "print(\"Dataset size\")\n",
        "print(\"Rows {} Columns {}\".format(data.shape[0], data.shape[1]))"
      ],
      "metadata": {
        "colab": {
          "base_uri": "https://localhost:8080/"
        },
        "id": "7xhkL7nscvtm",
        "outputId": "c9e43978-5362-4ecb-c255-ad6b163e713f"
      },
      "execution_count": 5,
      "outputs": [
        {
          "output_type": "stream",
          "name": "stdout",
          "text": [
            "Dataset size\n",
            "Rows 3390 Columns 17\n"
          ]
        }
      ]
    },
    {
      "cell_type": "code",
      "source": [
        "data.sample(5)"
      ],
      "metadata": {
        "colab": {
          "base_uri": "https://localhost:8080/",
          "height": 226
        },
        "id": "BUQyDDTGdNGm",
        "outputId": "5bdcf802-e441-42e6-e41f-044c10924a0a"
      },
      "execution_count": 6,
      "outputs": [
        {
          "output_type": "execute_result",
          "data": {
            "text/html": [
              "<div>\n",
              "<style scoped>\n",
              "    .dataframe tbody tr th:only-of-type {\n",
              "        vertical-align: middle;\n",
              "    }\n",
              "\n",
              "    .dataframe tbody tr th {\n",
              "        vertical-align: top;\n",
              "    }\n",
              "\n",
              "    .dataframe thead th {\n",
              "        text-align: right;\n",
              "    }\n",
              "</style>\n",
              "<table border=\"1\" class=\"dataframe\">\n",
              "  <thead>\n",
              "    <tr style=\"text-align: right;\">\n",
              "      <th></th>\n",
              "      <th>id</th>\n",
              "      <th>age</th>\n",
              "      <th>education</th>\n",
              "      <th>sex</th>\n",
              "      <th>is_smoking</th>\n",
              "      <th>cigsPerDay</th>\n",
              "      <th>BPMeds</th>\n",
              "      <th>prevalentStroke</th>\n",
              "      <th>prevalentHyp</th>\n",
              "      <th>diabetes</th>\n",
              "      <th>totChol</th>\n",
              "      <th>sysBP</th>\n",
              "      <th>diaBP</th>\n",
              "      <th>BMI</th>\n",
              "      <th>heartRate</th>\n",
              "      <th>glucose</th>\n",
              "      <th>TenYearCHD</th>\n",
              "    </tr>\n",
              "  </thead>\n",
              "  <tbody>\n",
              "    <tr>\n",
              "      <th>2217</th>\n",
              "      <td>2217</td>\n",
              "      <td>63</td>\n",
              "      <td>1.0</td>\n",
              "      <td>F</td>\n",
              "      <td>NO</td>\n",
              "      <td>0.0</td>\n",
              "      <td>0.0</td>\n",
              "      <td>0</td>\n",
              "      <td>1</td>\n",
              "      <td>0</td>\n",
              "      <td>258.0</td>\n",
              "      <td>166.0</td>\n",
              "      <td>92.0</td>\n",
              "      <td>26.91</td>\n",
              "      <td>75.0</td>\n",
              "      <td>NaN</td>\n",
              "      <td>0</td>\n",
              "    </tr>\n",
              "    <tr>\n",
              "      <th>1951</th>\n",
              "      <td>1951</td>\n",
              "      <td>35</td>\n",
              "      <td>4.0</td>\n",
              "      <td>M</td>\n",
              "      <td>YES</td>\n",
              "      <td>10.0</td>\n",
              "      <td>0.0</td>\n",
              "      <td>0</td>\n",
              "      <td>0</td>\n",
              "      <td>0</td>\n",
              "      <td>300.0</td>\n",
              "      <td>120.0</td>\n",
              "      <td>84.0</td>\n",
              "      <td>24.69</td>\n",
              "      <td>75.0</td>\n",
              "      <td>99.0</td>\n",
              "      <td>0</td>\n",
              "    </tr>\n",
              "    <tr>\n",
              "      <th>3335</th>\n",
              "      <td>3335</td>\n",
              "      <td>64</td>\n",
              "      <td>1.0</td>\n",
              "      <td>F</td>\n",
              "      <td>NO</td>\n",
              "      <td>0.0</td>\n",
              "      <td>0.0</td>\n",
              "      <td>0</td>\n",
              "      <td>0</td>\n",
              "      <td>0</td>\n",
              "      <td>268.0</td>\n",
              "      <td>135.0</td>\n",
              "      <td>74.0</td>\n",
              "      <td>30.18</td>\n",
              "      <td>76.0</td>\n",
              "      <td>83.0</td>\n",
              "      <td>0</td>\n",
              "    </tr>\n",
              "    <tr>\n",
              "      <th>249</th>\n",
              "      <td>249</td>\n",
              "      <td>57</td>\n",
              "      <td>1.0</td>\n",
              "      <td>F</td>\n",
              "      <td>YES</td>\n",
              "      <td>1.0</td>\n",
              "      <td>0.0</td>\n",
              "      <td>0</td>\n",
              "      <td>1</td>\n",
              "      <td>0</td>\n",
              "      <td>229.0</td>\n",
              "      <td>126.5</td>\n",
              "      <td>90.0</td>\n",
              "      <td>26.00</td>\n",
              "      <td>68.0</td>\n",
              "      <td>58.0</td>\n",
              "      <td>0</td>\n",
              "    </tr>\n",
              "    <tr>\n",
              "      <th>3133</th>\n",
              "      <td>3133</td>\n",
              "      <td>47</td>\n",
              "      <td>1.0</td>\n",
              "      <td>F</td>\n",
              "      <td>NO</td>\n",
              "      <td>0.0</td>\n",
              "      <td>0.0</td>\n",
              "      <td>0</td>\n",
              "      <td>0</td>\n",
              "      <td>0</td>\n",
              "      <td>205.0</td>\n",
              "      <td>122.0</td>\n",
              "      <td>78.0</td>\n",
              "      <td>23.78</td>\n",
              "      <td>67.0</td>\n",
              "      <td>83.0</td>\n",
              "      <td>0</td>\n",
              "    </tr>\n",
              "  </tbody>\n",
              "</table>\n",
              "</div>"
            ],
            "text/plain": [
              "        id  age  education sex  ...    BMI  heartRate  glucose  TenYearCHD\n",
              "2217  2217   63        1.0   F  ...  26.91       75.0      NaN           0\n",
              "1951  1951   35        4.0   M  ...  24.69       75.0     99.0           0\n",
              "3335  3335   64        1.0   F  ...  30.18       76.0     83.0           0\n",
              "249    249   57        1.0   F  ...  26.00       68.0     58.0           0\n",
              "3133  3133   47        1.0   F  ...  23.78       67.0     83.0           0\n",
              "\n",
              "[5 rows x 17 columns]"
            ]
          },
          "metadata": {},
          "execution_count": 6
        }
      ]
    },
    {
      "cell_type": "code",
      "source": [
        "# Id dropped as not req\n",
        "data.drop(columns=['id'],inplace=True)"
      ],
      "metadata": {
        "id": "JnsmG0CW5m1h"
      },
      "execution_count": 7,
      "outputs": []
    },
    {
      "cell_type": "code",
      "source": [
        "data.isna().sum()"
      ],
      "metadata": {
        "colab": {
          "base_uri": "https://localhost:8080/"
        },
        "id": "mf3o_PCbdNDT",
        "outputId": "c30f54d8-1e82-495a-b810-40a05632fdda"
      },
      "execution_count": 8,
      "outputs": [
        {
          "output_type": "execute_result",
          "data": {
            "text/plain": [
              "age                  0\n",
              "education           87\n",
              "sex                  0\n",
              "is_smoking           0\n",
              "cigsPerDay          22\n",
              "BPMeds              44\n",
              "prevalentStroke      0\n",
              "prevalentHyp         0\n",
              "diabetes             0\n",
              "totChol             38\n",
              "sysBP                0\n",
              "diaBP                0\n",
              "BMI                 14\n",
              "heartRate            1\n",
              "glucose            304\n",
              "TenYearCHD           0\n",
              "dtype: int64"
            ]
          },
          "metadata": {},
          "execution_count": 8
        }
      ]
    },
    {
      "cell_type": "code",
      "source": [
        ""
      ],
      "metadata": {
        "id": "gLZnGL35nsAN"
      },
      "execution_count": 8,
      "outputs": []
    },
    {
      "cell_type": "markdown",
      "source": [
        "Data Analysis"
      ],
      "metadata": {
        "id": "ts97WD7U6f-o"
      }
    },
    {
      "cell_type": "code",
      "source": [
        "sns.distplot(data['age']);"
      ],
      "metadata": {
        "colab": {
          "base_uri": "https://localhost:8080/",
          "height": 279
        },
        "id": "Lm1OZd_yg03g",
        "outputId": "aa22ac4b-7b2e-48b8-892b-6b80fc79de4c"
      },
      "execution_count": 9,
      "outputs": [
        {
          "output_type": "display_data",
          "data": {
            "image/png": "[encoded data removed]",
            "text/plain": [
              "<Figure size 432x288 with 1 Axes>"
            ]
          },
          "metadata": {
            "needs_background": "light"
          }
        }
      ]
    },
    {
      "cell_type": "code",
      "source": [
        "fct=sns.FacetGrid(data=data,col='TenYearCHD')\n",
        "# map the above form facetgrid with some attributes\n",
        "fct.map(sns.countplot,'sex').add_legend()\n",
        "# show the object\n",
        "plt.show()"
      ],
      "metadata": {
        "colab": {
          "base_uri": "https://localhost:8080/",
          "height": 225
        },
        "id": "OzD_twPH-JQ1",
        "outputId": "06218597-b0a5-4685-c6dd-38478617f0e3"
      },
      "execution_count": 10,
      "outputs": [
        {
          "output_type": "display_data",
          "data": {
            "image/png": "[encoded data removed]",
            "text/plain": [
              "<Figure size 440x216 with 2 Axes>"
            ]
          },
          "metadata": {
            "needs_background": "light"
          }
        }
      ]
    },
    {
      "cell_type": "code",
      "source": [
        "\n",
        "fct=sns.FacetGrid(data=data,col='TenYearCHD')\n",
        "# map the above form facetgrid with some attributes\n",
        "fct.map(sns.countplot,'education').add_legend()\n",
        "# show the object\n",
        "plt.show()"
      ],
      "metadata": {
        "colab": {
          "base_uri": "https://localhost:8080/",
          "height": 225
        },
        "id": "TBpqPGMY-JNf",
        "outputId": "d4194113-7fe7-4dcf-fd72-4dbcae0310da"
      },
      "execution_count": 11,
      "outputs": [
        {
          "output_type": "display_data",
          "data": {
            "image/png": "[encoded data removed]",
            "text/plain": [
              "<Figure size 440x216 with 2 Axes>"
            ]
          },
          "metadata": {
            "needs_background": "light"
          }
        }
      ]
    },
    {
      "cell_type": "code",
      "source": [
        "data['education'].describe()"
      ],
      "metadata": {
        "colab": {
          "base_uri": "https://localhost:8080/"
        },
        "id": "HOueCRD2-JKd",
        "outputId": "014587ba-c978-4194-c7a6-25aca423ba50"
      },
      "execution_count": 12,
      "outputs": [
        {
          "output_type": "execute_result",
          "data": {
            "text/plain": [
              "count    3303.000000\n",
              "mean        1.970936\n",
              "std         1.019081\n",
              "min         1.000000\n",
              "25%         1.000000\n",
              "50%         2.000000\n",
              "75%         3.000000\n",
              "max         4.000000\n",
              "Name: education, dtype: float64"
            ]
          },
          "metadata": {},
          "execution_count": 12
        }
      ]
    },
    {
      "cell_type": "code",
      "source": [
        "fct=sns.FacetGrid(data=data,col='TenYearCHD')\n",
        "# map the above form facetgrid with some attributes\n",
        "fct.map(sns.countplot,'is_smoking').add_legend()\n",
        "# show the object\n",
        "plt.show()"
      ],
      "metadata": {
        "colab": {
          "base_uri": "https://localhost:8080/",
          "height": 225
        },
        "id": "V7aQ-Pus-JHk",
        "outputId": "6ed448b8-f3d2-4111-cee7-b34cdd5df99c"
      },
      "execution_count": 13,
      "outputs": [
        {
          "output_type": "display_data",
          "data": {
            "image/png": "[encoded data removed]",
            "text/plain": [
              "<Figure size 440x216 with 2 Axes>"
            ]
          },
          "metadata": {
            "needs_background": "light"
          }
        }
      ]
    },
    {
      "cell_type": "code",
      "source": [
        "data['prevalentStroke'].describe()"
      ],
      "metadata": {
        "colab": {
          "base_uri": "https://localhost:8080/"
        },
        "id": "rUQ5y1UR-JEo",
        "outputId": "f6426dc7-1e8e-4b34-ee28-0a4418276f7f"
      },
      "execution_count": 14,
      "outputs": [
        {
          "output_type": "execute_result",
          "data": {
            "text/plain": [
              "count    3390.000000\n",
              "mean        0.006490\n",
              "std         0.080309\n",
              "min         0.000000\n",
              "25%         0.000000\n",
              "50%         0.000000\n",
              "75%         0.000000\n",
              "max         1.000000\n",
              "Name: prevalentStroke, dtype: float64"
            ]
          },
          "metadata": {},
          "execution_count": 14
        }
      ]
    },
    {
      "cell_type": "code",
      "source": [
        "fct=sns.FacetGrid(data=data,col='TenYearCHD')\n",
        "# map the above form facetgrid with some attributes\n",
        "fct.map(sns.countplot,'prevalentStroke').add_legend()\n",
        "# show the object\n",
        "plt.show()"
      ],
      "metadata": {
        "colab": {
          "base_uri": "https://localhost:8080/",
          "height": 225
        },
        "id": "fVgR-1_F-JBx",
        "outputId": "8d3f66bc-d97d-4c07-86ac-9c23142bb781"
      },
      "execution_count": 15,
      "outputs": [
        {
          "output_type": "display_data",
          "data": {
            "image/png": "[encoded data removed]",
            "text/plain": [
              "<Figure size 440x216 with 2 Axes>"
            ]
          },
          "metadata": {
            "needs_background": "light"
          }
        }
      ]
    },
    {
      "cell_type": "code",
      "source": [
        "fct=sns.FacetGrid(data=data,col='TenYearCHD',row='education')\n",
        "# map the above form facetgrid with some attributes\n",
        "fct.map(sns.countplot,'sex').add_legend()\n",
        "# show the object\n",
        "plt.show()"
      ],
      "metadata": {
        "colab": {
          "base_uri": "https://localhost:8080/",
          "height": 873
        },
        "id": "tTaS11dH60fx",
        "outputId": "2fc39d58-5c19-4112-97eb-55d7d70129ae"
      },
      "execution_count": 16,
      "outputs": [
        {
          "output_type": "display_data",
          "data": {
            "image/png": "[encoded data removed]",
            "text/plain": [
              "<Figure size 440x864 with 8 Axes>"
            ]
          },
          "metadata": {
            "needs_background": "light"
          }
        }
      ]
    },
    {
      "cell_type": "code",
      "source": [
        "data[['sysBP','diaBP','BMI','heartRate','glucose']].describe()"
      ],
      "metadata": {
        "colab": {
          "base_uri": "https://localhost:8080/",
          "height": 300
        },
        "id": "YSQwpdqs60dO",
        "outputId": "4c795084-2a14-48e7-ce32-ed31a523515a"
      },
      "execution_count": 17,
      "outputs": [
        {
          "output_type": "execute_result",
          "data": {
            "text/html": [
              "<div>\n",
              "<style scoped>\n",
              "    .dataframe tbody tr th:only-of-type {\n",
              "        vertical-align: middle;\n",
              "    }\n",
              "\n",
              "    .dataframe tbody tr th {\n",
              "        vertical-align: top;\n",
              "    }\n",
              "\n",
              "    .dataframe thead th {\n",
              "        text-align: right;\n",
              "    }\n",
              "</style>\n",
              "<table border=\"1\" class=\"dataframe\">\n",
              "  <thead>\n",
              "    <tr style=\"text-align: right;\">\n",
              "      <th></th>\n",
              "      <th>sysBP</th>\n",
              "      <th>diaBP</th>\n",
              "      <th>BMI</th>\n",
              "      <th>heartRate</th>\n",
              "      <th>glucose</th>\n",
              "    </tr>\n",
              "  </thead>\n",
              "  <tbody>\n",
              "    <tr>\n",
              "      <th>count</th>\n",
              "      <td>3390.00000</td>\n",
              "      <td>3390.000000</td>\n",
              "      <td>3376.000000</td>\n",
              "      <td>3389.000000</td>\n",
              "      <td>3086.000000</td>\n",
              "    </tr>\n",
              "    <tr>\n",
              "      <th>mean</th>\n",
              "      <td>132.60118</td>\n",
              "      <td>82.883038</td>\n",
              "      <td>25.794964</td>\n",
              "      <td>75.977279</td>\n",
              "      <td>82.086520</td>\n",
              "    </tr>\n",
              "    <tr>\n",
              "      <th>std</th>\n",
              "      <td>22.29203</td>\n",
              "      <td>12.023581</td>\n",
              "      <td>4.115449</td>\n",
              "      <td>11.971868</td>\n",
              "      <td>24.244753</td>\n",
              "    </tr>\n",
              "    <tr>\n",
              "      <th>min</th>\n",
              "      <td>83.50000</td>\n",
              "      <td>48.000000</td>\n",
              "      <td>15.960000</td>\n",
              "      <td>45.000000</td>\n",
              "      <td>40.000000</td>\n",
              "    </tr>\n",
              "    <tr>\n",
              "      <th>25%</th>\n",
              "      <td>117.00000</td>\n",
              "      <td>74.500000</td>\n",
              "      <td>23.020000</td>\n",
              "      <td>68.000000</td>\n",
              "      <td>71.000000</td>\n",
              "    </tr>\n",
              "    <tr>\n",
              "      <th>50%</th>\n",
              "      <td>128.50000</td>\n",
              "      <td>82.000000</td>\n",
              "      <td>25.380000</td>\n",
              "      <td>75.000000</td>\n",
              "      <td>78.000000</td>\n",
              "    </tr>\n",
              "    <tr>\n",
              "      <th>75%</th>\n",
              "      <td>144.00000</td>\n",
              "      <td>90.000000</td>\n",
              "      <td>28.040000</td>\n",
              "      <td>83.000000</td>\n",
              "      <td>87.000000</td>\n",
              "    </tr>\n",
              "    <tr>\n",
              "      <th>max</th>\n",
              "      <td>295.00000</td>\n",
              "      <td>142.500000</td>\n",
              "      <td>56.800000</td>\n",
              "      <td>143.000000</td>\n",
              "      <td>394.000000</td>\n",
              "    </tr>\n",
              "  </tbody>\n",
              "</table>\n",
              "</div>"
            ],
            "text/plain": [
              "            sysBP        diaBP          BMI    heartRate      glucose\n",
              "count  3390.00000  3390.000000  3376.000000  3389.000000  3086.000000\n",
              "mean    132.60118    82.883038    25.794964    75.977279    82.086520\n",
              "std      22.29203    12.023581     4.115449    11.971868    24.244753\n",
              "min      83.50000    48.000000    15.960000    45.000000    40.000000\n",
              "25%     117.00000    74.500000    23.020000    68.000000    71.000000\n",
              "50%     128.50000    82.000000    25.380000    75.000000    78.000000\n",
              "75%     144.00000    90.000000    28.040000    83.000000    87.000000\n",
              "max     295.00000   142.500000    56.800000   143.000000   394.000000"
            ]
          },
          "metadata": {},
          "execution_count": 17
        }
      ]
    },
    {
      "cell_type": "code",
      "source": [
        "plt.figure(figsize=(9,4))\n",
        "plt.subplot(1,2,1)\n",
        "sns.violinplot(data=data,y='sysBP')\n",
        "plt.title(\"Systolic\")\n",
        "plt.subplot(1,2,2)\n",
        "sns.violinplot(data=data,y='diaBP',)\n",
        "plt.title(\"Diastolic\")\n",
        "#plt.legends()\n",
        "plt.show()"
      ],
      "metadata": {
        "colab": {
          "base_uri": "https://localhost:8080/",
          "height": 268
        },
        "id": "lZP1ZPheII4i",
        "outputId": "a890b7eb-3528-4c47-b764-02638f3e7767"
      },
      "execution_count": 18,
      "outputs": [
        {
          "output_type": "display_data",
          "data": {
            "image/png": "[encoded data removed]",
            "text/plain": [
              "<Figure size 648x288 with 2 Axes>"
            ]
          },
          "metadata": {
            "needs_background": "light"
          }
        }
      ]
    },
    {
      "cell_type": "code",
      "source": [
        "data.columns"
      ],
      "metadata": {
        "colab": {
          "base_uri": "https://localhost:8080/"
        },
        "id": "J5iX7kT6CCRH",
        "outputId": "f6f2932a-6602-45c1-daa7-10aac1b4a59f"
      },
      "execution_count": 19,
      "outputs": [
        {
          "output_type": "execute_result",
          "data": {
            "text/plain": [
              "Index(['age', 'education', 'sex', 'is_smoking', 'cigsPerDay', 'BPMeds',\n",
              "       'prevalentStroke', 'prevalentHyp', 'diabetes', 'totChol', 'sysBP',\n",
              "       'diaBP', 'BMI', 'heartRate', 'glucose', 'TenYearCHD'],\n",
              "      dtype='object')"
            ]
          },
          "metadata": {},
          "execution_count": 19
        }
      ]
    },
    {
      "cell_type": "code",
      "source": [
        "data[data['sysBP']==max(data['sysBP'])]"
      ],
      "metadata": {
        "colab": {
          "base_uri": "https://localhost:8080/",
          "height": 101
        },
        "id": "Sx7XnzO8EVhM",
        "outputId": "c3233385-bdf2-4263-f4b6-27d9fdf6c11a"
      },
      "execution_count": 20,
      "outputs": [
        {
          "output_type": "execute_result",
          "data": {
            "text/html": [
              "<div>\n",
              "<style scoped>\n",
              "    .dataframe tbody tr th:only-of-type {\n",
              "        vertical-align: middle;\n",
              "    }\n",
              "\n",
              "    .dataframe tbody tr th {\n",
              "        vertical-align: top;\n",
              "    }\n",
              "\n",
              "    .dataframe thead th {\n",
              "        text-align: right;\n",
              "    }\n",
              "</style>\n",
              "<table border=\"1\" class=\"dataframe\">\n",
              "  <thead>\n",
              "    <tr style=\"text-align: right;\">\n",
              "      <th></th>\n",
              "      <th>age</th>\n",
              "      <th>education</th>\n",
              "      <th>sex</th>\n",
              "      <th>is_smoking</th>\n",
              "      <th>cigsPerDay</th>\n",
              "      <th>BPMeds</th>\n",
              "      <th>prevalentStroke</th>\n",
              "      <th>prevalentHyp</th>\n",
              "      <th>diabetes</th>\n",
              "      <th>totChol</th>\n",
              "      <th>sysBP</th>\n",
              "      <th>diaBP</th>\n",
              "      <th>BMI</th>\n",
              "      <th>heartRate</th>\n",
              "      <th>glucose</th>\n",
              "      <th>TenYearCHD</th>\n",
              "    </tr>\n",
              "  </thead>\n",
              "  <tbody>\n",
              "    <tr>\n",
              "      <th>1941</th>\n",
              "      <td>64</td>\n",
              "      <td>1.0</td>\n",
              "      <td>F</td>\n",
              "      <td>NO</td>\n",
              "      <td>0.0</td>\n",
              "      <td>0.0</td>\n",
              "      <td>0</td>\n",
              "      <td>1</td>\n",
              "      <td>0</td>\n",
              "      <td>253.0</td>\n",
              "      <td>295.0</td>\n",
              "      <td>135.0</td>\n",
              "      <td>38.82</td>\n",
              "      <td>92.0</td>\n",
              "      <td>70.0</td>\n",
              "      <td>1</td>\n",
              "    </tr>\n",
              "  </tbody>\n",
              "</table>\n",
              "</div>"
            ],
            "text/plain": [
              "      age  education sex is_smoking  ...    BMI  heartRate  glucose  TenYearCHD\n",
              "1941   64        1.0   F         NO  ...  38.82       92.0     70.0           1\n",
              "\n",
              "[1 rows x 16 columns]"
            ]
          },
          "metadata": {},
          "execution_count": 20
        }
      ]
    },
    {
      "cell_type": "code",
      "source": [
        "#sns.distplot(data['glucose']);\n",
        "plt.figure(figsize=(9,4))\n",
        "plt.subplot(1,2,1)\n",
        "sns.distplot(data[data['TenYearCHD']==0]['glucose']);\n",
        "plt.title(\"Not Affected\")\n",
        "plt.subplot(1,2,2)\n",
        "sns.distplot(data[data['TenYearCHD']==1]['glucose']);\n",
        "plt.title(\"Affected\")\n",
        "#plt.legends()\n",
        "plt.show()"
      ],
      "metadata": {
        "colab": {
          "base_uri": "https://localhost:8080/",
          "height": 295
        },
        "id": "rpXn6Y0cc799",
        "outputId": "3bdd3d48-c071-407a-b945-a9ce3d210916"
      },
      "execution_count": 21,
      "outputs": [
        {
          "output_type": "display_data",
          "data": {
            "image/png": "[encoded data removed]",
            "text/plain": [
              "<Figure size 648x288 with 2 Axes>"
            ]
          },
          "metadata": {
            "needs_background": "light"
          }
        }
      ]
    },
    {
      "cell_type": "code",
      "source": [
        "#sns.distplot(data['glucose']);\n",
        "plt.figure(figsize=(9,4))\n",
        "plt.subplot(1,2,1)\n",
        "sns.distplot(data[data['TenYearCHD']==0]['heartRate']);\n",
        "plt.title(\"Not Affected\")\n",
        "plt.subplot(1,2,2)\n",
        "sns.distplot(data[data['TenYearCHD']==1]['heartRate']);\n",
        "plt.title(\"Affected\")\n",
        "#plt.legends()\n",
        "plt.show()"
      ],
      "metadata": {
        "colab": {
          "base_uri": "https://localhost:8080/",
          "height": 295
        },
        "id": "S2cw-ro3c76m",
        "outputId": "468b249d-2fc4-487a-96a7-44038f660cc6"
      },
      "execution_count": 22,
      "outputs": [
        {
          "output_type": "display_data",
          "data": {
            "image/png": "[encoded data removed]",
            "text/plain": [
              "<Figure size 648x288 with 2 Axes>"
            ]
          },
          "metadata": {
            "needs_background": "light"
          }
        }
      ]
    },
    {
      "cell_type": "code",
      "source": [
        ""
      ],
      "metadata": {
        "id": "YVNfXMf9ofq9"
      },
      "execution_count": 22,
      "outputs": []
    },
    {
      "cell_type": "code",
      "source": [
        ""
      ],
      "metadata": {
        "id": "92C_YfAw6UfS"
      },
      "execution_count": 22,
      "outputs": []
    },
    {
      "cell_type": "code",
      "source": [
        ""
      ],
      "metadata": {
        "id": "mAHyive56Ubt"
      },
      "execution_count": 22,
      "outputs": []
    },
    {
      "cell_type": "code",
      "source": [
        ""
      ],
      "metadata": {
        "id": "DuQ6SVpE6UYX"
      },
      "execution_count": 22,
      "outputs": []
    },
    {
      "cell_type": "markdown",
      "source": [
        "Handling Null Values"
      ],
      "metadata": {
        "id": "xj3k879gpmgF"
      }
    },
    {
      "cell_type": "code",
      "source": [
        "# Imputed null values with mode\n",
        "data['BPMeds']=data['BPMeds'].fillna(s.mode(data['BPMeds']))"
      ],
      "metadata": {
        "id": "EHWQyuFulWRQ"
      },
      "execution_count": 23,
      "outputs": []
    },
    {
      "cell_type": "code",
      "source": [
        "sns.distplot(data['totChol']);"
      ],
      "metadata": {
        "colab": {
          "base_uri": "https://localhost:8080/",
          "height": 281
        },
        "id": "FM-KZZ7ClWN4",
        "outputId": "de33e153-86b9-4674-de3b-050ba92d6f75"
      },
      "execution_count": 24,
      "outputs": [
        {
          "output_type": "display_data",
          "data": {
            "image/png": "[encoded data removed]",
            "text/plain": [
              "<Figure size 432x288 with 1 Axes>"
            ]
          },
          "metadata": {
            "needs_background": "light"
          }
        }
      ]
    },
    {
      "cell_type": "code",
      "source": [
        "# Less than 400 almost Normal, impute with mean\n",
        "data['totChol']=data['totChol'].fillna(np.mean(data[data['totChol']<=400]['totChol']))"
      ],
      "metadata": {
        "id": "AzlZ2L26o1-Y"
      },
      "execution_count": 25,
      "outputs": []
    },
    {
      "cell_type": "code",
      "source": [
        "sns.distplot(data['BMI']);"
      ],
      "metadata": {
        "colab": {
          "base_uri": "https://localhost:8080/",
          "height": 279
        },
        "id": "PC41J4BEp1yq",
        "outputId": "12b53ceb-95e9-45ba-e4ab-03113acf7241"
      },
      "execution_count": 26,
      "outputs": [
        {
          "output_type": "display_data",
          "data": {
            "image/png": "[encoded data removed]",
            "text/plain": [
              "<Figure size 432x288 with 1 Axes>"
            ]
          },
          "metadata": {
            "needs_background": "light"
          }
        }
      ]
    },
    {
      "cell_type": "code",
      "source": [
        "# Less than 36 almost Normal, impute with mean\n",
        "data['BMI']=data['BMI'].fillna(np.mean(data[data['BMI']<=36]['BMI']))"
      ],
      "metadata": {
        "id": "rxR5vE-0qPAd"
      },
      "execution_count": 27,
      "outputs": []
    },
    {
      "cell_type": "code",
      "source": [
        "## CigsPerDay 22 nulls needs imputation as is_smoking is yes all 22 records\n",
        "data[(data.cigsPerDay.isna()) & (data.is_smoking!='YES')]"
      ],
      "metadata": {
        "colab": {
          "base_uri": "https://localhost:8080/",
          "height": 69
        },
        "id": "YJEjyZ2ldMsy",
        "outputId": "d700a652-2ba9-4f0c-9032-e58987d8e8f1"
      },
      "execution_count": 28,
      "outputs": [
        {
          "output_type": "execute_result",
          "data": {
            "text/html": [
              "<div>\n",
              "<style scoped>\n",
              "    .dataframe tbody tr th:only-of-type {\n",
              "        vertical-align: middle;\n",
              "    }\n",
              "\n",
              "    .dataframe tbody tr th {\n",
              "        vertical-align: top;\n",
              "    }\n",
              "\n",
              "    .dataframe thead th {\n",
              "        text-align: right;\n",
              "    }\n",
              "</style>\n",
              "<table border=\"1\" class=\"dataframe\">\n",
              "  <thead>\n",
              "    <tr style=\"text-align: right;\">\n",
              "      <th></th>\n",
              "      <th>age</th>\n",
              "      <th>education</th>\n",
              "      <th>sex</th>\n",
              "      <th>is_smoking</th>\n",
              "      <th>cigsPerDay</th>\n",
              "      <th>BPMeds</th>\n",
              "      <th>prevalentStroke</th>\n",
              "      <th>prevalentHyp</th>\n",
              "      <th>diabetes</th>\n",
              "      <th>totChol</th>\n",
              "      <th>sysBP</th>\n",
              "      <th>diaBP</th>\n",
              "      <th>BMI</th>\n",
              "      <th>heartRate</th>\n",
              "      <th>glucose</th>\n",
              "      <th>TenYearCHD</th>\n",
              "    </tr>\n",
              "  </thead>\n",
              "  <tbody>\n",
              "  </tbody>\n",
              "</table>\n",
              "</div>"
            ],
            "text/plain": [
              "Empty DataFrame\n",
              "Columns: [age, education, sex, is_smoking, cigsPerDay, BPMeds, prevalentStroke, prevalentHyp, diabetes, totChol, sysBP, diaBP, BMI, heartRate, glucose, TenYearCHD]\n",
              "Index: []"
            ]
          },
          "metadata": {},
          "execution_count": 28
        }
      ]
    },
    {
      "cell_type": "code",
      "source": [
        "#data['cigsPerDay'].value_counts()\n",
        "\n",
        "sns.histplot(data[data['cigsPerDay']!=0]['cigsPerDay'],bins=30);\n",
        "## Bar plot gives an idea about what count of cigsperday is observed in more numbers"
      ],
      "metadata": {
        "colab": {
          "base_uri": "https://localhost:8080/",
          "height": 279
        },
        "id": "o9CzkG1BqsAz",
        "outputId": "8abcc9e6-630b-419f-b7ed-0c23767adeab"
      },
      "execution_count": 29,
      "outputs": [
        {
          "output_type": "display_data",
          "data": {
            "image/png": "[encoded data removed]",
            "text/plain": [
              "<Figure size 432x288 with 1 Axes>"
            ]
          },
          "metadata": {
            "needs_background": "light"
          }
        }
      ]
    },
    {
      "cell_type": "code",
      "source": [
        "data['cigsPerDay']=data['cigsPerDay'].fillna(np.random.randint(5,30))"
      ],
      "metadata": {
        "id": "HUz2sbnIx-Lg"
      },
      "execution_count": 30,
      "outputs": []
    },
    {
      "cell_type": "code",
      "source": [
        "data['heartRate']=data['heartRate'].fillna(np.mean(data['heartRate']))"
      ],
      "metadata": {
        "id": "3DQjoiK6zOg5"
      },
      "execution_count": 31,
      "outputs": []
    },
    {
      "cell_type": "code",
      "source": [
        "data.head()"
      ],
      "metadata": {
        "colab": {
          "base_uri": "https://localhost:8080/",
          "height": 226
        },
        "id": "G8gVvu_X3xog",
        "outputId": "c04f65a5-b69a-4979-f3c6-f92df4f2fbbd"
      },
      "execution_count": 32,
      "outputs": [
        {
          "output_type": "execute_result",
          "data": {
            "text/html": [
              "<div>\n",
              "<style scoped>\n",
              "    .dataframe tbody tr th:only-of-type {\n",
              "        vertical-align: middle;\n",
              "    }\n",
              "\n",
              "    .dataframe tbody tr th {\n",
              "        vertical-align: top;\n",
              "    }\n",
              "\n",
              "    .dataframe thead th {\n",
              "        text-align: right;\n",
              "    }\n",
              "</style>\n",
              "<table border=\"1\" class=\"dataframe\">\n",
              "  <thead>\n",
              "    <tr style=\"text-align: right;\">\n",
              "      <th></th>\n",
              "      <th>age</th>\n",
              "      <th>education</th>\n",
              "      <th>sex</th>\n",
              "      <th>is_smoking</th>\n",
              "      <th>cigsPerDay</th>\n",
              "      <th>BPMeds</th>\n",
              "      <th>prevalentStroke</th>\n",
              "      <th>prevalentHyp</th>\n",
              "      <th>diabetes</th>\n",
              "      <th>totChol</th>\n",
              "      <th>sysBP</th>\n",
              "      <th>diaBP</th>\n",
              "      <th>BMI</th>\n",
              "      <th>heartRate</th>\n",
              "      <th>glucose</th>\n",
              "      <th>TenYearCHD</th>\n",
              "    </tr>\n",
              "  </thead>\n",
              "  <tbody>\n",
              "    <tr>\n",
              "      <th>0</th>\n",
              "      <td>64</td>\n",
              "      <td>2.0</td>\n",
              "      <td>F</td>\n",
              "      <td>YES</td>\n",
              "      <td>3.0</td>\n",
              "      <td>0.0</td>\n",
              "      <td>0</td>\n",
              "      <td>0</td>\n",
              "      <td>0</td>\n",
              "      <td>221.0</td>\n",
              "      <td>148.0</td>\n",
              "      <td>85.0</td>\n",
              "      <td>25.500835</td>\n",
              "      <td>90.0</td>\n",
              "      <td>80.0</td>\n",
              "      <td>1</td>\n",
              "    </tr>\n",
              "    <tr>\n",
              "      <th>1</th>\n",
              "      <td>36</td>\n",
              "      <td>4.0</td>\n",
              "      <td>M</td>\n",
              "      <td>NO</td>\n",
              "      <td>0.0</td>\n",
              "      <td>0.0</td>\n",
              "      <td>0</td>\n",
              "      <td>1</td>\n",
              "      <td>0</td>\n",
              "      <td>212.0</td>\n",
              "      <td>168.0</td>\n",
              "      <td>98.0</td>\n",
              "      <td>29.770000</td>\n",
              "      <td>72.0</td>\n",
              "      <td>75.0</td>\n",
              "      <td>0</td>\n",
              "    </tr>\n",
              "    <tr>\n",
              "      <th>2</th>\n",
              "      <td>46</td>\n",
              "      <td>1.0</td>\n",
              "      <td>F</td>\n",
              "      <td>YES</td>\n",
              "      <td>10.0</td>\n",
              "      <td>0.0</td>\n",
              "      <td>0</td>\n",
              "      <td>0</td>\n",
              "      <td>0</td>\n",
              "      <td>250.0</td>\n",
              "      <td>116.0</td>\n",
              "      <td>71.0</td>\n",
              "      <td>20.350000</td>\n",
              "      <td>88.0</td>\n",
              "      <td>94.0</td>\n",
              "      <td>0</td>\n",
              "    </tr>\n",
              "    <tr>\n",
              "      <th>3</th>\n",
              "      <td>50</td>\n",
              "      <td>1.0</td>\n",
              "      <td>M</td>\n",
              "      <td>YES</td>\n",
              "      <td>20.0</td>\n",
              "      <td>0.0</td>\n",
              "      <td>0</td>\n",
              "      <td>1</td>\n",
              "      <td>0</td>\n",
              "      <td>233.0</td>\n",
              "      <td>158.0</td>\n",
              "      <td>88.0</td>\n",
              "      <td>28.260000</td>\n",
              "      <td>68.0</td>\n",
              "      <td>94.0</td>\n",
              "      <td>1</td>\n",
              "    </tr>\n",
              "    <tr>\n",
              "      <th>4</th>\n",
              "      <td>64</td>\n",
              "      <td>1.0</td>\n",
              "      <td>F</td>\n",
              "      <td>YES</td>\n",
              "      <td>30.0</td>\n",
              "      <td>0.0</td>\n",
              "      <td>0</td>\n",
              "      <td>0</td>\n",
              "      <td>0</td>\n",
              "      <td>241.0</td>\n",
              "      <td>136.5</td>\n",
              "      <td>85.0</td>\n",
              "      <td>26.420000</td>\n",
              "      <td>70.0</td>\n",
              "      <td>77.0</td>\n",
              "      <td>0</td>\n",
              "    </tr>\n",
              "  </tbody>\n",
              "</table>\n",
              "</div>"
            ],
            "text/plain": [
              "   age  education sex is_smoking  ...        BMI  heartRate  glucose  TenYearCHD\n",
              "0   64        2.0   F        YES  ...  25.500835       90.0     80.0           1\n",
              "1   36        4.0   M         NO  ...  29.770000       72.0     75.0           0\n",
              "2   46        1.0   F        YES  ...  20.350000       88.0     94.0           0\n",
              "3   50        1.0   M        YES  ...  28.260000       68.0     94.0           1\n",
              "4   64        1.0   F        YES  ...  26.420000       70.0     77.0           0\n",
              "\n",
              "[5 rows x 16 columns]"
            ]
          },
          "metadata": {},
          "execution_count": 32
        }
      ]
    },
    {
      "cell_type": "code",
      "source": [
        "# Encoding this categorical to prepare data for KNN impute\n",
        "data['is_smoking']=data['is_smoking'].apply(lambda x:1 if x=='YES' else 0)\n",
        "data['sex']=data['sex'].apply(lambda x:1 if x=='M' else 0)"
      ],
      "metadata": {
        "id": "EOIOHSLL3dRC"
      },
      "execution_count": 33,
      "outputs": []
    },
    {
      "cell_type": "code",
      "source": [
        "#data[data['glucose'].isna()]\n",
        "# define imputer\n",
        "imputer = KNNImputer(n_neighbors=10, weights='uniform', metric='nan_euclidean')"
      ],
      "metadata": {
        "id": "vbTyTU7h2bQ5"
      },
      "execution_count": 34,
      "outputs": []
    },
    {
      "cell_type": "code",
      "source": [
        "# fit on the dataset\n",
        "imputer.fit(data)"
      ],
      "metadata": {
        "colab": {
          "base_uri": "https://localhost:8080/"
        },
        "id": "7RyrtZIb3NoI",
        "outputId": "30ad9277-1d48-40e8-f788-5521b81b3054"
      },
      "execution_count": 35,
      "outputs": [
        {
          "output_type": "execute_result",
          "data": {
            "text/plain": [
              "KNNImputer(n_neighbors=10)"
            ]
          },
          "metadata": {},
          "execution_count": 35
        }
      ]
    },
    {
      "cell_type": "code",
      "source": [
        "# transform the dataset\n",
        "data_trans = pd.DataFrame(imputer.transform(data),columns=data.columns)"
      ],
      "metadata": {
        "id": "v4fW4HKI3Nkl"
      },
      "execution_count": 36,
      "outputs": []
    },
    {
      "cell_type": "code",
      "source": [
        "data_trans.isna().sum().sum()"
      ],
      "metadata": {
        "colab": {
          "base_uri": "https://localhost:8080/"
        },
        "id": "_6ttPKvO5AJf",
        "outputId": "49dfc398-1a3a-49d0-d45f-f9973610523c"
      },
      "execution_count": 37,
      "outputs": [
        {
          "output_type": "execute_result",
          "data": {
            "text/plain": [
              "0"
            ]
          },
          "metadata": {},
          "execution_count": 37
        }
      ]
    },
    {
      "cell_type": "code",
      "source": [
        ""
      ],
      "metadata": {
        "id": "RAewyYqe6UVv"
      },
      "execution_count": 37,
      "outputs": []
    },
    {
      "cell_type": "code",
      "source": [
        "data_trans.head()"
      ],
      "metadata": {
        "colab": {
          "base_uri": "https://localhost:8080/",
          "height": 226
        },
        "id": "z8q6nb2ONa-H",
        "outputId": "4ca08d5f-67f6-4a68-aa0e-eece75eb31e4"
      },
      "execution_count": 39,
      "outputs": [
        {
          "output_type": "execute_result",
          "data": {
            "text/html": [
              "<div>\n",
              "<style scoped>\n",
              "    .dataframe tbody tr th:only-of-type {\n",
              "        vertical-align: middle;\n",
              "    }\n",
              "\n",
              "    .dataframe tbody tr th {\n",
              "        vertical-align: top;\n",
              "    }\n",
              "\n",
              "    .dataframe thead th {\n",
              "        text-align: right;\n",
              "    }\n",
              "</style>\n",
              "<table border=\"1\" class=\"dataframe\">\n",
              "  <thead>\n",
              "    <tr style=\"text-align: right;\">\n",
              "      <th></th>\n",
              "      <th>age</th>\n",
              "      <th>education</th>\n",
              "      <th>sex</th>\n",
              "      <th>is_smoking</th>\n",
              "      <th>cigsPerDay</th>\n",
              "      <th>BPMeds</th>\n",
              "      <th>prevalentStroke</th>\n",
              "      <th>prevalentHyp</th>\n",
              "      <th>diabetes</th>\n",
              "      <th>totChol</th>\n",
              "      <th>sysBP</th>\n",
              "      <th>diaBP</th>\n",
              "      <th>BMI</th>\n",
              "      <th>heartRate</th>\n",
              "      <th>glucose</th>\n",
              "      <th>TenYearCHD</th>\n",
              "    </tr>\n",
              "  </thead>\n",
              "  <tbody>\n",
              "    <tr>\n",
              "      <th>0</th>\n",
              "      <td>64.0</td>\n",
              "      <td>2.0</td>\n",
              "      <td>0.0</td>\n",
              "      <td>1.0</td>\n",
              "      <td>3.0</td>\n",
              "      <td>0.0</td>\n",
              "      <td>0.0</td>\n",
              "      <td>0.0</td>\n",
              "      <td>0.0</td>\n",
              "      <td>221.0</td>\n",
              "      <td>148.0</td>\n",
              "      <td>85.0</td>\n",
              "      <td>25.500835</td>\n",
              "      <td>90.0</td>\n",
              "      <td>80.0</td>\n",
              "      <td>1.0</td>\n",
              "    </tr>\n",
              "    <tr>\n",
              "      <th>1</th>\n",
              "      <td>36.0</td>\n",
              "      <td>4.0</td>\n",
              "      <td>1.0</td>\n",
              "      <td>0.0</td>\n",
              "      <td>0.0</td>\n",
              "      <td>0.0</td>\n",
              "      <td>0.0</td>\n",
              "      <td>1.0</td>\n",
              "      <td>0.0</td>\n",
              "      <td>212.0</td>\n",
              "      <td>168.0</td>\n",
              "      <td>98.0</td>\n",
              "      <td>29.770000</td>\n",
              "      <td>72.0</td>\n",
              "      <td>75.0</td>\n",
              "      <td>0.0</td>\n",
              "    </tr>\n",
              "    <tr>\n",
              "      <th>2</th>\n",
              "      <td>46.0</td>\n",
              "      <td>1.0</td>\n",
              "      <td>0.0</td>\n",
              "      <td>1.0</td>\n",
              "      <td>10.0</td>\n",
              "      <td>0.0</td>\n",
              "      <td>0.0</td>\n",
              "      <td>0.0</td>\n",
              "      <td>0.0</td>\n",
              "      <td>250.0</td>\n",
              "      <td>116.0</td>\n",
              "      <td>71.0</td>\n",
              "      <td>20.350000</td>\n",
              "      <td>88.0</td>\n",
              "      <td>94.0</td>\n",
              "      <td>0.0</td>\n",
              "    </tr>\n",
              "    <tr>\n",
              "      <th>3</th>\n",
              "      <td>50.0</td>\n",
              "      <td>1.0</td>\n",
              "      <td>1.0</td>\n",
              "      <td>1.0</td>\n",
              "      <td>20.0</td>\n",
              "      <td>0.0</td>\n",
              "      <td>0.0</td>\n",
              "      <td>1.0</td>\n",
              "      <td>0.0</td>\n",
              "      <td>233.0</td>\n",
              "      <td>158.0</td>\n",
              "      <td>88.0</td>\n",
              "      <td>28.260000</td>\n",
              "      <td>68.0</td>\n",
              "      <td>94.0</td>\n",
              "      <td>1.0</td>\n",
              "    </tr>\n",
              "    <tr>\n",
              "      <th>4</th>\n",
              "      <td>64.0</td>\n",
              "      <td>1.0</td>\n",
              "      <td>0.0</td>\n",
              "      <td>1.0</td>\n",
              "      <td>30.0</td>\n",
              "      <td>0.0</td>\n",
              "      <td>0.0</td>\n",
              "      <td>0.0</td>\n",
              "      <td>0.0</td>\n",
              "      <td>241.0</td>\n",
              "      <td>136.5</td>\n",
              "      <td>85.0</td>\n",
              "      <td>26.420000</td>\n",
              "      <td>70.0</td>\n",
              "      <td>77.0</td>\n",
              "      <td>0.0</td>\n",
              "    </tr>\n",
              "  </tbody>\n",
              "</table>\n",
              "</div>"
            ],
            "text/plain": [
              "    age  education  sex  is_smoking  ...        BMI  heartRate  glucose  TenYearCHD\n",
              "0  64.0        2.0  0.0         1.0  ...  25.500835       90.0     80.0         1.0\n",
              "1  36.0        4.0  1.0         0.0  ...  29.770000       72.0     75.0         0.0\n",
              "2  46.0        1.0  0.0         1.0  ...  20.350000       88.0     94.0         0.0\n",
              "3  50.0        1.0  1.0         1.0  ...  28.260000       68.0     94.0         1.0\n",
              "4  64.0        1.0  0.0         1.0  ...  26.420000       70.0     77.0         0.0\n",
              "\n",
              "[5 rows x 16 columns]"
            ]
          },
          "metadata": {},
          "execution_count": 39
        }
      ]
    },
    {
      "cell_type": "code",
      "source": [
        "#### Tasks to be done Apply Logistic and other model to check"
      ],
      "metadata": {
        "id": "ORcvJAum6UQf"
      },
      "execution_count": 39,
      "outputs": []
    },
    {
      "cell_type": "code",
      "source": [
        "data=data_trans.copy()"
      ],
      "metadata": {
        "id": "d0gIdHgr6UN0"
      },
      "execution_count": 40,
      "outputs": []
    },
    {
      "cell_type": "code",
      "source": [
        "X=data.iloc[:,0:-1]\n",
        "y=data.iloc[:,-1]"
      ],
      "metadata": {
        "id": "5fa1dmVNc735"
      },
      "execution_count": 41,
      "outputs": []
    },
    {
      "cell_type": "code",
      "source": [
        "from sklearn.model_selection import train_test_split\n",
        "from sklearn.linear_model import LogisticRegressionCV,LogisticRegression\n",
        "from sklearn.model_selection import cross_validate,RepeatedStratifiedKFold,cross_val_score\n",
        "from sklearn.metrics import accuracy_score, confusion_matrix"
      ],
      "metadata": {
        "id": "zq5ilnXoiAFg"
      },
      "execution_count": 42,
      "outputs": []
    },
    {
      "cell_type": "code",
      "source": [
        "##import imblearn\n",
        "##sample=SMOTE()"
      ],
      "metadata": {
        "id": "lvVMN3SSc71c"
      },
      "execution_count": 43,
      "outputs": []
    },
    {
      "cell_type": "code",
      "source": [
        ""
      ],
      "metadata": {
        "id": "EK6wfC8ec7yr"
      },
      "execution_count": 43,
      "outputs": []
    },
    {
      "cell_type": "code",
      "source": [
        "X_train,X_test,y_train,y_test=train_test_split(X,y)"
      ],
      "metadata": {
        "id": "yXHRFP4x-vC_"
      },
      "execution_count": 44,
      "outputs": []
    },
    {
      "cell_type": "code",
      "source": [
        "from sklearn.preprocessing import StandardScaler\n",
        "sc = StandardScaler()\n",
        "X_train = sc.fit_transform(X_train)\n",
        "X_test = sc.transform(X_test)"
      ],
      "metadata": {
        "id": "0ixfbdjlOSSf"
      },
      "execution_count": 45,
      "outputs": []
    },
    {
      "cell_type": "code",
      "source": [
        "weights={0:0.15,1:0.85}"
      ],
      "metadata": {
        "id": "W4FlL8QfZpaR"
      },
      "execution_count": 46,
      "outputs": []
    },
    {
      "cell_type": "code",
      "source": [
        "#logistic = LogisticRegression(C=10.0,class_weight='balanced',penalty='l2',random_state=30, solver='lbfgs',)\n",
        "#logistic = LogisticRegression(C=10.0,class_weight=weights,penalty='l2',random_state=30, solver='lbfgs',)\n",
        "logistic = LogisticRegression(C=10.0,penalty='l2',random_state=30, solver='lbfgs',)"
      ],
      "metadata": {
        "id": "G-Hlao6PkK1n"
      },
      "execution_count": 46,
      "outputs": []
    },
    {
      "cell_type": "code",
      "source": [
        "# C=1.0, class_weight=None, dual=False, fit_intercept=True,\n",
        "#                     intercept_scaling=1, l1_ratio=None, max_iter=100,\n",
        "#                     multi_class='auto', n_jobs=None, penalty='l2',\n",
        "#                     random_state=None, solver='lbfgs', tol=0.0001, verbose=0,\n",
        "#                     warm_start=False"
      ],
      "metadata": {
        "id": "tcHFbAgXXdc5"
      },
      "execution_count": 47,
      "outputs": []
    },
    {
      "cell_type": "code",
      "source": [
        "logistic"
      ],
      "metadata": {
        "colab": {
          "base_uri": "https://localhost:8080/"
        },
        "id": "v1cAWaZ6X50s",
        "outputId": "037fe6f8-82b8-40ea-c565-622aabe88367"
      },
      "execution_count": 48,
      "outputs": [
        {
          "output_type": "execute_result",
          "data": {
            "text/plain": [
              "LogisticRegression(C=10.0, random_state=30)"
            ]
          },
          "metadata": {},
          "execution_count": 48
        }
      ]
    },
    {
      "cell_type": "code",
      "source": [
        "#The “balanced” mode uses the values of y to automatically adjust weights inversely proportional to class \n",
        "#frequencies in the input data as n_samples / (n_classes * np.bincount(y)).\n",
        "\n",
        "#Note that these weights will be multiplied with sample_weight (passed through the fit method) if sample_weight is specified."
      ],
      "metadata": {
        "id": "JNT8JaiEkKyB"
      },
      "execution_count": 49,
      "outputs": []
    },
    {
      "cell_type": "code",
      "source": [
        ""
      ],
      "metadata": {
        "id": "dlwmpByucnlL"
      },
      "execution_count": 49,
      "outputs": []
    },
    {
      "cell_type": "code",
      "source": [
        "scoring = ['roc_auc']\n",
        "scores = cross_validate(logistic,X_train, y_train, scoring = scoring, cv = 5, return_train_score=True,return_estimator=True,verbose = 10)"
      ],
      "metadata": {
        "colab": {
          "base_uri": "https://localhost:8080/"
        },
        "id": "H8Y2KGjYkKvC",
        "outputId": "a5de3ff6-7a9b-4f93-e8ad-7a647ae057d3"
      },
      "execution_count": 50,
      "outputs": [
        {
          "output_type": "stream",
          "name": "stdout",
          "text": [
            "[CV] START .....................................................................\n",
            "[CV] END ................. roc_auc: (train=0.739, test=0.729) total time=   0.0s\n",
            "[CV] START .....................................................................\n",
            "[CV] END ................. roc_auc: (train=0.733, test=0.755) total time=   0.0s\n",
            "[CV] START .....................................................................\n",
            "[CV] END ................. roc_auc: (train=0.749, test=0.687) total time=   0.0s\n",
            "[CV] START .....................................................................\n",
            "[CV] END ................. roc_auc: (train=0.738, test=0.732) total time=   0.0s\n",
            "[CV] START .....................................................................\n",
            "[CV] END ................. roc_auc: (train=0.741, test=0.713) total time=   0.0s\n"
          ]
        },
        {
          "output_type": "stream",
          "name": "stderr",
          "text": [
            "[Parallel(n_jobs=1)]: Using backend SequentialBackend with 1 concurrent workers.\n",
            "[Parallel(n_jobs=1)]: Done   1 out of   1 | elapsed:    0.0s remaining:    0.0s\n",
            "[Parallel(n_jobs=1)]: Done   2 out of   2 | elapsed:    0.1s remaining:    0.0s\n",
            "[Parallel(n_jobs=1)]: Done   3 out of   3 | elapsed:    0.1s remaining:    0.0s\n",
            "[Parallel(n_jobs=1)]: Done   4 out of   4 | elapsed:    0.1s remaining:    0.0s\n",
            "[Parallel(n_jobs=1)]: Done   5 out of   5 | elapsed:    0.1s remaining:    0.0s\n",
            "[Parallel(n_jobs=1)]: Done   5 out of   5 | elapsed:    0.1s finished\n"
          ]
        }
      ]
    },
    {
      "cell_type": "code",
      "source": [
        "scores"
      ],
      "metadata": {
        "colab": {
          "base_uri": "https://localhost:8080/"
        },
        "id": "llGdlc8JBuWG",
        "outputId": "70889cb6-591e-4e1b-b386-36b1592067db"
      },
      "execution_count": 51,
      "outputs": [
        {
          "output_type": "execute_result",
          "data": {
            "text/plain": [
              "{'estimator': [LogisticRegression(C=10.0, random_state=30),\n",
              "  LogisticRegression(C=10.0, random_state=30),\n",
              "  LogisticRegression(C=10.0, random_state=30),\n",
              "  LogisticRegression(C=10.0, random_state=30),\n",
              "  LogisticRegression(C=10.0, random_state=30)],\n",
              " 'fit_time': array([0.02375269, 0.01432157, 0.01425982, 0.02417254, 0.02112341]),\n",
              " 'score_time': array([0.00261712, 0.0030756 , 0.00349379, 0.0025804 , 0.00251555]),\n",
              " 'test_roc_auc': array([0.72862554, 0.75548813, 0.68716666, 0.73224455, 0.71283936]),\n",
              " 'train_roc_auc': array([0.73871819, 0.73341991, 0.74872848, 0.73802354, 0.7408508 ])}"
            ]
          },
          "metadata": {},
          "execution_count": 51
        }
      ]
    },
    {
      "cell_type": "code",
      "source": [
        "#scores['train_accuracy']"
      ],
      "metadata": {
        "id": "8AF9FdSLABj3"
      },
      "execution_count": 53,
      "outputs": []
    },
    {
      "cell_type": "code",
      "source": [
        "#scores['test_accuracy']"
      ],
      "metadata": {
        "id": "ItdyJjDvkKst"
      },
      "execution_count": 54,
      "outputs": []
    },
    {
      "cell_type": "code",
      "source": [
        "#scores['estimator']"
      ],
      "metadata": {
        "id": "SK5K9azF_ySi"
      },
      "execution_count": 55,
      "outputs": []
    },
    {
      "cell_type": "code",
      "source": [
        "logistic.fit(X_train,y_train)"
      ],
      "metadata": {
        "colab": {
          "base_uri": "https://localhost:8080/"
        },
        "id": "6Ck0EonSHI1s",
        "outputId": "4d6642f2-6a91-4f1f-a79c-bf6bffad0cbc"
      },
      "execution_count": 52,
      "outputs": [
        {
          "output_type": "execute_result",
          "data": {
            "text/plain": [
              "LogisticRegression(C=10.0, random_state=30)"
            ]
          },
          "metadata": {},
          "execution_count": 52
        }
      ]
    },
    {
      "cell_type": "markdown",
      "source": [
        "Evaluate model performance"
      ],
      "metadata": {
        "id": "BL4SZJsaGzc8"
      }
    },
    {
      "cell_type": "code",
      "source": [
        "# Get the predicted probabilities\n",
        "train_preds = logistic.predict_proba(X_train)\n",
        "test_preds = logistic.predict_proba(X_test)"
      ],
      "metadata": {
        "id": "nNdVoLMf_yPA"
      },
      "execution_count": 53,
      "outputs": []
    },
    {
      "cell_type": "code",
      "source": [
        "#train_preds[:,:]"
      ],
      "metadata": {
        "id": "lminSurlS7Gu"
      },
      "execution_count": 54,
      "outputs": []
    },
    {
      "cell_type": "code",
      "source": [
        "#np.array(pd.DataFrame(train_preds,columns=['No','Yes']).head()['Yes'])"
      ],
      "metadata": {
        "id": "n2DD5jOBSFvo"
      },
      "execution_count": 55,
      "outputs": []
    },
    {
      "cell_type": "code",
      "source": [
        "#train_preds=train_preds[:,:1]\n",
        "#test_preds=test_preds[:,:1]"
      ],
      "metadata": {
        "id": "9KlaARV-cFOk"
      },
      "execution_count": 56,
      "outputs": []
    },
    {
      "cell_type": "code",
      "source": [
        "test_preds_df=pd.DataFrame(test_preds,columns=['No','Yes'])\n",
        "test_preds=np.array(test_preds_df['Yes'])"
      ],
      "metadata": {
        "id": "Ea3BTldyTCBE"
      },
      "execution_count": 57,
      "outputs": []
    },
    {
      "cell_type": "code",
      "source": [
        "# test_preds.shape\n",
        "# y_test.shape"
      ],
      "metadata": {
        "id": "8V-YDGwPTMH1"
      },
      "execution_count": 58,
      "outputs": []
    },
    {
      "cell_type": "code",
      "source": [
        "from sklearn.metrics import roc_curve,precision_recall_curve"
      ],
      "metadata": {
        "id": "WHwJHWHqcgbn"
      },
      "execution_count": 76,
      "outputs": []
    },
    {
      "cell_type": "code",
      "source": [
        "## Calculate optimal threshold using roc_curve method\n",
        "fpr, tpr, thresholds = roc_curve(y_test, test_preds)\n",
        "# calculate the g-mean for each threshold\n",
        "gmeans = np.sqrt(tpr * (1-fpr))\n",
        "# locate the index of the largest g-mean\n",
        "ix = np.argmax(gmeans)\n",
        "print('Best Threshold=%f, G-Mean=%.3f' % (thresholds[ix], gmeans[ix]))\n",
        "\n",
        "\n",
        "# plot the roc curve for the model\n",
        "plt.plot([0,1], [0,1], linestyle='--', label='No Skill')\n",
        "plt.plot(fpr, tpr, marker='.', label='Logistic')\n",
        "plt.scatter(fpr[ix], tpr[ix], marker='o', color='black', label='Best')\n",
        "# axis labels\n",
        "plt.xlabel('False Positive Rate')\n",
        "plt.ylabel('True Positive Rate')\n",
        "plt.legend()\n",
        "# show the plot\n",
        "plt.show()"
      ],
      "metadata": {
        "colab": {
          "base_uri": "https://localhost:8080/",
          "height": 297
        },
        "id": "kwoTMBSWcRFN",
        "outputId": "1ae927d3-fb34-49c5-d068-7c896e54a09f"
      },
      "execution_count": 77,
      "outputs": [
        {
          "output_type": "stream",
          "name": "stdout",
          "text": [
            "Best Threshold=0.142423, G-Mean=0.666\n"
          ]
        },
        {
          "output_type": "display_data",
          "data": {
            "image/png": "[encoded data removed]",
            "text/plain": [
              "<Figure size 432x288 with 1 Axes>"
            ]
          },
          "metadata": {
            "needs_background": "light"
          }
        }
      ]
    },
    {
      "cell_type": "code",
      "source": [
        "precision, recall, thresholds = precision_recall_curve(y_test, test_preds)\n",
        "# plot the roc curve for the model\n",
        "no_skill = len(y_test[y_test==1]) / len(y_test)\n",
        "plt.plot([0,1], [no_skill,no_skill], linestyle='--', label='No Skill')\n",
        "plt.plot(recall, precision, marker='.', label='Logistic')\n",
        "# axis labels\n",
        "plt.xlabel('Recall')\n",
        "plt.ylabel('Precision')\n",
        "plt.legend()\n",
        "# show the plot\n",
        "plt.show()\n",
        "\n",
        "\n",
        "# convert to f score\n",
        "fscore = (2 * precision * recall) / (precision + recall)\n",
        "# locate the index of the largest f score\n",
        "ix = np.argmax(fscore)\n",
        "print('Best Threshold=%f, F-Score=%.3f' % (thresholds[ix], fscore[ix]))"
      ],
      "metadata": {
        "colab": {
          "base_uri": "https://localhost:8080/",
          "height": 297
        },
        "id": "xAH2Z5NhcRCU",
        "outputId": "353862d0-ab47-475e-ae9f-d6c6dced821d"
      },
      "execution_count": 80,
      "outputs": [
        {
          "output_type": "display_data",
          "data": {
            "image/png": "[encoded data removed]",
            "text/plain": [
              "<Figure size 432x288 with 1 Axes>"
            ]
          },
          "metadata": {
            "needs_background": "light"
          }
        },
        {
          "output_type": "stream",
          "name": "stdout",
          "text": [
            "Best Threshold=0.205227, F-Score=0.394\n"
          ]
        }
      ]
    },
    {
      "cell_type": "code",
      "source": [
        "## Calculate optimal threshold using precision-recall curve method"
      ],
      "metadata": {
        "id": "YbvUx8smS0uk"
      },
      "execution_count": null,
      "outputs": []
    },
    {
      "cell_type": "code",
      "source": [
        "#test_preds_new=np.array(test_preds_df['Yes'].apply(lambda x:1 if x>=0.501637 else 0))\n",
        "test_preds_new=np.array(test_preds_df['Yes'].apply(lambda x:1 if x>=0.205227 else 0))"
      ],
      "metadata": {
        "id": "oWuqJV3QcQ_K"
      },
      "execution_count": 87,
      "outputs": []
    },
    {
      "cell_type": "code",
      "source": [
        "#thresholds = np.arange(0.5016330, 0.5016350, 0.0000001)"
      ],
      "metadata": {
        "id": "1Sk4fKEwZN1r"
      },
      "execution_count": 88,
      "outputs": []
    },
    {
      "cell_type": "code",
      "source": [
        "# for i in thresholds:\n",
        "#   test_preds_new=np.array(test_preds_df['Yes'].apply(lambda x:1 if x>=i else 0))\n",
        "#   print(\"For threshold {:.7f}\".format(i))\n",
        "#   print(confusion_matrix(y_test, test_preds_new))\n",
        "#   print(precision_score(y_test, test_preds_new))\n",
        "#   print(recall_score(y_test, test_preds_new))"
      ],
      "metadata": {
        "id": "rGI84L62cQ8K"
      },
      "execution_count": 89,
      "outputs": []
    },
    {
      "cell_type": "code",
      "source": [
        "# Get the predicted classes\n",
        "train_class_preds = logistic.predict(X_train)\n",
        "test_class_preds = logistic.predict(X_test)"
      ],
      "metadata": {
        "id": "czZi0q1p_yEs"
      },
      "execution_count": 90,
      "outputs": []
    },
    {
      "cell_type": "code",
      "source": [
        "# Get the confusion matrix for test\n",
        "\n",
        "labels = ['Not at Risk','Heart Risk' ]\n",
        "#cm = confusion_matrix(y_test, test_preds_new)\n",
        "cm = confusion_matrix(y_test, test_preds_new)\n",
        "print(cm)\n",
        "\n",
        "cat = ['TN','FP','FN','TP']\n",
        "#cat = np.asarray(labels2).reshape(2,2)\n",
        "counts = [count for count in cm.flatten()]\n",
        "labelsIn = [f\"{v1}\\n{v2}\" for v1, v2 in  zip(cat,counts)]\n",
        "\n",
        "labelsIn = np.asarray(labelsIn).reshape(2,2)\n",
        "\n",
        "ax= plt.subplot()\n",
        "sns.heatmap(cm, annot=labelsIn, ax = ax,fmt='', cmap='Blues');\n",
        "\n",
        "# labels, title and ticks\n",
        "ax.set_xlabel('Predicted labels')\n",
        "ax.set_ylabel('True labels')\n",
        "ax.set_title('Confusion Matrix')\n",
        "ax.xaxis.set_ticklabels(labels)\n",
        "ax.yaxis.set_ticklabels(labels)"
      ],
      "metadata": {
        "colab": {
          "base_uri": "https://localhost:8080/",
          "height": 347
        },
        "id": "qiGxE2Wn_yBQ",
        "outputId": "3ee4a490-4372-48b8-e2cb-b0515516fe22"
      },
      "execution_count": 91,
      "outputs": [
        {
          "output_type": "stream",
          "name": "stdout",
          "text": [
            "[[718   5]\n",
            " [114  11]]\n"
          ]
        },
        {
          "output_type": "execute_result",
          "data": {
            "text/plain": [
              "[Text(0, 0.5, 'Not at Risk'), Text(0, 1.5, 'Heart Risk')]"
            ]
          },
          "metadata": {},
          "execution_count": 91
        },
        {
          "output_type": "display_data",
          "data": {
            "image/png": "[encoded data removed]",
            "text/plain": [
              "<Figure size 432x288 with 2 Axes>"
            ]
          },
          "metadata": {
            "needs_background": "light"
          }
        }
      ]
    },
    {
      "cell_type": "code",
      "source": [
        "## Calc Precision and recall\n",
        "from sklearn.metrics import roc_auc_score,recall_score,precision_score\n",
        "\n",
        "roc_auc = roc_auc_score(y_test, test_preds_new)\n"
      ],
      "metadata": {
        "id": "BeNb2gYbIFIA"
      },
      "execution_count": 83,
      "outputs": []
    },
    {
      "cell_type": "code",
      "source": [
        "roc_auc"
      ],
      "metadata": {
        "colab": {
          "base_uri": "https://localhost:8080/"
        },
        "id": "YHNKVtruc9Xg",
        "outputId": "2c05301d-5ab4-4d50-9eba-3063175640f9"
      },
      "execution_count": 84,
      "outputs": [
        {
          "output_type": "execute_result",
          "data": {
            "text/plain": [
              "0.6591811894882434"
            ]
          },
          "metadata": {},
          "execution_count": 84
        }
      ]
    },
    {
      "cell_type": "code",
      "source": [
        "precision = precision_score(y_test, test_preds_new)#, average='binary')\n",
        "recall = recall_score(y_test, test_preds_new)#, average='binary')"
      ],
      "metadata": {
        "id": "JXQcoUZcFRYg"
      },
      "execution_count": 85,
      "outputs": []
    },
    {
      "cell_type": "code",
      "source": [
        "print(precision)\n",
        "print(\"\\n\")\n",
        "print(recall)"
      ],
      "metadata": {
        "colab": {
          "base_uri": "https://localhost:8080/"
        },
        "id": "DU-C72mcFRU4",
        "outputId": "b7a048e9-b77c-45e2-f434-8c30d5a7177e"
      },
      "execution_count": 86,
      "outputs": [
        {
          "output_type": "stream",
          "name": "stdout",
          "text": [
            "0.3137254901960784\n",
            "\n",
            "\n",
            "0.512\n"
          ]
        }
      ]
    },
    {
      "cell_type": "code",
      "source": [
        "from sklearn.model_selection import GridSearchCV"
      ],
      "metadata": {
        "id": "ArJI2TQIFRSo"
      },
      "execution_count": 64,
      "outputs": []
    },
    {
      "cell_type": "code",
      "source": [
        "grid={\n",
        "'C':[100, 10, 1.0, 0.1, 0.01],\n",
        "'class_weight':[{0:0.15,1:0.85},{0:0.12,1:0.88},{0:0.1,1:0.9},{0:0.3,1:0.7}],\n",
        "'penalty':['none', 'l1', 'l2', 'elasticnet'],\n",
        "'solver':['newton-cg', 'lbfgs', 'sag', 'saga']\n",
        "}\n",
        "logistic = LogisticRegression()"
      ],
      "metadata": {
        "id": "C-NTLZquFRP8"
      },
      "execution_count": 65,
      "outputs": []
    },
    {
      "cell_type": "code",
      "source": [
        "grid_search = GridSearchCV(estimator=logistic, param_grid=grid, n_jobs=-1, scoring='f1',error_score=0)\n",
        "grid_result = grid_search.fit(X, y)"
      ],
      "metadata": {
        "id": "84XEPqbWghu7"
      },
      "execution_count": 66,
      "outputs": []
    },
    {
      "cell_type": "code",
      "source": [
        "grid_result.cv_results_.keys()"
      ],
      "metadata": {
        "colab": {
          "base_uri": "https://localhost:8080/"
        },
        "id": "xtbpZvltmqQV",
        "outputId": "c76d699b-231e-4ad1-dadf-123c462209ba"
      },
      "execution_count": 67,
      "outputs": [
        {
          "output_type": "execute_result",
          "data": {
            "text/plain": [
              "dict_keys(['mean_fit_time', 'std_fit_time', 'mean_score_time', 'std_score_time', 'param_C', 'param_class_weight', 'param_penalty', 'param_solver', 'params', 'split0_test_score', 'split1_test_score', 'split2_test_score', 'split3_test_score', 'split4_test_score', 'mean_test_score', 'std_test_score', 'rank_test_score'])"
            ]
          },
          "metadata": {},
          "execution_count": 67
        }
      ]
    },
    {
      "cell_type": "code",
      "source": [
        "means = grid_result.cv_results_['mean_test_score']\n",
        "stds = grid_result.cv_results_['std_test_score']\n",
        "params = grid_result.cv_results_['params']"
      ],
      "metadata": {
        "id": "z4oLKdGNg_Zz"
      },
      "execution_count": 68,
      "outputs": []
    },
    {
      "cell_type": "code",
      "source": [
        "for mean, stdev, param in zip(means, stds, params):\n",
        "    print(\"%f (%f) with: %r\" % (mean, stdev, param))"
      ],
      "metadata": {
        "colab": {
          "base_uri": "https://localhost:8080/"
        },
        "id": "dm8zowtGhEZE",
        "outputId": "b425bcbc-22e9-4d0e-fe3c-bb46bf73f8f0"
      },
      "execution_count": 69,
      "outputs": [
        {
          "output_type": "stream",
          "name": "stdout",
          "text": [
            "0.373598 (0.028627) with: {'C': 100, 'class_weight': {0: 0.15, 1: 0.85}, 'penalty': 'none', 'solver': 'newton-cg'}\n",
            "0.348950 (0.025284) with: {'C': 100, 'class_weight': {0: 0.15, 1: 0.85}, 'penalty': 'none', 'solver': 'lbfgs'}\n",
            "0.327677 (0.010723) with: {'C': 100, 'class_weight': {0: 0.15, 1: 0.85}, 'penalty': 'none', 'solver': 'sag'}\n",
            "0.328363 (0.011674) with: {'C': 100, 'class_weight': {0: 0.15, 1: 0.85}, 'penalty': 'none', 'solver': 'saga'}\n",
            "0.000000 (0.000000) with: {'C': 100, 'class_weight': {0: 0.15, 1: 0.85}, 'penalty': 'l1', 'solver': 'newton-cg'}\n",
            "0.000000 (0.000000) with: {'C': 100, 'class_weight': {0: 0.15, 1: 0.85}, 'penalty': 'l1', 'solver': 'lbfgs'}\n",
            "0.000000 (0.000000) with: {'C': 100, 'class_weight': {0: 0.15, 1: 0.85}, 'penalty': 'l1', 'solver': 'sag'}\n",
            "0.329247 (0.010825) with: {'C': 100, 'class_weight': {0: 0.15, 1: 0.85}, 'penalty': 'l1', 'solver': 'saga'}\n",
            "0.373598 (0.028627) with: {'C': 100, 'class_weight': {0: 0.15, 1: 0.85}, 'penalty': 'l2', 'solver': 'newton-cg'}\n",
            "0.346053 (0.020327) with: {'C': 100, 'class_weight': {0: 0.15, 1: 0.85}, 'penalty': 'l2', 'solver': 'lbfgs'}\n",
            "0.327677 (0.010723) with: {'C': 100, 'class_weight': {0: 0.15, 1: 0.85}, 'penalty': 'l2', 'solver': 'sag'}\n",
            "0.329247 (0.010825) with: {'C': 100, 'class_weight': {0: 0.15, 1: 0.85}, 'penalty': 'l2', 'solver': 'saga'}\n",
            "0.000000 (0.000000) with: {'C': 100, 'class_weight': {0: 0.15, 1: 0.85}, 'penalty': 'elasticnet', 'solver': 'newton-cg'}\n",
            "0.000000 (0.000000) with: {'C': 100, 'class_weight': {0: 0.15, 1: 0.85}, 'penalty': 'elasticnet', 'solver': 'lbfgs'}\n",
            "0.000000 (0.000000) with: {'C': 100, 'class_weight': {0: 0.15, 1: 0.85}, 'penalty': 'elasticnet', 'solver': 'sag'}\n",
            "0.000000 (0.000000) with: {'C': 100, 'class_weight': {0: 0.15, 1: 0.85}, 'penalty': 'elasticnet', 'solver': 'saga'}\n",
            "0.361873 (0.025070) with: {'C': 100, 'class_weight': {0: 0.12, 1: 0.88}, 'penalty': 'none', 'solver': 'newton-cg'}\n",
            "0.340126 (0.018169) with: {'C': 100, 'class_weight': {0: 0.12, 1: 0.88}, 'penalty': 'none', 'solver': 'lbfgs'}\n",
            "0.312199 (0.007984) with: {'C': 100, 'class_weight': {0: 0.12, 1: 0.88}, 'penalty': 'none', 'solver': 'sag'}\n",
            "0.308121 (0.008004) with: {'C': 100, 'class_weight': {0: 0.12, 1: 0.88}, 'penalty': 'none', 'solver': 'saga'}\n",
            "0.000000 (0.000000) with: {'C': 100, 'class_weight': {0: 0.12, 1: 0.88}, 'penalty': 'l1', 'solver': 'newton-cg'}\n",
            "0.000000 (0.000000) with: {'C': 100, 'class_weight': {0: 0.12, 1: 0.88}, 'penalty': 'l1', 'solver': 'lbfgs'}\n",
            "0.000000 (0.000000) with: {'C': 100, 'class_weight': {0: 0.12, 1: 0.88}, 'penalty': 'l1', 'solver': 'sag'}\n",
            "0.308121 (0.008004) with: {'C': 100, 'class_weight': {0: 0.12, 1: 0.88}, 'penalty': 'l1', 'solver': 'saga'}\n",
            "0.361696 (0.024998) with: {'C': 100, 'class_weight': {0: 0.12, 1: 0.88}, 'penalty': 'l2', 'solver': 'newton-cg'}\n",
            "0.337672 (0.018947) with: {'C': 100, 'class_weight': {0: 0.12, 1: 0.88}, 'penalty': 'l2', 'solver': 'lbfgs'}\n",
            "0.312199 (0.007984) with: {'C': 100, 'class_weight': {0: 0.12, 1: 0.88}, 'penalty': 'l2', 'solver': 'sag'}\n",
            "0.307999 (0.008186) with: {'C': 100, 'class_weight': {0: 0.12, 1: 0.88}, 'penalty': 'l2', 'solver': 'saga'}\n",
            "0.000000 (0.000000) with: {'C': 100, 'class_weight': {0: 0.12, 1: 0.88}, 'penalty': 'elasticnet', 'solver': 'newton-cg'}\n",
            "0.000000 (0.000000) with: {'C': 100, 'class_weight': {0: 0.12, 1: 0.88}, 'penalty': 'elasticnet', 'solver': 'lbfgs'}\n",
            "0.000000 (0.000000) with: {'C': 100, 'class_weight': {0: 0.12, 1: 0.88}, 'penalty': 'elasticnet', 'solver': 'sag'}\n",
            "0.000000 (0.000000) with: {'C': 100, 'class_weight': {0: 0.12, 1: 0.88}, 'penalty': 'elasticnet', 'solver': 'saga'}\n",
            "0.340826 (0.012233) with: {'C': 100, 'class_weight': {0: 0.1, 1: 0.9}, 'penalty': 'none', 'solver': 'newton-cg'}\n",
            "0.308946 (0.006559) with: {'C': 100, 'class_weight': {0: 0.1, 1: 0.9}, 'penalty': 'none', 'solver': 'lbfgs'}\n",
            "0.300468 (0.006334) with: {'C': 100, 'class_weight': {0: 0.1, 1: 0.9}, 'penalty': 'none', 'solver': 'sag'}\n",
            "0.297346 (0.007623) with: {'C': 100, 'class_weight': {0: 0.1, 1: 0.9}, 'penalty': 'none', 'solver': 'saga'}\n",
            "0.000000 (0.000000) with: {'C': 100, 'class_weight': {0: 0.1, 1: 0.9}, 'penalty': 'l1', 'solver': 'newton-cg'}\n",
            "0.000000 (0.000000) with: {'C': 100, 'class_weight': {0: 0.1, 1: 0.9}, 'penalty': 'l1', 'solver': 'lbfgs'}\n",
            "0.000000 (0.000000) with: {'C': 100, 'class_weight': {0: 0.1, 1: 0.9}, 'penalty': 'l1', 'solver': 'sag'}\n",
            "0.297141 (0.007549) with: {'C': 100, 'class_weight': {0: 0.1, 1: 0.9}, 'penalty': 'l1', 'solver': 'saga'}\n",
            "0.340826 (0.012233) with: {'C': 100, 'class_weight': {0: 0.1, 1: 0.9}, 'penalty': 'l2', 'solver': 'newton-cg'}\n",
            "0.315634 (0.008367) with: {'C': 100, 'class_weight': {0: 0.1, 1: 0.9}, 'penalty': 'l2', 'solver': 'lbfgs'}\n",
            "0.300376 (0.006471) with: {'C': 100, 'class_weight': {0: 0.1, 1: 0.9}, 'penalty': 'l2', 'solver': 'sag'}\n",
            "0.297346 (0.007623) with: {'C': 100, 'class_weight': {0: 0.1, 1: 0.9}, 'penalty': 'l2', 'solver': 'saga'}\n",
            "0.000000 (0.000000) with: {'C': 100, 'class_weight': {0: 0.1, 1: 0.9}, 'penalty': 'elasticnet', 'solver': 'newton-cg'}\n",
            "0.000000 (0.000000) with: {'C': 100, 'class_weight': {0: 0.1, 1: 0.9}, 'penalty': 'elasticnet', 'solver': 'lbfgs'}\n",
            "0.000000 (0.000000) with: {'C': 100, 'class_weight': {0: 0.1, 1: 0.9}, 'penalty': 'elasticnet', 'solver': 'sag'}\n",
            "0.000000 (0.000000) with: {'C': 100, 'class_weight': {0: 0.1, 1: 0.9}, 'penalty': 'elasticnet', 'solver': 'saga'}\n",
            "0.304882 (0.022762) with: {'C': 100, 'class_weight': {0: 0.3, 1: 0.7}, 'penalty': 'none', 'solver': 'newton-cg'}\n",
            "0.271073 (0.020709) with: {'C': 100, 'class_weight': {0: 0.3, 1: 0.7}, 'penalty': 'none', 'solver': 'lbfgs'}\n",
            "0.229980 (0.024929) with: {'C': 100, 'class_weight': {0: 0.3, 1: 0.7}, 'penalty': 'none', 'solver': 'sag'}\n",
            "0.229313 (0.019905) with: {'C': 100, 'class_weight': {0: 0.3, 1: 0.7}, 'penalty': 'none', 'solver': 'saga'}\n",
            "0.000000 (0.000000) with: {'C': 100, 'class_weight': {0: 0.3, 1: 0.7}, 'penalty': 'l1', 'solver': 'newton-cg'}\n",
            "0.000000 (0.000000) with: {'C': 100, 'class_weight': {0: 0.3, 1: 0.7}, 'penalty': 'l1', 'solver': 'lbfgs'}\n",
            "0.000000 (0.000000) with: {'C': 100, 'class_weight': {0: 0.3, 1: 0.7}, 'penalty': 'l1', 'solver': 'sag'}\n",
            "0.229313 (0.019905) with: {'C': 100, 'class_weight': {0: 0.3, 1: 0.7}, 'penalty': 'l1', 'solver': 'saga'}\n",
            "0.304882 (0.022762) with: {'C': 100, 'class_weight': {0: 0.3, 1: 0.7}, 'penalty': 'l2', 'solver': 'newton-cg'}\n",
            "0.254465 (0.037062) with: {'C': 100, 'class_weight': {0: 0.3, 1: 0.7}, 'penalty': 'l2', 'solver': 'lbfgs'}\n",
            "0.229980 (0.024929) with: {'C': 100, 'class_weight': {0: 0.3, 1: 0.7}, 'penalty': 'l2', 'solver': 'sag'}\n",
            "0.229313 (0.019905) with: {'C': 100, 'class_weight': {0: 0.3, 1: 0.7}, 'penalty': 'l2', 'solver': 'saga'}\n",
            "0.000000 (0.000000) with: {'C': 100, 'class_weight': {0: 0.3, 1: 0.7}, 'penalty': 'elasticnet', 'solver': 'newton-cg'}\n",
            "0.000000 (0.000000) with: {'C': 100, 'class_weight': {0: 0.3, 1: 0.7}, 'penalty': 'elasticnet', 'solver': 'lbfgs'}\n",
            "0.000000 (0.000000) with: {'C': 100, 'class_weight': {0: 0.3, 1: 0.7}, 'penalty': 'elasticnet', 'solver': 'sag'}\n",
            "0.000000 (0.000000) with: {'C': 100, 'class_weight': {0: 0.3, 1: 0.7}, 'penalty': 'elasticnet', 'solver': 'saga'}\n",
            "0.373598 (0.028627) with: {'C': 10, 'class_weight': {0: 0.15, 1: 0.85}, 'penalty': 'none', 'solver': 'newton-cg'}\n",
            "0.348950 (0.025284) with: {'C': 10, 'class_weight': {0: 0.15, 1: 0.85}, 'penalty': 'none', 'solver': 'lbfgs'}\n",
            "0.327677 (0.010723) with: {'C': 10, 'class_weight': {0: 0.15, 1: 0.85}, 'penalty': 'none', 'solver': 'sag'}\n",
            "0.328931 (0.011092) with: {'C': 10, 'class_weight': {0: 0.15, 1: 0.85}, 'penalty': 'none', 'solver': 'saga'}\n",
            "0.000000 (0.000000) with: {'C': 10, 'class_weight': {0: 0.15, 1: 0.85}, 'penalty': 'l1', 'solver': 'newton-cg'}\n",
            "0.000000 (0.000000) with: {'C': 10, 'class_weight': {0: 0.15, 1: 0.85}, 'penalty': 'l1', 'solver': 'lbfgs'}\n",
            "0.000000 (0.000000) with: {'C': 10, 'class_weight': {0: 0.15, 1: 0.85}, 'penalty': 'l1', 'solver': 'sag'}\n",
            "0.328363 (0.011674) with: {'C': 10, 'class_weight': {0: 0.15, 1: 0.85}, 'penalty': 'l1', 'solver': 'saga'}\n",
            "0.373598 (0.028627) with: {'C': 10, 'class_weight': {0: 0.15, 1: 0.85}, 'penalty': 'l2', 'solver': 'newton-cg'}\n",
            "0.337150 (0.018345) with: {'C': 10, 'class_weight': {0: 0.15, 1: 0.85}, 'penalty': 'l2', 'solver': 'lbfgs'}\n",
            "0.327677 (0.010723) with: {'C': 10, 'class_weight': {0: 0.15, 1: 0.85}, 'penalty': 'l2', 'solver': 'sag'}\n",
            "0.328215 (0.011781) with: {'C': 10, 'class_weight': {0: 0.15, 1: 0.85}, 'penalty': 'l2', 'solver': 'saga'}\n",
            "0.000000 (0.000000) with: {'C': 10, 'class_weight': {0: 0.15, 1: 0.85}, 'penalty': 'elasticnet', 'solver': 'newton-cg'}\n",
            "0.000000 (0.000000) with: {'C': 10, 'class_weight': {0: 0.15, 1: 0.85}, 'penalty': 'elasticnet', 'solver': 'lbfgs'}\n",
            "0.000000 (0.000000) with: {'C': 10, 'class_weight': {0: 0.15, 1: 0.85}, 'penalty': 'elasticnet', 'solver': 'sag'}\n",
            "0.000000 (0.000000) with: {'C': 10, 'class_weight': {0: 0.15, 1: 0.85}, 'penalty': 'elasticnet', 'solver': 'saga'}\n",
            "0.361873 (0.025070) with: {'C': 10, 'class_weight': {0: 0.12, 1: 0.88}, 'penalty': 'none', 'solver': 'newton-cg'}\n",
            "0.340126 (0.018169) with: {'C': 10, 'class_weight': {0: 0.12, 1: 0.88}, 'penalty': 'none', 'solver': 'lbfgs'}\n",
            "0.312199 (0.007984) with: {'C': 10, 'class_weight': {0: 0.12, 1: 0.88}, 'penalty': 'none', 'solver': 'sag'}\n",
            "0.307440 (0.007564) with: {'C': 10, 'class_weight': {0: 0.12, 1: 0.88}, 'penalty': 'none', 'solver': 'saga'}\n",
            "0.000000 (0.000000) with: {'C': 10, 'class_weight': {0: 0.12, 1: 0.88}, 'penalty': 'l1', 'solver': 'newton-cg'}\n",
            "0.000000 (0.000000) with: {'C': 10, 'class_weight': {0: 0.12, 1: 0.88}, 'penalty': 'l1', 'solver': 'lbfgs'}\n",
            "0.000000 (0.000000) with: {'C': 10, 'class_weight': {0: 0.12, 1: 0.88}, 'penalty': 'l1', 'solver': 'sag'}\n",
            "0.308121 (0.008004) with: {'C': 10, 'class_weight': {0: 0.12, 1: 0.88}, 'penalty': 'l1', 'solver': 'saga'}\n",
            "0.361873 (0.025070) with: {'C': 10, 'class_weight': {0: 0.12, 1: 0.88}, 'penalty': 'l2', 'solver': 'newton-cg'}\n",
            "0.342686 (0.021042) with: {'C': 10, 'class_weight': {0: 0.12, 1: 0.88}, 'penalty': 'l2', 'solver': 'lbfgs'}\n",
            "0.312199 (0.007984) with: {'C': 10, 'class_weight': {0: 0.12, 1: 0.88}, 'penalty': 'l2', 'solver': 'sag'}\n",
            "0.308121 (0.008004) with: {'C': 10, 'class_weight': {0: 0.12, 1: 0.88}, 'penalty': 'l2', 'solver': 'saga'}\n",
            "0.000000 (0.000000) with: {'C': 10, 'class_weight': {0: 0.12, 1: 0.88}, 'penalty': 'elasticnet', 'solver': 'newton-cg'}\n",
            "0.000000 (0.000000) with: {'C': 10, 'class_weight': {0: 0.12, 1: 0.88}, 'penalty': 'elasticnet', 'solver': 'lbfgs'}\n",
            "0.000000 (0.000000) with: {'C': 10, 'class_weight': {0: 0.12, 1: 0.88}, 'penalty': 'elasticnet', 'solver': 'sag'}\n",
            "0.000000 (0.000000) with: {'C': 10, 'class_weight': {0: 0.12, 1: 0.88}, 'penalty': 'elasticnet', 'solver': 'saga'}\n",
            "0.340826 (0.012233) with: {'C': 10, 'class_weight': {0: 0.1, 1: 0.9}, 'penalty': 'none', 'solver': 'newton-cg'}\n",
            "0.308946 (0.006559) with: {'C': 10, 'class_weight': {0: 0.1, 1: 0.9}, 'penalty': 'none', 'solver': 'lbfgs'}\n",
            "0.300276 (0.006508) with: {'C': 10, 'class_weight': {0: 0.1, 1: 0.9}, 'penalty': 'none', 'solver': 'sag'}\n",
            "0.297244 (0.007656) with: {'C': 10, 'class_weight': {0: 0.1, 1: 0.9}, 'penalty': 'none', 'solver': 'saga'}\n",
            "0.000000 (0.000000) with: {'C': 10, 'class_weight': {0: 0.1, 1: 0.9}, 'penalty': 'l1', 'solver': 'newton-cg'}\n",
            "0.000000 (0.000000) with: {'C': 10, 'class_weight': {0: 0.1, 1: 0.9}, 'penalty': 'l1', 'solver': 'lbfgs'}\n",
            "0.000000 (0.000000) with: {'C': 10, 'class_weight': {0: 0.1, 1: 0.9}, 'penalty': 'l1', 'solver': 'sag'}\n",
            "0.297334 (0.007469) with: {'C': 10, 'class_weight': {0: 0.1, 1: 0.9}, 'penalty': 'l1', 'solver': 'saga'}\n",
            "0.340543 (0.012107) with: {'C': 10, 'class_weight': {0: 0.1, 1: 0.9}, 'penalty': 'l2', 'solver': 'newton-cg'}\n",
            "0.311038 (0.006067) with: {'C': 10, 'class_weight': {0: 0.1, 1: 0.9}, 'penalty': 'l2', 'solver': 'lbfgs'}\n",
            "0.300468 (0.006334) with: {'C': 10, 'class_weight': {0: 0.1, 1: 0.9}, 'penalty': 'l2', 'solver': 'sag'}\n",
            "0.297545 (0.007551) with: {'C': 10, 'class_weight': {0: 0.1, 1: 0.9}, 'penalty': 'l2', 'solver': 'saga'}\n",
            "0.000000 (0.000000) with: {'C': 10, 'class_weight': {0: 0.1, 1: 0.9}, 'penalty': 'elasticnet', 'solver': 'newton-cg'}\n",
            "0.000000 (0.000000) with: {'C': 10, 'class_weight': {0: 0.1, 1: 0.9}, 'penalty': 'elasticnet', 'solver': 'lbfgs'}\n",
            "0.000000 (0.000000) with: {'C': 10, 'class_weight': {0: 0.1, 1: 0.9}, 'penalty': 'elasticnet', 'solver': 'sag'}\n",
            "0.000000 (0.000000) with: {'C': 10, 'class_weight': {0: 0.1, 1: 0.9}, 'penalty': 'elasticnet', 'solver': 'saga'}\n",
            "0.304882 (0.022762) with: {'C': 10, 'class_weight': {0: 0.3, 1: 0.7}, 'penalty': 'none', 'solver': 'newton-cg'}\n",
            "0.271073 (0.020709) with: {'C': 10, 'class_weight': {0: 0.3, 1: 0.7}, 'penalty': 'none', 'solver': 'lbfgs'}\n",
            "0.229980 (0.024929) with: {'C': 10, 'class_weight': {0: 0.3, 1: 0.7}, 'penalty': 'none', 'solver': 'sag'}\n",
            "0.229313 (0.019905) with: {'C': 10, 'class_weight': {0: 0.3, 1: 0.7}, 'penalty': 'none', 'solver': 'saga'}\n",
            "0.000000 (0.000000) with: {'C': 10, 'class_weight': {0: 0.3, 1: 0.7}, 'penalty': 'l1', 'solver': 'newton-cg'}\n",
            "0.000000 (0.000000) with: {'C': 10, 'class_weight': {0: 0.3, 1: 0.7}, 'penalty': 'l1', 'solver': 'lbfgs'}\n",
            "0.000000 (0.000000) with: {'C': 10, 'class_weight': {0: 0.3, 1: 0.7}, 'penalty': 'l1', 'solver': 'sag'}\n",
            "0.229313 (0.019905) with: {'C': 10, 'class_weight': {0: 0.3, 1: 0.7}, 'penalty': 'l1', 'solver': 'saga'}\n",
            "0.304882 (0.022762) with: {'C': 10, 'class_weight': {0: 0.3, 1: 0.7}, 'penalty': 'l2', 'solver': 'newton-cg'}\n",
            "0.265138 (0.026063) with: {'C': 10, 'class_weight': {0: 0.3, 1: 0.7}, 'penalty': 'l2', 'solver': 'lbfgs'}\n",
            "0.229980 (0.024929) with: {'C': 10, 'class_weight': {0: 0.3, 1: 0.7}, 'penalty': 'l2', 'solver': 'sag'}\n",
            "0.229582 (0.019513) with: {'C': 10, 'class_weight': {0: 0.3, 1: 0.7}, 'penalty': 'l2', 'solver': 'saga'}\n",
            "0.000000 (0.000000) with: {'C': 10, 'class_weight': {0: 0.3, 1: 0.7}, 'penalty': 'elasticnet', 'solver': 'newton-cg'}\n",
            "0.000000 (0.000000) with: {'C': 10, 'class_weight': {0: 0.3, 1: 0.7}, 'penalty': 'elasticnet', 'solver': 'lbfgs'}\n",
            "0.000000 (0.000000) with: {'C': 10, 'class_weight': {0: 0.3, 1: 0.7}, 'penalty': 'elasticnet', 'solver': 'sag'}\n",
            "0.000000 (0.000000) with: {'C': 10, 'class_weight': {0: 0.3, 1: 0.7}, 'penalty': 'elasticnet', 'solver': 'saga'}\n",
            "0.373598 (0.028627) with: {'C': 1.0, 'class_weight': {0: 0.15, 1: 0.85}, 'penalty': 'none', 'solver': 'newton-cg'}\n",
            "0.348950 (0.025284) with: {'C': 1.0, 'class_weight': {0: 0.15, 1: 0.85}, 'penalty': 'none', 'solver': 'lbfgs'}\n",
            "0.327677 (0.010723) with: {'C': 1.0, 'class_weight': {0: 0.15, 1: 0.85}, 'penalty': 'none', 'solver': 'sag'}\n",
            "0.328363 (0.011674) with: {'C': 1.0, 'class_weight': {0: 0.15, 1: 0.85}, 'penalty': 'none', 'solver': 'saga'}\n",
            "0.000000 (0.000000) with: {'C': 1.0, 'class_weight': {0: 0.15, 1: 0.85}, 'penalty': 'l1', 'solver': 'newton-cg'}\n",
            "0.000000 (0.000000) with: {'C': 1.0, 'class_weight': {0: 0.15, 1: 0.85}, 'penalty': 'l1', 'solver': 'lbfgs'}\n",
            "0.000000 (0.000000) with: {'C': 1.0, 'class_weight': {0: 0.15, 1: 0.85}, 'penalty': 'l1', 'solver': 'sag'}\n",
            "0.328931 (0.011092) with: {'C': 1.0, 'class_weight': {0: 0.15, 1: 0.85}, 'penalty': 'l1', 'solver': 'saga'}\n",
            "0.372301 (0.029024) with: {'C': 1.0, 'class_weight': {0: 0.15, 1: 0.85}, 'penalty': 'l2', 'solver': 'newton-cg'}\n",
            "0.359401 (0.017670) with: {'C': 1.0, 'class_weight': {0: 0.15, 1: 0.85}, 'penalty': 'l2', 'solver': 'lbfgs'}\n",
            "0.327677 (0.010723) with: {'C': 1.0, 'class_weight': {0: 0.15, 1: 0.85}, 'penalty': 'l2', 'solver': 'sag'}\n",
            "0.328526 (0.011632) with: {'C': 1.0, 'class_weight': {0: 0.15, 1: 0.85}, 'penalty': 'l2', 'solver': 'saga'}\n",
            "0.000000 (0.000000) with: {'C': 1.0, 'class_weight': {0: 0.15, 1: 0.85}, 'penalty': 'elasticnet', 'solver': 'newton-cg'}\n",
            "0.000000 (0.000000) with: {'C': 1.0, 'class_weight': {0: 0.15, 1: 0.85}, 'penalty': 'elasticnet', 'solver': 'lbfgs'}\n",
            "0.000000 (0.000000) with: {'C': 1.0, 'class_weight': {0: 0.15, 1: 0.85}, 'penalty': 'elasticnet', 'solver': 'sag'}\n",
            "0.000000 (0.000000) with: {'C': 1.0, 'class_weight': {0: 0.15, 1: 0.85}, 'penalty': 'elasticnet', 'solver': 'saga'}\n",
            "0.361873 (0.025070) with: {'C': 1.0, 'class_weight': {0: 0.12, 1: 0.88}, 'penalty': 'none', 'solver': 'newton-cg'}\n",
            "0.340126 (0.018169) with: {'C': 1.0, 'class_weight': {0: 0.12, 1: 0.88}, 'penalty': 'none', 'solver': 'lbfgs'}\n",
            "0.312199 (0.007984) with: {'C': 1.0, 'class_weight': {0: 0.12, 1: 0.88}, 'penalty': 'none', 'solver': 'sag'}\n",
            "0.307440 (0.007564) with: {'C': 1.0, 'class_weight': {0: 0.12, 1: 0.88}, 'penalty': 'none', 'solver': 'saga'}\n",
            "0.000000 (0.000000) with: {'C': 1.0, 'class_weight': {0: 0.12, 1: 0.88}, 'penalty': 'l1', 'solver': 'newton-cg'}\n",
            "0.000000 (0.000000) with: {'C': 1.0, 'class_weight': {0: 0.12, 1: 0.88}, 'penalty': 'l1', 'solver': 'lbfgs'}\n",
            "0.000000 (0.000000) with: {'C': 1.0, 'class_weight': {0: 0.12, 1: 0.88}, 'penalty': 'l1', 'solver': 'sag'}\n",
            "0.308854 (0.007767) with: {'C': 1.0, 'class_weight': {0: 0.12, 1: 0.88}, 'penalty': 'l1', 'solver': 'saga'}\n",
            "0.362086 (0.025339) with: {'C': 1.0, 'class_weight': {0: 0.12, 1: 0.88}, 'penalty': 'l2', 'solver': 'newton-cg'}\n",
            "0.337249 (0.017318) with: {'C': 1.0, 'class_weight': {0: 0.12, 1: 0.88}, 'penalty': 'l2', 'solver': 'lbfgs'}\n",
            "0.312326 (0.008145) with: {'C': 1.0, 'class_weight': {0: 0.12, 1: 0.88}, 'penalty': 'l2', 'solver': 'sag'}\n",
            "0.307997 (0.007837) with: {'C': 1.0, 'class_weight': {0: 0.12, 1: 0.88}, 'penalty': 'l2', 'solver': 'saga'}\n",
            "0.000000 (0.000000) with: {'C': 1.0, 'class_weight': {0: 0.12, 1: 0.88}, 'penalty': 'elasticnet', 'solver': 'newton-cg'}\n",
            "0.000000 (0.000000) with: {'C': 1.0, 'class_weight': {0: 0.12, 1: 0.88}, 'penalty': 'elasticnet', 'solver': 'lbfgs'}\n",
            "0.000000 (0.000000) with: {'C': 1.0, 'class_weight': {0: 0.12, 1: 0.88}, 'penalty': 'elasticnet', 'solver': 'sag'}\n",
            "0.000000 (0.000000) with: {'C': 1.0, 'class_weight': {0: 0.12, 1: 0.88}, 'penalty': 'elasticnet', 'solver': 'saga'}\n",
            "0.340826 (0.012233) with: {'C': 1.0, 'class_weight': {0: 0.1, 1: 0.9}, 'penalty': 'none', 'solver': 'newton-cg'}\n",
            "0.308946 (0.006559) with: {'C': 1.0, 'class_weight': {0: 0.1, 1: 0.9}, 'penalty': 'none', 'solver': 'lbfgs'}\n",
            "0.300468 (0.006334) with: {'C': 1.0, 'class_weight': {0: 0.1, 1: 0.9}, 'penalty': 'none', 'solver': 'sag'}\n",
            "0.297531 (0.007447) with: {'C': 1.0, 'class_weight': {0: 0.1, 1: 0.9}, 'penalty': 'none', 'solver': 'saga'}\n",
            "0.000000 (0.000000) with: {'C': 1.0, 'class_weight': {0: 0.1, 1: 0.9}, 'penalty': 'l1', 'solver': 'newton-cg'}\n",
            "0.000000 (0.000000) with: {'C': 1.0, 'class_weight': {0: 0.1, 1: 0.9}, 'penalty': 'l1', 'solver': 'lbfgs'}\n",
            "0.000000 (0.000000) with: {'C': 1.0, 'class_weight': {0: 0.1, 1: 0.9}, 'penalty': 'l1', 'solver': 'sag'}\n",
            "0.296740 (0.007428) with: {'C': 1.0, 'class_weight': {0: 0.1, 1: 0.9}, 'penalty': 'l1', 'solver': 'saga'}\n",
            "0.340478 (0.013850) with: {'C': 1.0, 'class_weight': {0: 0.1, 1: 0.9}, 'penalty': 'l2', 'solver': 'newton-cg'}\n",
            "0.318536 (0.011035) with: {'C': 1.0, 'class_weight': {0: 0.1, 1: 0.9}, 'penalty': 'l2', 'solver': 'lbfgs'}\n",
            "0.300376 (0.006471) with: {'C': 1.0, 'class_weight': {0: 0.1, 1: 0.9}, 'penalty': 'l2', 'solver': 'sag'}\n",
            "0.297531 (0.007447) with: {'C': 1.0, 'class_weight': {0: 0.1, 1: 0.9}, 'penalty': 'l2', 'solver': 'saga'}\n",
            "0.000000 (0.000000) with: {'C': 1.0, 'class_weight': {0: 0.1, 1: 0.9}, 'penalty': 'elasticnet', 'solver': 'newton-cg'}\n",
            "0.000000 (0.000000) with: {'C': 1.0, 'class_weight': {0: 0.1, 1: 0.9}, 'penalty': 'elasticnet', 'solver': 'lbfgs'}\n",
            "0.000000 (0.000000) with: {'C': 1.0, 'class_weight': {0: 0.1, 1: 0.9}, 'penalty': 'elasticnet', 'solver': 'sag'}\n",
            "0.000000 (0.000000) with: {'C': 1.0, 'class_weight': {0: 0.1, 1: 0.9}, 'penalty': 'elasticnet', 'solver': 'saga'}\n",
            "0.304882 (0.022762) with: {'C': 1.0, 'class_weight': {0: 0.3, 1: 0.7}, 'penalty': 'none', 'solver': 'newton-cg'}\n",
            "0.271073 (0.020709) with: {'C': 1.0, 'class_weight': {0: 0.3, 1: 0.7}, 'penalty': 'none', 'solver': 'lbfgs'}\n",
            "0.229980 (0.024929) with: {'C': 1.0, 'class_weight': {0: 0.3, 1: 0.7}, 'penalty': 'none', 'solver': 'sag'}\n",
            "0.229582 (0.019513) with: {'C': 1.0, 'class_weight': {0: 0.3, 1: 0.7}, 'penalty': 'none', 'solver': 'saga'}\n",
            "0.000000 (0.000000) with: {'C': 1.0, 'class_weight': {0: 0.3, 1: 0.7}, 'penalty': 'l1', 'solver': 'newton-cg'}\n",
            "0.000000 (0.000000) with: {'C': 1.0, 'class_weight': {0: 0.3, 1: 0.7}, 'penalty': 'l1', 'solver': 'lbfgs'}\n",
            "0.000000 (0.000000) with: {'C': 1.0, 'class_weight': {0: 0.3, 1: 0.7}, 'penalty': 'l1', 'solver': 'sag'}\n",
            "0.229582 (0.019513) with: {'C': 1.0, 'class_weight': {0: 0.3, 1: 0.7}, 'penalty': 'l1', 'solver': 'saga'}\n",
            "0.304496 (0.022255) with: {'C': 1.0, 'class_weight': {0: 0.3, 1: 0.7}, 'penalty': 'l2', 'solver': 'newton-cg'}\n",
            "0.261181 (0.035011) with: {'C': 1.0, 'class_weight': {0: 0.3, 1: 0.7}, 'penalty': 'l2', 'solver': 'lbfgs'}\n",
            "0.229980 (0.024929) with: {'C': 1.0, 'class_weight': {0: 0.3, 1: 0.7}, 'penalty': 'l2', 'solver': 'sag'}\n",
            "0.229313 (0.019905) with: {'C': 1.0, 'class_weight': {0: 0.3, 1: 0.7}, 'penalty': 'l2', 'solver': 'saga'}\n",
            "0.000000 (0.000000) with: {'C': 1.0, 'class_weight': {0: 0.3, 1: 0.7}, 'penalty': 'elasticnet', 'solver': 'newton-cg'}\n",
            "0.000000 (0.000000) with: {'C': 1.0, 'class_weight': {0: 0.3, 1: 0.7}, 'penalty': 'elasticnet', 'solver': 'lbfgs'}\n",
            "0.000000 (0.000000) with: {'C': 1.0, 'class_weight': {0: 0.3, 1: 0.7}, 'penalty': 'elasticnet', 'solver': 'sag'}\n",
            "0.000000 (0.000000) with: {'C': 1.0, 'class_weight': {0: 0.3, 1: 0.7}, 'penalty': 'elasticnet', 'solver': 'saga'}\n",
            "0.373598 (0.028627) with: {'C': 0.1, 'class_weight': {0: 0.15, 1: 0.85}, 'penalty': 'none', 'solver': 'newton-cg'}\n",
            "0.348950 (0.025284) with: {'C': 0.1, 'class_weight': {0: 0.15, 1: 0.85}, 'penalty': 'none', 'solver': 'lbfgs'}\n",
            "0.327677 (0.010723) with: {'C': 0.1, 'class_weight': {0: 0.15, 1: 0.85}, 'penalty': 'none', 'solver': 'sag'}\n",
            "0.328215 (0.011781) with: {'C': 0.1, 'class_weight': {0: 0.15, 1: 0.85}, 'penalty': 'none', 'solver': 'saga'}\n",
            "0.000000 (0.000000) with: {'C': 0.1, 'class_weight': {0: 0.15, 1: 0.85}, 'penalty': 'l1', 'solver': 'newton-cg'}\n",
            "0.000000 (0.000000) with: {'C': 0.1, 'class_weight': {0: 0.15, 1: 0.85}, 'penalty': 'l1', 'solver': 'lbfgs'}\n",
            "0.000000 (0.000000) with: {'C': 0.1, 'class_weight': {0: 0.15, 1: 0.85}, 'penalty': 'l1', 'solver': 'sag'}\n",
            "0.330230 (0.008741) with: {'C': 0.1, 'class_weight': {0: 0.15, 1: 0.85}, 'penalty': 'l1', 'solver': 'saga'}\n",
            "0.376923 (0.026985) with: {'C': 0.1, 'class_weight': {0: 0.15, 1: 0.85}, 'penalty': 'l2', 'solver': 'newton-cg'}\n",
            "0.342695 (0.020487) with: {'C': 0.1, 'class_weight': {0: 0.15, 1: 0.85}, 'penalty': 'l2', 'solver': 'lbfgs'}\n",
            "0.327677 (0.010723) with: {'C': 0.1, 'class_weight': {0: 0.15, 1: 0.85}, 'penalty': 'l2', 'solver': 'sag'}\n",
            "0.328215 (0.011781) with: {'C': 0.1, 'class_weight': {0: 0.15, 1: 0.85}, 'penalty': 'l2', 'solver': 'saga'}\n",
            "0.000000 (0.000000) with: {'C': 0.1, 'class_weight': {0: 0.15, 1: 0.85}, 'penalty': 'elasticnet', 'solver': 'newton-cg'}\n",
            "0.000000 (0.000000) with: {'C': 0.1, 'class_weight': {0: 0.15, 1: 0.85}, 'penalty': 'elasticnet', 'solver': 'lbfgs'}\n",
            "0.000000 (0.000000) with: {'C': 0.1, 'class_weight': {0: 0.15, 1: 0.85}, 'penalty': 'elasticnet', 'solver': 'sag'}\n",
            "0.000000 (0.000000) with: {'C': 0.1, 'class_weight': {0: 0.15, 1: 0.85}, 'penalty': 'elasticnet', 'solver': 'saga'}\n",
            "0.361873 (0.025070) with: {'C': 0.1, 'class_weight': {0: 0.12, 1: 0.88}, 'penalty': 'none', 'solver': 'newton-cg'}\n",
            "0.340126 (0.018169) with: {'C': 0.1, 'class_weight': {0: 0.12, 1: 0.88}, 'penalty': 'none', 'solver': 'lbfgs'}\n",
            "0.312199 (0.007984) with: {'C': 0.1, 'class_weight': {0: 0.12, 1: 0.88}, 'penalty': 'none', 'solver': 'sag'}\n",
            "0.307440 (0.007564) with: {'C': 0.1, 'class_weight': {0: 0.12, 1: 0.88}, 'penalty': 'none', 'solver': 'saga'}\n",
            "0.000000 (0.000000) with: {'C': 0.1, 'class_weight': {0: 0.12, 1: 0.88}, 'penalty': 'l1', 'solver': 'newton-cg'}\n",
            "0.000000 (0.000000) with: {'C': 0.1, 'class_weight': {0: 0.12, 1: 0.88}, 'penalty': 'l1', 'solver': 'lbfgs'}\n",
            "0.000000 (0.000000) with: {'C': 0.1, 'class_weight': {0: 0.12, 1: 0.88}, 'penalty': 'l1', 'solver': 'sag'}\n",
            "0.308839 (0.007812) with: {'C': 0.1, 'class_weight': {0: 0.12, 1: 0.88}, 'penalty': 'l1', 'solver': 'saga'}\n",
            "0.366430 (0.023571) with: {'C': 0.1, 'class_weight': {0: 0.12, 1: 0.88}, 'penalty': 'l2', 'solver': 'newton-cg'}\n",
            "0.332560 (0.019425) with: {'C': 0.1, 'class_weight': {0: 0.12, 1: 0.88}, 'penalty': 'l2', 'solver': 'lbfgs'}\n",
            "0.312199 (0.007984) with: {'C': 0.1, 'class_weight': {0: 0.12, 1: 0.88}, 'penalty': 'l2', 'solver': 'sag'}\n",
            "0.307875 (0.008020) with: {'C': 0.1, 'class_weight': {0: 0.12, 1: 0.88}, 'penalty': 'l2', 'solver': 'saga'}\n",
            "0.000000 (0.000000) with: {'C': 0.1, 'class_weight': {0: 0.12, 1: 0.88}, 'penalty': 'elasticnet', 'solver': 'newton-cg'}\n",
            "0.000000 (0.000000) with: {'C': 0.1, 'class_weight': {0: 0.12, 1: 0.88}, 'penalty': 'elasticnet', 'solver': 'lbfgs'}\n",
            "0.000000 (0.000000) with: {'C': 0.1, 'class_weight': {0: 0.12, 1: 0.88}, 'penalty': 'elasticnet', 'solver': 'sag'}\n",
            "0.000000 (0.000000) with: {'C': 0.1, 'class_weight': {0: 0.12, 1: 0.88}, 'penalty': 'elasticnet', 'solver': 'saga'}\n",
            "0.340826 (0.012233) with: {'C': 0.1, 'class_weight': {0: 0.1, 1: 0.9}, 'penalty': 'none', 'solver': 'newton-cg'}\n",
            "0.308946 (0.006559) with: {'C': 0.1, 'class_weight': {0: 0.1, 1: 0.9}, 'penalty': 'none', 'solver': 'lbfgs'}\n",
            "0.300573 (0.006309) with: {'C': 0.1, 'class_weight': {0: 0.1, 1: 0.9}, 'penalty': 'none', 'solver': 'sag'}\n",
            "0.297244 (0.007656) with: {'C': 0.1, 'class_weight': {0: 0.1, 1: 0.9}, 'penalty': 'none', 'solver': 'saga'}\n",
            "0.000000 (0.000000) with: {'C': 0.1, 'class_weight': {0: 0.1, 1: 0.9}, 'penalty': 'l1', 'solver': 'newton-cg'}\n",
            "0.000000 (0.000000) with: {'C': 0.1, 'class_weight': {0: 0.1, 1: 0.9}, 'penalty': 'l1', 'solver': 'lbfgs'}\n",
            "0.000000 (0.000000) with: {'C': 0.1, 'class_weight': {0: 0.1, 1: 0.9}, 'penalty': 'l1', 'solver': 'sag'}\n",
            "0.293951 (0.005558) with: {'C': 0.1, 'class_weight': {0: 0.1, 1: 0.9}, 'penalty': 'l1', 'solver': 'saga'}\n",
            "0.343806 (0.016729) with: {'C': 0.1, 'class_weight': {0: 0.1, 1: 0.9}, 'penalty': 'l2', 'solver': 'newton-cg'}\n",
            "0.313782 (0.008801) with: {'C': 0.1, 'class_weight': {0: 0.1, 1: 0.9}, 'penalty': 'l2', 'solver': 'lbfgs'}\n",
            "0.300276 (0.006508) with: {'C': 0.1, 'class_weight': {0: 0.1, 1: 0.9}, 'penalty': 'l2', 'solver': 'sag'}\n",
            "0.297039 (0.007586) with: {'C': 0.1, 'class_weight': {0: 0.1, 1: 0.9}, 'penalty': 'l2', 'solver': 'saga'}\n",
            "0.000000 (0.000000) with: {'C': 0.1, 'class_weight': {0: 0.1, 1: 0.9}, 'penalty': 'elasticnet', 'solver': 'newton-cg'}\n",
            "0.000000 (0.000000) with: {'C': 0.1, 'class_weight': {0: 0.1, 1: 0.9}, 'penalty': 'elasticnet', 'solver': 'lbfgs'}\n",
            "0.000000 (0.000000) with: {'C': 0.1, 'class_weight': {0: 0.1, 1: 0.9}, 'penalty': 'elasticnet', 'solver': 'sag'}\n",
            "0.000000 (0.000000) with: {'C': 0.1, 'class_weight': {0: 0.1, 1: 0.9}, 'penalty': 'elasticnet', 'solver': 'saga'}\n",
            "0.304882 (0.022762) with: {'C': 0.1, 'class_weight': {0: 0.3, 1: 0.7}, 'penalty': 'none', 'solver': 'newton-cg'}\n",
            "0.271073 (0.020709) with: {'C': 0.1, 'class_weight': {0: 0.3, 1: 0.7}, 'penalty': 'none', 'solver': 'lbfgs'}\n",
            "0.229980 (0.024929) with: {'C': 0.1, 'class_weight': {0: 0.3, 1: 0.7}, 'penalty': 'none', 'solver': 'sag'}\n",
            "0.229313 (0.019905) with: {'C': 0.1, 'class_weight': {0: 0.3, 1: 0.7}, 'penalty': 'none', 'solver': 'saga'}\n",
            "0.000000 (0.000000) with: {'C': 0.1, 'class_weight': {0: 0.3, 1: 0.7}, 'penalty': 'l1', 'solver': 'newton-cg'}\n",
            "0.000000 (0.000000) with: {'C': 0.1, 'class_weight': {0: 0.3, 1: 0.7}, 'penalty': 'l1', 'solver': 'lbfgs'}\n",
            "0.000000 (0.000000) with: {'C': 0.1, 'class_weight': {0: 0.3, 1: 0.7}, 'penalty': 'l1', 'solver': 'sag'}\n",
            "0.214556 (0.024716) with: {'C': 0.1, 'class_weight': {0: 0.3, 1: 0.7}, 'penalty': 'l1', 'solver': 'saga'}\n",
            "0.302776 (0.030833) with: {'C': 0.1, 'class_weight': {0: 0.3, 1: 0.7}, 'penalty': 'l2', 'solver': 'newton-cg'}\n",
            "0.256034 (0.033787) with: {'C': 0.1, 'class_weight': {0: 0.3, 1: 0.7}, 'penalty': 'l2', 'solver': 'lbfgs'}\n",
            "0.229980 (0.024929) with: {'C': 0.1, 'class_weight': {0: 0.3, 1: 0.7}, 'penalty': 'l2', 'solver': 'sag'}\n",
            "0.229313 (0.019905) with: {'C': 0.1, 'class_weight': {0: 0.3, 1: 0.7}, 'penalty': 'l2', 'solver': 'saga'}\n",
            "0.000000 (0.000000) with: {'C': 0.1, 'class_weight': {0: 0.3, 1: 0.7}, 'penalty': 'elasticnet', 'solver': 'newton-cg'}\n",
            "0.000000 (0.000000) with: {'C': 0.1, 'class_weight': {0: 0.3, 1: 0.7}, 'penalty': 'elasticnet', 'solver': 'lbfgs'}\n",
            "0.000000 (0.000000) with: {'C': 0.1, 'class_weight': {0: 0.3, 1: 0.7}, 'penalty': 'elasticnet', 'solver': 'sag'}\n",
            "0.000000 (0.000000) with: {'C': 0.1, 'class_weight': {0: 0.3, 1: 0.7}, 'penalty': 'elasticnet', 'solver': 'saga'}\n",
            "0.373598 (0.028627) with: {'C': 0.01, 'class_weight': {0: 0.15, 1: 0.85}, 'penalty': 'none', 'solver': 'newton-cg'}\n",
            "0.348950 (0.025284) with: {'C': 0.01, 'class_weight': {0: 0.15, 1: 0.85}, 'penalty': 'none', 'solver': 'lbfgs'}\n",
            "0.327677 (0.010723) with: {'C': 0.01, 'class_weight': {0: 0.15, 1: 0.85}, 'penalty': 'none', 'solver': 'sag'}\n",
            "0.328363 (0.011674) with: {'C': 0.01, 'class_weight': {0: 0.15, 1: 0.85}, 'penalty': 'none', 'solver': 'saga'}\n",
            "0.000000 (0.000000) with: {'C': 0.01, 'class_weight': {0: 0.15, 1: 0.85}, 'penalty': 'l1', 'solver': 'newton-cg'}\n",
            "0.000000 (0.000000) with: {'C': 0.01, 'class_weight': {0: 0.15, 1: 0.85}, 'penalty': 'l1', 'solver': 'lbfgs'}\n",
            "0.000000 (0.000000) with: {'C': 0.01, 'class_weight': {0: 0.15, 1: 0.85}, 'penalty': 'l1', 'solver': 'sag'}\n",
            "0.315128 (0.018964) with: {'C': 0.01, 'class_weight': {0: 0.15, 1: 0.85}, 'penalty': 'l1', 'solver': 'saga'}\n",
            "0.374328 (0.022964) with: {'C': 0.01, 'class_weight': {0: 0.15, 1: 0.85}, 'penalty': 'l2', 'solver': 'newton-cg'}\n",
            "0.342012 (0.011268) with: {'C': 0.01, 'class_weight': {0: 0.15, 1: 0.85}, 'penalty': 'l2', 'solver': 'lbfgs'}\n",
            "0.327654 (0.010598) with: {'C': 0.01, 'class_weight': {0: 0.15, 1: 0.85}, 'penalty': 'l2', 'solver': 'sag'}\n",
            "0.328728 (0.010785) with: {'C': 0.01, 'class_weight': {0: 0.15, 1: 0.85}, 'penalty': 'l2', 'solver': 'saga'}\n",
            "0.000000 (0.000000) with: {'C': 0.01, 'class_weight': {0: 0.15, 1: 0.85}, 'penalty': 'elasticnet', 'solver': 'newton-cg'}\n",
            "0.000000 (0.000000) with: {'C': 0.01, 'class_weight': {0: 0.15, 1: 0.85}, 'penalty': 'elasticnet', 'solver': 'lbfgs'}\n",
            "0.000000 (0.000000) with: {'C': 0.01, 'class_weight': {0: 0.15, 1: 0.85}, 'penalty': 'elasticnet', 'solver': 'sag'}\n",
            "0.000000 (0.000000) with: {'C': 0.01, 'class_weight': {0: 0.15, 1: 0.85}, 'penalty': 'elasticnet', 'solver': 'saga'}\n",
            "0.361873 (0.025070) with: {'C': 0.01, 'class_weight': {0: 0.12, 1: 0.88}, 'penalty': 'none', 'solver': 'newton-cg'}\n",
            "0.340126 (0.018169) with: {'C': 0.01, 'class_weight': {0: 0.12, 1: 0.88}, 'penalty': 'none', 'solver': 'lbfgs'}\n",
            "0.312199 (0.007984) with: {'C': 0.01, 'class_weight': {0: 0.12, 1: 0.88}, 'penalty': 'none', 'solver': 'sag'}\n",
            "0.308121 (0.008004) with: {'C': 0.01, 'class_weight': {0: 0.12, 1: 0.88}, 'penalty': 'none', 'solver': 'saga'}\n",
            "0.000000 (0.000000) with: {'C': 0.01, 'class_weight': {0: 0.12, 1: 0.88}, 'penalty': 'l1', 'solver': 'newton-cg'}\n",
            "0.000000 (0.000000) with: {'C': 0.01, 'class_weight': {0: 0.12, 1: 0.88}, 'penalty': 'l1', 'solver': 'lbfgs'}\n",
            "0.000000 (0.000000) with: {'C': 0.01, 'class_weight': {0: 0.12, 1: 0.88}, 'penalty': 'l1', 'solver': 'sag'}\n",
            "0.295798 (0.011114) with: {'C': 0.01, 'class_weight': {0: 0.12, 1: 0.88}, 'penalty': 'l1', 'solver': 'saga'}\n",
            "0.360210 (0.023166) with: {'C': 0.01, 'class_weight': {0: 0.12, 1: 0.88}, 'penalty': 'l2', 'solver': 'newton-cg'}\n",
            "0.321900 (0.009312) with: {'C': 0.01, 'class_weight': {0: 0.12, 1: 0.88}, 'penalty': 'l2', 'solver': 'lbfgs'}\n",
            "0.312599 (0.007156) with: {'C': 0.01, 'class_weight': {0: 0.12, 1: 0.88}, 'penalty': 'l2', 'solver': 'sag'}\n",
            "0.309211 (0.007620) with: {'C': 0.01, 'class_weight': {0: 0.12, 1: 0.88}, 'penalty': 'l2', 'solver': 'saga'}\n",
            "0.000000 (0.000000) with: {'C': 0.01, 'class_weight': {0: 0.12, 1: 0.88}, 'penalty': 'elasticnet', 'solver': 'newton-cg'}\n",
            "0.000000 (0.000000) with: {'C': 0.01, 'class_weight': {0: 0.12, 1: 0.88}, 'penalty': 'elasticnet', 'solver': 'lbfgs'}\n",
            "0.000000 (0.000000) with: {'C': 0.01, 'class_weight': {0: 0.12, 1: 0.88}, 'penalty': 'elasticnet', 'solver': 'sag'}\n",
            "0.000000 (0.000000) with: {'C': 0.01, 'class_weight': {0: 0.12, 1: 0.88}, 'penalty': 'elasticnet', 'solver': 'saga'}\n",
            "0.340826 (0.012233) with: {'C': 0.01, 'class_weight': {0: 0.1, 1: 0.9}, 'penalty': 'none', 'solver': 'newton-cg'}\n",
            "0.308946 (0.006559) with: {'C': 0.01, 'class_weight': {0: 0.1, 1: 0.9}, 'penalty': 'none', 'solver': 'lbfgs'}\n",
            "0.300368 (0.006373) with: {'C': 0.01, 'class_weight': {0: 0.1, 1: 0.9}, 'penalty': 'none', 'solver': 'sag'}\n",
            "0.297244 (0.007656) with: {'C': 0.01, 'class_weight': {0: 0.1, 1: 0.9}, 'penalty': 'none', 'solver': 'saga'}\n",
            "0.000000 (0.000000) with: {'C': 0.01, 'class_weight': {0: 0.1, 1: 0.9}, 'penalty': 'l1', 'solver': 'newton-cg'}\n",
            "0.000000 (0.000000) with: {'C': 0.01, 'class_weight': {0: 0.1, 1: 0.9}, 'penalty': 'l1', 'solver': 'lbfgs'}\n",
            "0.000000 (0.000000) with: {'C': 0.01, 'class_weight': {0: 0.1, 1: 0.9}, 'penalty': 'l1', 'solver': 'sag'}\n",
            "0.281169 (0.005924) with: {'C': 0.01, 'class_weight': {0: 0.1, 1: 0.9}, 'penalty': 'l1', 'solver': 'saga'}\n",
            "0.343513 (0.016200) with: {'C': 0.01, 'class_weight': {0: 0.1, 1: 0.9}, 'penalty': 'l2', 'solver': 'newton-cg'}\n",
            "0.305510 (0.007167) with: {'C': 0.01, 'class_weight': {0: 0.1, 1: 0.9}, 'penalty': 'l2', 'solver': 'lbfgs'}\n",
            "0.299574 (0.006762) with: {'C': 0.01, 'class_weight': {0: 0.1, 1: 0.9}, 'penalty': 'l2', 'solver': 'sag'}\n",
            "0.296140 (0.007098) with: {'C': 0.01, 'class_weight': {0: 0.1, 1: 0.9}, 'penalty': 'l2', 'solver': 'saga'}\n",
            "0.000000 (0.000000) with: {'C': 0.01, 'class_weight': {0: 0.1, 1: 0.9}, 'penalty': 'elasticnet', 'solver': 'newton-cg'}\n",
            "0.000000 (0.000000) with: {'C': 0.01, 'class_weight': {0: 0.1, 1: 0.9}, 'penalty': 'elasticnet', 'solver': 'lbfgs'}\n",
            "0.000000 (0.000000) with: {'C': 0.01, 'class_weight': {0: 0.1, 1: 0.9}, 'penalty': 'elasticnet', 'solver': 'sag'}\n",
            "0.000000 (0.000000) with: {'C': 0.01, 'class_weight': {0: 0.1, 1: 0.9}, 'penalty': 'elasticnet', 'solver': 'saga'}\n",
            "0.304882 (0.022762) with: {'C': 0.01, 'class_weight': {0: 0.3, 1: 0.7}, 'penalty': 'none', 'solver': 'newton-cg'}\n",
            "0.271073 (0.020709) with: {'C': 0.01, 'class_weight': {0: 0.3, 1: 0.7}, 'penalty': 'none', 'solver': 'lbfgs'}\n",
            "0.229980 (0.024929) with: {'C': 0.01, 'class_weight': {0: 0.3, 1: 0.7}, 'penalty': 'none', 'solver': 'sag'}\n",
            "0.229313 (0.019905) with: {'C': 0.01, 'class_weight': {0: 0.3, 1: 0.7}, 'penalty': 'none', 'solver': 'saga'}\n",
            "0.000000 (0.000000) with: {'C': 0.01, 'class_weight': {0: 0.3, 1: 0.7}, 'penalty': 'l1', 'solver': 'newton-cg'}\n",
            "0.000000 (0.000000) with: {'C': 0.01, 'class_weight': {0: 0.3, 1: 0.7}, 'penalty': 'l1', 'solver': 'lbfgs'}\n",
            "0.000000 (0.000000) with: {'C': 0.01, 'class_weight': {0: 0.3, 1: 0.7}, 'penalty': 'l1', 'solver': 'sag'}\n",
            "0.143834 (0.018974) with: {'C': 0.01, 'class_weight': {0: 0.3, 1: 0.7}, 'penalty': 'l1', 'solver': 'saga'}\n",
            "0.292135 (0.033191) with: {'C': 0.01, 'class_weight': {0: 0.3, 1: 0.7}, 'penalty': 'l2', 'solver': 'newton-cg'}\n",
            "0.246989 (0.042010) with: {'C': 0.01, 'class_weight': {0: 0.3, 1: 0.7}, 'penalty': 'l2', 'solver': 'lbfgs'}\n",
            "0.228680 (0.021292) with: {'C': 0.01, 'class_weight': {0: 0.3, 1: 0.7}, 'penalty': 'l2', 'solver': 'sag'}\n",
            "0.229890 (0.019280) with: {'C': 0.01, 'class_weight': {0: 0.3, 1: 0.7}, 'penalty': 'l2', 'solver': 'saga'}\n",
            "0.000000 (0.000000) with: {'C': 0.01, 'class_weight': {0: 0.3, 1: 0.7}, 'penalty': 'elasticnet', 'solver': 'newton-cg'}\n",
            "0.000000 (0.000000) with: {'C': 0.01, 'class_weight': {0: 0.3, 1: 0.7}, 'penalty': 'elasticnet', 'solver': 'lbfgs'}\n",
            "0.000000 (0.000000) with: {'C': 0.01, 'class_weight': {0: 0.3, 1: 0.7}, 'penalty': 'elasticnet', 'solver': 'sag'}\n",
            "0.000000 (0.000000) with: {'C': 0.01, 'class_weight': {0: 0.3, 1: 0.7}, 'penalty': 'elasticnet', 'solver': 'saga'}\n"
          ]
        }
      ]
    },
    {
      "cell_type": "code",
      "source": [
        "grid_result.best_params_"
      ],
      "metadata": {
        "colab": {
          "base_uri": "https://localhost:8080/"
        },
        "id": "b90h1FU2iVj6",
        "outputId": "75c05037-f0e5-4b4a-8bf7-3bf2e92f8cdc"
      },
      "execution_count": 70,
      "outputs": [
        {
          "output_type": "execute_result",
          "data": {
            "text/plain": [
              "{'C': 0.1,\n",
              " 'class_weight': {0: 0.15, 1: 0.85},\n",
              " 'penalty': 'l2',\n",
              " 'solver': 'newton-cg'}"
            ]
          },
          "metadata": {},
          "execution_count": 70
        }
      ]
    },
    {
      "cell_type": "code",
      "source": [
        "tuned_logistic=LogisticRegression(C=0.11, class_weight= {0: 0.15, 1: 0.85}, penalty='l2',solver='newton-cg')\n",
        "tuned_logistic.fit(X_train,y_train)"
      ],
      "metadata": {
        "colab": {
          "base_uri": "https://localhost:8080/"
        },
        "id": "xj681jR5kdNK",
        "outputId": "903cbc51-f619-481c-99eb-38d6520d92c5"
      },
      "execution_count": 71,
      "outputs": [
        {
          "output_type": "execute_result",
          "data": {
            "text/plain": [
              "LogisticRegression(C=0.11, class_weight={0: 0.15, 1: 0.85}, solver='newton-cg')"
            ]
          },
          "metadata": {},
          "execution_count": 71
        }
      ]
    },
    {
      "cell_type": "code",
      "source": [
        "# Get the predicted classes\n",
        "train_class_preds = tuned_logistic.predict(X_train)\n",
        "test_class_preds = tuned_logistic.predict(X_test)"
      ],
      "metadata": {
        "id": "s6FJiAaSlR_H"
      },
      "execution_count": 72,
      "outputs": []
    },
    {
      "cell_type": "code",
      "source": [
        "# Get the confusion matrix for test\n",
        "\n",
        "labels = ['Not at Risk','Heart Risk' ]\n",
        "cm = confusion_matrix(y_test, test_class_preds)\n",
        "print(cm)\n",
        "\n",
        "cat = ['TN','FP','FN','TP']\n",
        "#cat = np.asarray(labels2).reshape(2,2)\n",
        "counts = [count for count in cm.flatten()]\n",
        "labelsIn = [f\"{v1}\\n{v2}\" for v1, v2 in  zip(cat,counts)]\n",
        "\n",
        "labelsIn = np.asarray(labelsIn).reshape(2,2)\n",
        "\n",
        "ax= plt.subplot()\n",
        "sns.heatmap(cm, annot=labelsIn, ax = ax,fmt='', cmap='Blues');\n",
        "\n",
        "# labels, title and ticks\n",
        "ax.set_xlabel('Predicted labels')\n",
        "ax.set_ylabel('True labels')\n",
        "ax.set_title('Confusion Matrix')\n",
        "ax.xaxis.set_ticklabels(labels)\n",
        "ax.yaxis.set_ticklabels(labels)"
      ],
      "metadata": {
        "colab": {
          "base_uri": "https://localhost:8080/",
          "height": 347
        },
        "outputId": "bca3d2e4-1f5f-4c59-9f8a-f6c9991de7ac",
        "id": "S14ED04DlR_H"
      },
      "execution_count": 73,
      "outputs": [
        {
          "output_type": "stream",
          "name": "stdout",
          "text": [
            "[[475 246]\n",
            " [ 44  83]]\n"
          ]
        },
        {
          "output_type": "execute_result",
          "data": {
            "text/plain": [
              "[Text(0, 0.5, 'Not at Risk'), Text(0, 1.5, 'Heart Risk')]"
            ]
          },
          "metadata": {},
          "execution_count": 73
        },
        {
          "output_type": "display_data",
          "data": {
            "image/png": "[encoded data removed]",
            "text/plain": [
              "<Figure size 432x288 with 2 Axes>"
            ]
          },
          "metadata": {
            "needs_background": "light"
          }
        }
      ]
    },
    {
      "cell_type": "code",
      "source": [
        "## Calc Precision and recall\n",
        "from sklearn.metrics import roc_auc_score,recall_score,precision_score\n",
        "\n",
        "roc_auc = roc_auc_score(y_test, test_class_preds)\n"
      ],
      "metadata": {
        "id": "3nexf1qElR_I"
      },
      "execution_count": 74,
      "outputs": []
    },
    {
      "cell_type": "code",
      "source": [
        "roc_auc"
      ],
      "metadata": {
        "colab": {
          "base_uri": "https://localhost:8080/"
        },
        "outputId": "773edbb3-ef4e-4308-b9f9-3ce88bc881a8",
        "id": "rbyOcl2ZlR_I"
      },
      "execution_count": 75,
      "outputs": [
        {
          "output_type": "execute_result",
          "data": {
            "text/plain": [
              "0.6561752596459423"
            ]
          },
          "metadata": {},
          "execution_count": 75
        }
      ]
    },
    {
      "cell_type": "code",
      "source": [
        "precision = precision_score(y_test, test_class_preds, average='binary')\n",
        "recall = recall_score(y_test, test_class_preds, average='binary')"
      ],
      "metadata": {
        "id": "oppUaGXzlR_I"
      },
      "execution_count": 76,
      "outputs": []
    },
    {
      "cell_type": "code",
      "source": [
        "print(precision)\n",
        "print(\"\\n\")\n",
        "print(recall)"
      ],
      "metadata": {
        "colab": {
          "base_uri": "https://localhost:8080/"
        },
        "outputId": "274d95d6-ca1a-4c64-b197-d51c4ff8e397",
        "id": "MIrO9dRBlR_J"
      },
      "execution_count": 77,
      "outputs": [
        {
          "output_type": "stream",
          "name": "stdout",
          "text": [
            "0.25227963525835867\n",
            "\n",
            "\n",
            "0.6535433070866141\n"
          ]
        }
      ]
    },
    {
      "cell_type": "code",
      "source": [
        ""
      ],
      "metadata": {
        "id": "YAEYbBarlRpb"
      },
      "execution_count": 77,
      "outputs": []
    },
    {
      "cell_type": "code",
      "source": [
        ""
      ],
      "metadata": {
        "id": "QSWypHxylRmL"
      },
      "execution_count": 77,
      "outputs": []
    }
  ]
}