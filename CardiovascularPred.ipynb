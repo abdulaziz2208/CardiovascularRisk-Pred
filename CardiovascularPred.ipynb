{
  "nbformat": 4,
  "nbformat_minor": 0,
  "metadata": {
    "colab": {
      "name": "CardiovascularPred.ipynb",
      "provenance": [],
      "collapsed_sections": [],
      "authorship_tag": "ABX9TyO9P/RywVmg2/0lwdRnPv54"
    },
    "kernelspec": {
      "name": "python3",
      "display_name": "Python 3"
    },
    "language_info": {
      "name": "python"
    }
  },
  "cells": [
    {
      "cell_type": "code",
      "execution_count": 2,
      "metadata": {
        "id": "bDgZux8KWfUo"
      },
      "outputs": [],
      "source": [
        "!pip install imbalanced-learn &> /dev/null\n",
        "!pip install smote-variants &> /dev/null"
      ]
    },
    {
      "cell_type": "code",
      "source": [
        "import pandas as pd\n",
        "import numpy as np\n",
        "\n",
        "import matplotlib.pyplot as plt\n",
        "%matplotlib inline\n",
        "import seaborn as sns\n",
        "import statistics as s\n",
        "from sklearn.impute import KNNImputer\n",
        "## Will delete if not req\n",
        "from numpy import math\n",
        "\n",
        "\n",
        "from sklearn.model_selection import train_test_split,GridSearchCV\n",
        "from sklearn.linear_model import LogisticRegressionCV,LogisticRegression\n",
        "from sklearn.model_selection import cross_validate,RepeatedStratifiedKFold,cross_val_score\n",
        "from sklearn.metrics import accuracy_score, confusion_matrix\n",
        "from sklearn.preprocessing import StandardScaler\n",
        "from sklearn.metrics import roc_curve,precision_recall_curve\n",
        "from sklearn.metrics import roc_auc_score,recall_score,precision_score\n",
        "import smote_variants as sv\n",
        "from sklearn.svm import SVC\n",
        "\n",
        "from sklearn.model_selection import RepeatedStratifiedKFold\n",
        "from sklearn.model_selection import GridSearchCV\n",
        "from sklearn.ensemble import BaggingClassifier\n",
        "from sklearn.naive_bayes import GaussianNB\n",
        "\n",
        "##used to ignore warning messages\n",
        "import warnings\n",
        "warnings.filterwarnings('ignore')"
      ],
      "metadata": {
        "id": "aWtPqUJOdPb8"
      },
      "execution_count": 3,
      "outputs": []
    },
    {
      "cell_type": "code",
      "source": [
        "from google.colab import drive\n",
        "drive.mount('/content/drive')"
      ],
      "metadata": {
        "colab": {
          "base_uri": "https://localhost:8080/"
        },
        "id": "d-2m-WGR9_FH",
        "outputId": "5f04b7b4-7e85-4472-db60-3a643bfc0c52"
      },
      "execution_count": 4,
      "outputs": [
        {
          "output_type": "stream",
          "name": "stdout",
          "text": [
            "Mounted at /content/drive\n"
          ]
        }
      ]
    },
    {
      "cell_type": "code",
      "source": [
        "data = pd.read_csv(\"/content/drive/MyDrive/Almabetter learning/Cardiovascular Risk Prediction/data_cardiovascular_risk.csv\")\n",
        "print(\"Dataset size\")\n",
        "print(\"Rows {} Columns {}\".format(data.shape[0], data.shape[1]))"
      ],
      "metadata": {
        "colab": {
          "base_uri": "https://localhost:8080/"
        },
        "id": "7xhkL7nscvtm",
        "outputId": "0061a64e-605f-48ab-bc4a-3c1dfd7ad29d"
      },
      "execution_count": 5,
      "outputs": [
        {
          "output_type": "stream",
          "name": "stdout",
          "text": [
            "Dataset size\n",
            "Rows 3390 Columns 17\n"
          ]
        }
      ]
    },
    {
      "cell_type": "code",
      "source": [
        "data.sample(5)"
      ],
      "metadata": {
        "colab": {
          "base_uri": "https://localhost:8080/",
          "height": 250
        },
        "id": "BUQyDDTGdNGm",
        "outputId": "c857727b-f781-474b-95cb-95ff8638101e"
      },
      "execution_count": 6,
      "outputs": [
        {
          "output_type": "execute_result",
          "data": {
            "text/html": [
              "\n",
              "  <div id=\"df-c5f87d84-ac61-4296-92ff-80f3ee4ea7a8\">\n",
              "    <div class=\"colab-df-container\">\n",
              "      <div>\n",
              "<style scoped>\n",
              "    .dataframe tbody tr th:only-of-type {\n",
              "        vertical-align: middle;\n",
              "    }\n",
              "\n",
              "    .dataframe tbody tr th {\n",
              "        vertical-align: top;\n",
              "    }\n",
              "\n",
              "    .dataframe thead th {\n",
              "        text-align: right;\n",
              "    }\n",
              "</style>\n",
              "<table border=\"1\" class=\"dataframe\">\n",
              "  <thead>\n",
              "    <tr style=\"text-align: right;\">\n",
              "      <th></th>\n",
              "      <th>id</th>\n",
              "      <th>age</th>\n",
              "      <th>education</th>\n",
              "      <th>sex</th>\n",
              "      <th>is_smoking</th>\n",
              "      <th>cigsPerDay</th>\n",
              "      <th>BPMeds</th>\n",
              "      <th>prevalentStroke</th>\n",
              "      <th>prevalentHyp</th>\n",
              "      <th>diabetes</th>\n",
              "      <th>totChol</th>\n",
              "      <th>sysBP</th>\n",
              "      <th>diaBP</th>\n",
              "      <th>BMI</th>\n",
              "      <th>heartRate</th>\n",
              "      <th>glucose</th>\n",
              "      <th>TenYearCHD</th>\n",
              "    </tr>\n",
              "  </thead>\n",
              "  <tbody>\n",
              "    <tr>\n",
              "      <th>1235</th>\n",
              "      <td>1235</td>\n",
              "      <td>59</td>\n",
              "      <td>1.0</td>\n",
              "      <td>F</td>\n",
              "      <td>NO</td>\n",
              "      <td>0.0</td>\n",
              "      <td>0.0</td>\n",
              "      <td>0</td>\n",
              "      <td>0</td>\n",
              "      <td>0</td>\n",
              "      <td>205.0</td>\n",
              "      <td>142.5</td>\n",
              "      <td>74.5</td>\n",
              "      <td>25.63</td>\n",
              "      <td>85.0</td>\n",
              "      <td>83.0</td>\n",
              "      <td>0</td>\n",
              "    </tr>\n",
              "    <tr>\n",
              "      <th>2511</th>\n",
              "      <td>2511</td>\n",
              "      <td>47</td>\n",
              "      <td>1.0</td>\n",
              "      <td>F</td>\n",
              "      <td>YES</td>\n",
              "      <td>43.0</td>\n",
              "      <td>0.0</td>\n",
              "      <td>0</td>\n",
              "      <td>0</td>\n",
              "      <td>0</td>\n",
              "      <td>252.0</td>\n",
              "      <td>132.5</td>\n",
              "      <td>85.0</td>\n",
              "      <td>20.05</td>\n",
              "      <td>72.0</td>\n",
              "      <td>80.0</td>\n",
              "      <td>0</td>\n",
              "    </tr>\n",
              "    <tr>\n",
              "      <th>83</th>\n",
              "      <td>83</td>\n",
              "      <td>51</td>\n",
              "      <td>1.0</td>\n",
              "      <td>F</td>\n",
              "      <td>NO</td>\n",
              "      <td>0.0</td>\n",
              "      <td>0.0</td>\n",
              "      <td>0</td>\n",
              "      <td>0</td>\n",
              "      <td>0</td>\n",
              "      <td>226.0</td>\n",
              "      <td>105.0</td>\n",
              "      <td>71.0</td>\n",
              "      <td>27.73</td>\n",
              "      <td>68.0</td>\n",
              "      <td>79.0</td>\n",
              "      <td>0</td>\n",
              "    </tr>\n",
              "    <tr>\n",
              "      <th>3240</th>\n",
              "      <td>3240</td>\n",
              "      <td>58</td>\n",
              "      <td>4.0</td>\n",
              "      <td>M</td>\n",
              "      <td>NO</td>\n",
              "      <td>0.0</td>\n",
              "      <td>0.0</td>\n",
              "      <td>0</td>\n",
              "      <td>1</td>\n",
              "      <td>0</td>\n",
              "      <td>320.0</td>\n",
              "      <td>139.0</td>\n",
              "      <td>81.5</td>\n",
              "      <td>23.65</td>\n",
              "      <td>80.0</td>\n",
              "      <td>82.0</td>\n",
              "      <td>1</td>\n",
              "    </tr>\n",
              "    <tr>\n",
              "      <th>117</th>\n",
              "      <td>117</td>\n",
              "      <td>45</td>\n",
              "      <td>2.0</td>\n",
              "      <td>M</td>\n",
              "      <td>NO</td>\n",
              "      <td>0.0</td>\n",
              "      <td>0.0</td>\n",
              "      <td>0</td>\n",
              "      <td>0</td>\n",
              "      <td>0</td>\n",
              "      <td>232.0</td>\n",
              "      <td>122.5</td>\n",
              "      <td>82.5</td>\n",
              "      <td>27.55</td>\n",
              "      <td>74.0</td>\n",
              "      <td>59.0</td>\n",
              "      <td>1</td>\n",
              "    </tr>\n",
              "  </tbody>\n",
              "</table>\n",
              "</div>\n",
              "      <button class=\"colab-df-convert\" onclick=\"convertToInteractive('df-c5f87d84-ac61-4296-92ff-80f3ee4ea7a8')\"\n",
              "              title=\"Convert this dataframe to an interactive table.\"\n",
              "              style=\"display:none;\">\n",
              "        \n",
              "  <svg xmlns=\"http://www.w3.org/2000/svg\" height=\"24px\"viewBox=\"0 0 24 24\"\n",
              "       width=\"24px\">\n",
              "    <path d=\"M0 0h24v24H0V0z\" fill=\"none\"/>\n",
              "    <path d=\"M18.56 5.44l.94 2.06.94-2.06 2.06-.94-2.06-.94-.94-2.06-.94 2.06-2.06.94zm-11 1L8.5 8.5l.94-2.06 2.06-.94-2.06-.94L8.5 2.5l-.94 2.06-2.06.94zm10 10l.94 2.06.94-2.06 2.06-.94-2.06-.94-.94-2.06-.94 2.06-2.06.94z\"/><path d=\"M17.41 7.96l-1.37-1.37c-.4-.4-.92-.59-1.43-.59-.52 0-1.04.2-1.43.59L10.3 9.45l-7.72 7.72c-.78.78-.78 2.05 0 2.83L4 21.41c.39.39.9.59 1.41.59.51 0 1.02-.2 1.41-.59l7.78-7.78 2.81-2.81c.8-.78.8-2.07 0-2.86zM5.41 20L4 18.59l7.72-7.72 1.47 1.35L5.41 20z\"/>\n",
              "  </svg>\n",
              "      </button>\n",
              "      \n",
              "  <style>\n",
              "    .colab-df-container {\n",
              "      display:flex;\n",
              "      flex-wrap:wrap;\n",
              "      gap: 12px;\n",
              "    }\n",
              "\n",
              "    .colab-df-convert {\n",
              "      background-color: #E8F0FE;\n",
              "      border: none;\n",
              "      border-radius: 50%;\n",
              "      cursor: pointer;\n",
              "      display: none;\n",
              "      fill: #1967D2;\n",
              "      height: 32px;\n",
              "      padding: 0 0 0 0;\n",
              "      width: 32px;\n",
              "    }\n",
              "\n",
              "    .colab-df-convert:hover {\n",
              "      background-color: #E2EBFA;\n",
              "      box-shadow: 0px 1px 2px rgba(60, 64, 67, 0.3), 0px 1px 3px 1px rgba(60, 64, 67, 0.15);\n",
              "      fill: #174EA6;\n",
              "    }\n",
              "\n",
              "    [theme=dark] .colab-df-convert {\n",
              "      background-color: #3B4455;\n",
              "      fill: #D2E3FC;\n",
              "    }\n",
              "\n",
              "    [theme=dark] .colab-df-convert:hover {\n",
              "      background-color: #434B5C;\n",
              "      box-shadow: 0px 1px 3px 1px rgba(0, 0, 0, 0.15);\n",
              "      filter: drop-shadow(0px 1px 2px rgba(0, 0, 0, 0.3));\n",
              "      fill: #FFFFFF;\n",
              "    }\n",
              "  </style>\n",
              "\n",
              "      <script>\n",
              "        const buttonEl =\n",
              "          document.querySelector('#df-c5f87d84-ac61-4296-92ff-80f3ee4ea7a8 button.colab-df-convert');\n",
              "        buttonEl.style.display =\n",
              "          google.colab.kernel.accessAllowed ? 'block' : 'none';\n",
              "\n",
              "        async function convertToInteractive(key) {\n",
              "          const element = document.querySelector('#df-c5f87d84-ac61-4296-92ff-80f3ee4ea7a8');\n",
              "          const dataTable =\n",
              "            await google.colab.kernel.invokeFunction('convertToInteractive',\n",
              "                                                     [key], {});\n",
              "          if (!dataTable) return;\n",
              "\n",
              "          const docLinkHtml = 'Like what you see? Visit the ' +\n",
              "            '<a target=\"_blank\" href=https://colab.research.google.com/notebooks/data_table.ipynb>data table notebook</a>'\n",
              "            + ' to learn more about interactive tables.';\n",
              "          element.innerHTML = '';\n",
              "          dataTable['output_type'] = 'display_data';\n",
              "          await google.colab.output.renderOutput(dataTable, element);\n",
              "          const docLink = document.createElement('div');\n",
              "          docLink.innerHTML = docLinkHtml;\n",
              "          element.appendChild(docLink);\n",
              "        }\n",
              "      </script>\n",
              "    </div>\n",
              "  </div>\n",
              "  "
            ],
            "text/plain": [
              "        id  age  education sex  ...    BMI  heartRate  glucose  TenYearCHD\n",
              "1235  1235   59        1.0   F  ...  25.63       85.0     83.0           0\n",
              "2511  2511   47        1.0   F  ...  20.05       72.0     80.0           0\n",
              "83      83   51        1.0   F  ...  27.73       68.0     79.0           0\n",
              "3240  3240   58        4.0   M  ...  23.65       80.0     82.0           1\n",
              "117    117   45        2.0   M  ...  27.55       74.0     59.0           1\n",
              "\n",
              "[5 rows x 17 columns]"
            ]
          },
          "metadata": {},
          "execution_count": 6
        }
      ]
    },
    {
      "cell_type": "code",
      "source": [
        "# Id dropped as not req\n",
        "data.drop(columns=['id'],inplace=True)"
      ],
      "metadata": {
        "id": "JnsmG0CW5m1h"
      },
      "execution_count": 7,
      "outputs": []
    },
    {
      "cell_type": "markdown",
      "source": [
        "Data Analysis"
      ],
      "metadata": {
        "id": "JjHYMNHX4p7d"
      }
    },
    {
      "cell_type": "code",
      "source": [
        "data.columns"
      ],
      "metadata": {
        "colab": {
          "base_uri": "https://localhost:8080/"
        },
        "id": "JQ4OYaS7dj5M",
        "outputId": "a4d35eca-7c94-418c-fae6-44e9b1e13120"
      },
      "execution_count": 8,
      "outputs": [
        {
          "output_type": "execute_result",
          "data": {
            "text/plain": [
              "Index(['age', 'education', 'sex', 'is_smoking', 'cigsPerDay', 'BPMeds',\n",
              "       'prevalentStroke', 'prevalentHyp', 'diabetes', 'totChol', 'sysBP',\n",
              "       'diaBP', 'BMI', 'heartRate', 'glucose', 'TenYearCHD'],\n",
              "      dtype='object')"
            ]
          },
          "metadata": {},
          "execution_count": 8
        }
      ]
    },
    {
      "cell_type": "code",
      "source": [
        "data.isna().sum()"
      ],
      "metadata": {
        "colab": {
          "base_uri": "https://localhost:8080/"
        },
        "id": "mf3o_PCbdNDT",
        "outputId": "ef518f30-1e8b-4e66-fd8b-563202e88e29"
      },
      "execution_count": 9,
      "outputs": [
        {
          "output_type": "execute_result",
          "data": {
            "text/plain": [
              "age                  0\n",
              "education           87\n",
              "sex                  0\n",
              "is_smoking           0\n",
              "cigsPerDay          22\n",
              "BPMeds              44\n",
              "prevalentStroke      0\n",
              "prevalentHyp         0\n",
              "diabetes             0\n",
              "totChol             38\n",
              "sysBP                0\n",
              "diaBP                0\n",
              "BMI                 14\n",
              "heartRate            1\n",
              "glucose            304\n",
              "TenYearCHD           0\n",
              "dtype: int64"
            ]
          },
          "metadata": {},
          "execution_count": 9
        }
      ]
    },
    {
      "cell_type": "code",
      "source": [
        "sns.boxplot(data=data,x='TenYearCHD',y='glucose');"
      ],
      "metadata": {
        "colab": {
          "base_uri": "https://localhost:8080/",
          "height": 279
        },
        "id": "dnp7wVLWOIRO",
        "outputId": "74b299c5-ee28-47ea-e775-4ae51b34a808"
      },
      "execution_count": 10,
      "outputs": [
        {
          "output_type": "display_data",
          "data": {
            "image/png": "[encoded data removed]",
            "text/plain": [
              "<Figure size 432x288 with 1 Axes>"
            ]
          },
          "metadata": {
            "needs_background": "light"
          }
        }
      ]
    },
    {
      "cell_type": "code",
      "source": [
        "sns.distplot(data['age']);"
      ],
      "metadata": {
        "colab": {
          "base_uri": "https://localhost:8080/",
          "height": 279
        },
        "id": "Lm1OZd_yg03g",
        "outputId": "247f2fef-d7d8-47ee-e2aa-86c1a7df68be"
      },
      "execution_count": 11,
      "outputs": [
        {
          "output_type": "display_data",
          "data": {
            "image/png": "[encoded data removed]",
            "text/plain": [
              "<Figure size 432x288 with 1 Axes>"
            ]
          },
          "metadata": {
            "needs_background": "light"
          }
        }
      ]
    },
    {
      "cell_type": "code",
      "source": [
        "fct=sns.FacetGrid(data=data,col='TenYearCHD')\n",
        "# map the above form facetgrid with some attributes\n",
        "fct.map(sns.countplot,'sex').add_legend()\n",
        "# show the object\n",
        "plt.show()"
      ],
      "metadata": {
        "colab": {
          "base_uri": "https://localhost:8080/",
          "height": 225
        },
        "id": "OzD_twPH-JQ1",
        "outputId": "477508a7-43f0-4735-d3da-fa8efabcc202"
      },
      "execution_count": 12,
      "outputs": [
        {
          "output_type": "display_data",
          "data": {
            "image/png": "[encoded data removed]",
            "text/plain": [
              "<Figure size 440x216 with 2 Axes>"
            ]
          },
          "metadata": {
            "needs_background": "light"
          }
        }
      ]
    },
    {
      "cell_type": "code",
      "source": [
        "\n",
        "fct=sns.FacetGrid(data=data,col='TenYearCHD')\n",
        "# map the above form facetgrid with some attributes\n",
        "fct.map(sns.countplot,'education').add_legend()\n",
        "# show the object\n",
        "plt.show()"
      ],
      "metadata": {
        "colab": {
          "base_uri": "https://localhost:8080/",
          "height": 225
        },
        "id": "TBpqPGMY-JNf",
        "outputId": "78ac4a17-7ad7-46c4-9779-489d0581dec9"
      },
      "execution_count": 13,
      "outputs": [
        {
          "output_type": "display_data",
          "data": {
            "image/png": "[encoded data removed]",
            "text/plain": [
              "<Figure size 440x216 with 2 Axes>"
            ]
          },
          "metadata": {
            "needs_background": "light"
          }
        }
      ]
    },
    {
      "cell_type": "code",
      "source": [
        "data['education'].describe()"
      ],
      "metadata": {
        "colab": {
          "base_uri": "https://localhost:8080/"
        },
        "id": "HOueCRD2-JKd",
        "outputId": "4c015bf0-e5cc-4e87-d61b-09518c5a4c7d"
      },
      "execution_count": 14,
      "outputs": [
        {
          "output_type": "execute_result",
          "data": {
            "text/plain": [
              "count    3303.000000\n",
              "mean        1.970936\n",
              "std         1.019081\n",
              "min         1.000000\n",
              "25%         1.000000\n",
              "50%         2.000000\n",
              "75%         3.000000\n",
              "max         4.000000\n",
              "Name: education, dtype: float64"
            ]
          },
          "metadata": {},
          "execution_count": 14
        }
      ]
    },
    {
      "cell_type": "code",
      "source": [
        "fct=sns.FacetGrid(data=data,col='TenYearCHD')\n",
        "# map the above form facetgrid with some attributes\n",
        "fct.map(sns.countplot,'is_smoking').add_legend()\n",
        "# show the object\n",
        "plt.show()"
      ],
      "metadata": {
        "colab": {
          "base_uri": "https://localhost:8080/",
          "height": 225
        },
        "id": "V7aQ-Pus-JHk",
        "outputId": "8c910d1b-f1dd-4a5a-f512-ae6d5b66c00b"
      },
      "execution_count": 15,
      "outputs": [
        {
          "output_type": "display_data",
          "data": {
            "image/png": "[encoded data removed]",
            "text/plain": [
              "<Figure size 440x216 with 2 Axes>"
            ]
          },
          "metadata": {
            "needs_background": "light"
          }
        }
      ]
    },
    {
      "cell_type": "code",
      "source": [
        "data['prevalentStroke'].describe()"
      ],
      "metadata": {
        "colab": {
          "base_uri": "https://localhost:8080/"
        },
        "id": "rUQ5y1UR-JEo",
        "outputId": "0bbb2c94-7612-409e-9aa8-0dcdbbd4781e"
      },
      "execution_count": 16,
      "outputs": [
        {
          "output_type": "execute_result",
          "data": {
            "text/plain": [
              "count    3390.000000\n",
              "mean        0.006490\n",
              "std         0.080309\n",
              "min         0.000000\n",
              "25%         0.000000\n",
              "50%         0.000000\n",
              "75%         0.000000\n",
              "max         1.000000\n",
              "Name: prevalentStroke, dtype: float64"
            ]
          },
          "metadata": {},
          "execution_count": 16
        }
      ]
    },
    {
      "cell_type": "code",
      "source": [
        "fct=sns.FacetGrid(data=data,col='TenYearCHD')\n",
        "# map the above form facetgrid with some attributes\n",
        "fct.map(sns.countplot,'prevalentStroke').add_legend()\n",
        "# show the object\n",
        "plt.show()"
      ],
      "metadata": {
        "colab": {
          "base_uri": "https://localhost:8080/",
          "height": 225
        },
        "id": "fVgR-1_F-JBx",
        "outputId": "b180ba83-c75e-4ad3-f335-97cf7fcf6184"
      },
      "execution_count": 17,
      "outputs": [
        {
          "output_type": "display_data",
          "data": {
            "image/png": "[encoded data removed]",
            "text/plain": [
              "<Figure size 440x216 with 2 Axes>"
            ]
          },
          "metadata": {
            "needs_background": "light"
          }
        }
      ]
    },
    {
      "cell_type": "code",
      "source": [
        "fct=sns.FacetGrid(data=data,col='TenYearCHD',row='education')\n",
        "# map the above form facetgrid with some attributes\n",
        "fct.map(sns.countplot,'sex').add_legend()\n",
        "# show the object\n",
        "plt.show()"
      ],
      "metadata": {
        "colab": {
          "base_uri": "https://localhost:8080/",
          "height": 873
        },
        "id": "tTaS11dH60fx",
        "outputId": "9788ba89-eb1a-4b29-b84f-0ac74eaf7af5"
      },
      "execution_count": 18,
      "outputs": [
        {
          "output_type": "display_data",
          "data": {
            "image/png": "[encoded data removed]",
            "text/plain": [
              "<Figure size 440x864 with 8 Axes>"
            ]
          },
          "metadata": {
            "needs_background": "light"
          }
        }
      ]
    },
    {
      "cell_type": "code",
      "source": [
        "plt.figure(figsize=(9,4))\n",
        "plt.subplot(1,2,1)\n",
        "sns.violinplot(data=data,y='sysBP')\n",
        "plt.title(\"Systolic\")\n",
        "plt.subplot(1,2,2)\n",
        "sns.violinplot(data=data,y='diaBP',)\n",
        "plt.title(\"Diastolic\")\n",
        "#plt.legends()\n",
        "plt.show()"
      ],
      "metadata": {
        "colab": {
          "base_uri": "https://localhost:8080/",
          "height": 268
        },
        "id": "lZP1ZPheII4i",
        "outputId": "78dda7b2-b0a1-4270-d27f-751fbba54343"
      },
      "execution_count": 19,
      "outputs": [
        {
          "output_type": "display_data",
          "data": {
            "image/png": "[encoded data removed]",
            "text/plain": [
              "<Figure size 648x288 with 2 Axes>"
            ]
          },
          "metadata": {
            "needs_background": "light"
          }
        }
      ]
    },
    {
      "cell_type": "code",
      "source": [
        "#sns.distplot(data['glucose']);\n",
        "plt.figure(figsize=(9,4))\n",
        "plt.subplot(1,2,1)\n",
        "sns.distplot(data[data['TenYearCHD']==0]['glucose']);\n",
        "plt.title(\"Not Affected\")\n",
        "plt.subplot(1,2,2)\n",
        "sns.distplot(data[data['TenYearCHD']==1]['glucose']);\n",
        "plt.title(\"Affected\")\n",
        "#plt.legends()\n",
        "plt.show()"
      ],
      "metadata": {
        "colab": {
          "base_uri": "https://localhost:8080/",
          "height": 295
        },
        "id": "rpXn6Y0cc799",
        "outputId": "c9c42231-de53-4696-bb41-e4f472f7b03a"
      },
      "execution_count": 20,
      "outputs": [
        {
          "output_type": "display_data",
          "data": {
            "image/png": "[encoded data removed]",
            "text/plain": [
              "<Figure size 648x288 with 2 Axes>"
            ]
          },
          "metadata": {
            "needs_background": "light"
          }
        }
      ]
    },
    {
      "cell_type": "code",
      "source": [
        "#sns.distplot(data['glucose']);\n",
        "plt.figure(figsize=(9,4))\n",
        "plt.subplot(1,2,1)\n",
        "sns.distplot(data[data['TenYearCHD']==0]['heartRate']);\n",
        "plt.title(\"Not Affected\")\n",
        "plt.subplot(1,2,2)\n",
        "sns.distplot(data[data['TenYearCHD']==1]['heartRate']);\n",
        "plt.title(\"Affected\")\n",
        "#plt.legends()\n",
        "plt.show()"
      ],
      "metadata": {
        "colab": {
          "base_uri": "https://localhost:8080/",
          "height": 295
        },
        "id": "S2cw-ro3c76m",
        "outputId": "b1dbf80a-72dc-484b-cf9a-a66439289a22"
      },
      "execution_count": 21,
      "outputs": [
        {
          "output_type": "display_data",
          "data": {
            "image/png": "[encoded data removed]",
            "text/plain": [
              "<Figure size 648x288 with 2 Axes>"
            ]
          },
          "metadata": {
            "needs_background": "light"
          }
        }
      ]
    },
    {
      "cell_type": "code",
      "source": [
        ""
      ],
      "metadata": {
        "id": "YVNfXMf9ofq9"
      },
      "execution_count": 21,
      "outputs": []
    },
    {
      "cell_type": "code",
      "source": [
        ""
      ],
      "metadata": {
        "id": "mAHyive56Ubt"
      },
      "execution_count": 21,
      "outputs": []
    },
    {
      "cell_type": "code",
      "source": [
        ""
      ],
      "metadata": {
        "id": "DuQ6SVpE6UYX"
      },
      "execution_count": 21,
      "outputs": []
    },
    {
      "cell_type": "markdown",
      "source": [
        "Handling Null Values"
      ],
      "metadata": {
        "id": "xj3k879gpmgF"
      }
    },
    {
      "cell_type": "code",
      "source": [
        "data[data['glucose'].isna()]['diabetes'].value_counts()"
      ],
      "metadata": {
        "colab": {
          "base_uri": "https://localhost:8080/"
        },
        "id": "_Z9pryHk4aW_",
        "outputId": "f7971bc7-4ab7-4cfc-85a2-72e66ead6d1c"
      },
      "execution_count": 22,
      "outputs": [
        {
          "output_type": "execute_result",
          "data": {
            "text/plain": [
              "0    301\n",
              "1      3\n",
              "Name: diabetes, dtype: int64"
            ]
          },
          "metadata": {},
          "execution_count": 22
        }
      ]
    },
    {
      "cell_type": "code",
      "source": [
        "sns.boxplot(data=data,x='diabetes',y='glucose');"
      ],
      "metadata": {
        "colab": {
          "base_uri": "https://localhost:8080/",
          "height": 279
        },
        "id": "6KUUKHGE3CUx",
        "outputId": "cb345af4-a260-48db-85f1-897ca88309a9"
      },
      "execution_count": 23,
      "outputs": [
        {
          "output_type": "display_data",
          "data": {
            "image/png": "[encoded data removed]",
            "text/plain": [
              "<Figure size 432x288 with 1 Axes>"
            ]
          },
          "metadata": {
            "needs_background": "light"
          }
        }
      ]
    },
    {
      "cell_type": "code",
      "source": [
        "## Null handling for column glucose\n",
        "data.loc[(data['glucose'].isna()) & (data['diabetes']==0) ,['glucose'] ]=data[data['diabetes']==0]['glucose'].median()\n",
        "data.loc[(data['glucose'].isna()) & (data['diabetes']==1) ,['glucose'] ]=data[data['diabetes']==1]['glucose'].median()"
      ],
      "metadata": {
        "id": "6ZAWhBG221NF"
      },
      "execution_count": 24,
      "outputs": []
    },
    {
      "cell_type": "code",
      "source": [
        "# Imputed null values with mode\n",
        "data['BPMeds']=data['BPMeds'].fillna(s.mode(data['BPMeds']))"
      ],
      "metadata": {
        "id": "EHWQyuFulWRQ"
      },
      "execution_count": 25,
      "outputs": []
    },
    {
      "cell_type": "code",
      "source": [
        "sns.distplot(data['totChol']);"
      ],
      "metadata": {
        "colab": {
          "base_uri": "https://localhost:8080/",
          "height": 281
        },
        "id": "FM-KZZ7ClWN4",
        "outputId": "e746bf78-509d-43a4-e619-c4fe515f9291"
      },
      "execution_count": 26,
      "outputs": [
        {
          "output_type": "display_data",
          "data": {
            "image/png": "[encoded data removed]",
            "text/plain": [
              "<Figure size 432x288 with 1 Axes>"
            ]
          },
          "metadata": {
            "needs_background": "light"
          }
        }
      ]
    },
    {
      "cell_type": "code",
      "source": [
        "# Less than 400 almost Normal, impute with mean\n",
        "data['totChol']=data['totChol'].fillna(data['totChol'].median())"
      ],
      "metadata": {
        "id": "AzlZ2L26o1-Y"
      },
      "execution_count": 27,
      "outputs": []
    },
    {
      "cell_type": "code",
      "source": [
        "sns.distplot(data['BMI']);"
      ],
      "metadata": {
        "colab": {
          "base_uri": "https://localhost:8080/",
          "height": 279
        },
        "id": "PC41J4BEp1yq",
        "outputId": "27b8947c-ec20-42f6-f073-d2aabb831f6d"
      },
      "execution_count": 28,
      "outputs": [
        {
          "output_type": "display_data",
          "data": {
            "image/png": "[encoded data removed]",
            "text/plain": [
              "<Figure size 432x288 with 1 Axes>"
            ]
          },
          "metadata": {
            "needs_background": "light"
          }
        }
      ]
    },
    {
      "cell_type": "code",
      "source": [
        "# Less than 36 almost Normal, impute with mean\n",
        "data['BMI']=data['BMI'].fillna(data['BMI'].median())"
      ],
      "metadata": {
        "id": "rxR5vE-0qPAd"
      },
      "execution_count": 29,
      "outputs": []
    },
    {
      "cell_type": "code",
      "source": [
        "## CigsPerDay 22 nulls needs imputation as is_smoking is yes all 22 records\n",
        "data[(data.cigsPerDay.isna()) & (data.is_smoking!='YES')]"
      ],
      "metadata": {
        "colab": {
          "base_uri": "https://localhost:8080/",
          "height": 50
        },
        "id": "YJEjyZ2ldMsy",
        "outputId": "888288d7-3f3d-45e8-f885-ec931ba471e1"
      },
      "execution_count": 30,
      "outputs": [
        {
          "output_type": "execute_result",
          "data": {
            "text/html": [
              "\n",
              "  <div id=\"df-ceb89fa3-6d9a-462b-9e73-fd3751739063\">\n",
              "    <div class=\"colab-df-container\">\n",
              "      <div>\n",
              "<style scoped>\n",
              "    .dataframe tbody tr th:only-of-type {\n",
              "        vertical-align: middle;\n",
              "    }\n",
              "\n",
              "    .dataframe tbody tr th {\n",
              "        vertical-align: top;\n",
              "    }\n",
              "\n",
              "    .dataframe thead th {\n",
              "        text-align: right;\n",
              "    }\n",
              "</style>\n",
              "<table border=\"1\" class=\"dataframe\">\n",
              "  <thead>\n",
              "    <tr style=\"text-align: right;\">\n",
              "      <th></th>\n",
              "      <th>age</th>\n",
              "      <th>education</th>\n",
              "      <th>sex</th>\n",
              "      <th>is_smoking</th>\n",
              "      <th>cigsPerDay</th>\n",
              "      <th>BPMeds</th>\n",
              "      <th>prevalentStroke</th>\n",
              "      <th>prevalentHyp</th>\n",
              "      <th>diabetes</th>\n",
              "      <th>totChol</th>\n",
              "      <th>sysBP</th>\n",
              "      <th>diaBP</th>\n",
              "      <th>BMI</th>\n",
              "      <th>heartRate</th>\n",
              "      <th>glucose</th>\n",
              "      <th>TenYearCHD</th>\n",
              "    </tr>\n",
              "  </thead>\n",
              "  <tbody>\n",
              "  </tbody>\n",
              "</table>\n",
              "</div>\n",
              "      <button class=\"colab-df-convert\" onclick=\"convertToInteractive('df-ceb89fa3-6d9a-462b-9e73-fd3751739063')\"\n",
              "              title=\"Convert this dataframe to an interactive table.\"\n",
              "              style=\"display:none;\">\n",
              "        \n",
              "  <svg xmlns=\"http://www.w3.org/2000/svg\" height=\"24px\"viewBox=\"0 0 24 24\"\n",
              "       width=\"24px\">\n",
              "    <path d=\"M0 0h24v24H0V0z\" fill=\"none\"/>\n",
              "    <path d=\"M18.56 5.44l.94 2.06.94-2.06 2.06-.94-2.06-.94-.94-2.06-.94 2.06-2.06.94zm-11 1L8.5 8.5l.94-2.06 2.06-.94-2.06-.94L8.5 2.5l-.94 2.06-2.06.94zm10 10l.94 2.06.94-2.06 2.06-.94-2.06-.94-.94-2.06-.94 2.06-2.06.94z\"/><path d=\"M17.41 7.96l-1.37-1.37c-.4-.4-.92-.59-1.43-.59-.52 0-1.04.2-1.43.59L10.3 9.45l-7.72 7.72c-.78.78-.78 2.05 0 2.83L4 21.41c.39.39.9.59 1.41.59.51 0 1.02-.2 1.41-.59l7.78-7.78 2.81-2.81c.8-.78.8-2.07 0-2.86zM5.41 20L4 18.59l7.72-7.72 1.47 1.35L5.41 20z\"/>\n",
              "  </svg>\n",
              "      </button>\n",
              "      \n",
              "  <style>\n",
              "    .colab-df-container {\n",
              "      display:flex;\n",
              "      flex-wrap:wrap;\n",
              "      gap: 12px;\n",
              "    }\n",
              "\n",
              "    .colab-df-convert {\n",
              "      background-color: #E8F0FE;\n",
              "      border: none;\n",
              "      border-radius: 50%;\n",
              "      cursor: pointer;\n",
              "      display: none;\n",
              "      fill: #1967D2;\n",
              "      height: 32px;\n",
              "      padding: 0 0 0 0;\n",
              "      width: 32px;\n",
              "    }\n",
              "\n",
              "    .colab-df-convert:hover {\n",
              "      background-color: #E2EBFA;\n",
              "      box-shadow: 0px 1px 2px rgba(60, 64, 67, 0.3), 0px 1px 3px 1px rgba(60, 64, 67, 0.15);\n",
              "      fill: #174EA6;\n",
              "    }\n",
              "\n",
              "    [theme=dark] .colab-df-convert {\n",
              "      background-color: #3B4455;\n",
              "      fill: #D2E3FC;\n",
              "    }\n",
              "\n",
              "    [theme=dark] .colab-df-convert:hover {\n",
              "      background-color: #434B5C;\n",
              "      box-shadow: 0px 1px 3px 1px rgba(0, 0, 0, 0.15);\n",
              "      filter: drop-shadow(0px 1px 2px rgba(0, 0, 0, 0.3));\n",
              "      fill: #FFFFFF;\n",
              "    }\n",
              "  </style>\n",
              "\n",
              "      <script>\n",
              "        const buttonEl =\n",
              "          document.querySelector('#df-ceb89fa3-6d9a-462b-9e73-fd3751739063 button.colab-df-convert');\n",
              "        buttonEl.style.display =\n",
              "          google.colab.kernel.accessAllowed ? 'block' : 'none';\n",
              "\n",
              "        async function convertToInteractive(key) {\n",
              "          const element = document.querySelector('#df-ceb89fa3-6d9a-462b-9e73-fd3751739063');\n",
              "          const dataTable =\n",
              "            await google.colab.kernel.invokeFunction('convertToInteractive',\n",
              "                                                     [key], {});\n",
              "          if (!dataTable) return;\n",
              "\n",
              "          const docLinkHtml = 'Like what you see? Visit the ' +\n",
              "            '<a target=\"_blank\" href=https://colab.research.google.com/notebooks/data_table.ipynb>data table notebook</a>'\n",
              "            + ' to learn more about interactive tables.';\n",
              "          element.innerHTML = '';\n",
              "          dataTable['output_type'] = 'display_data';\n",
              "          await google.colab.output.renderOutput(dataTable, element);\n",
              "          const docLink = document.createElement('div');\n",
              "          docLink.innerHTML = docLinkHtml;\n",
              "          element.appendChild(docLink);\n",
              "        }\n",
              "      </script>\n",
              "    </div>\n",
              "  </div>\n",
              "  "
            ],
            "text/plain": [
              "Empty DataFrame\n",
              "Columns: [age, education, sex, is_smoking, cigsPerDay, BPMeds, prevalentStroke, prevalentHyp, diabetes, totChol, sysBP, diaBP, BMI, heartRate, glucose, TenYearCHD]\n",
              "Index: []"
            ]
          },
          "metadata": {},
          "execution_count": 30
        }
      ]
    },
    {
      "cell_type": "code",
      "source": [
        "#data['cigsPerDay'].value_counts()\n",
        "\n",
        "sns.histplot(data[data['cigsPerDay']!=0]['cigsPerDay'],bins=30);\n",
        "## Bar plot gives an idea about what count of cigsperday is observed in more numbers"
      ],
      "metadata": {
        "colab": {
          "base_uri": "https://localhost:8080/",
          "height": 279
        },
        "id": "o9CzkG1BqsAz",
        "outputId": "c5efc122-65be-4de2-b249-a42c862bf07c"
      },
      "execution_count": 31,
      "outputs": [
        {
          "output_type": "display_data",
          "data": {
            "image/png": "[encoded data removed]",
            "text/plain": [
              "<Figure size 432x288 with 1 Axes>"
            ]
          },
          "metadata": {
            "needs_background": "light"
          }
        }
      ]
    },
    {
      "cell_type": "code",
      "source": [
        "data['cigsPerDay']=data['cigsPerDay'].fillna(np.random.randint(5,30))"
      ],
      "metadata": {
        "id": "HUz2sbnIx-Lg"
      },
      "execution_count": 32,
      "outputs": []
    },
    {
      "cell_type": "code",
      "source": [
        "data['heartRate']=data['heartRate'].fillna(np.mean(data['heartRate']))"
      ],
      "metadata": {
        "id": "3DQjoiK6zOg5"
      },
      "execution_count": 33,
      "outputs": []
    },
    {
      "cell_type": "code",
      "source": [
        "data.head()"
      ],
      "metadata": {
        "colab": {
          "base_uri": "https://localhost:8080/",
          "height": 206
        },
        "id": "G8gVvu_X3xog",
        "outputId": "81d0bcc6-9b6b-4842-95c7-b8bdf13105e1"
      },
      "execution_count": 34,
      "outputs": [
        {
          "output_type": "execute_result",
          "data": {
            "text/html": [
              "\n",
              "  <div id=\"df-8234ac90-8c67-48ac-8a5e-e792d57bdb31\">\n",
              "    <div class=\"colab-df-container\">\n",
              "      <div>\n",
              "<style scoped>\n",
              "    .dataframe tbody tr th:only-of-type {\n",
              "        vertical-align: middle;\n",
              "    }\n",
              "\n",
              "    .dataframe tbody tr th {\n",
              "        vertical-align: top;\n",
              "    }\n",
              "\n",
              "    .dataframe thead th {\n",
              "        text-align: right;\n",
              "    }\n",
              "</style>\n",
              "<table border=\"1\" class=\"dataframe\">\n",
              "  <thead>\n",
              "    <tr style=\"text-align: right;\">\n",
              "      <th></th>\n",
              "      <th>age</th>\n",
              "      <th>education</th>\n",
              "      <th>sex</th>\n",
              "      <th>is_smoking</th>\n",
              "      <th>cigsPerDay</th>\n",
              "      <th>BPMeds</th>\n",
              "      <th>prevalentStroke</th>\n",
              "      <th>prevalentHyp</th>\n",
              "      <th>diabetes</th>\n",
              "      <th>totChol</th>\n",
              "      <th>sysBP</th>\n",
              "      <th>diaBP</th>\n",
              "      <th>BMI</th>\n",
              "      <th>heartRate</th>\n",
              "      <th>glucose</th>\n",
              "      <th>TenYearCHD</th>\n",
              "    </tr>\n",
              "  </thead>\n",
              "  <tbody>\n",
              "    <tr>\n",
              "      <th>0</th>\n",
              "      <td>64</td>\n",
              "      <td>2.0</td>\n",
              "      <td>F</td>\n",
              "      <td>YES</td>\n",
              "      <td>3.0</td>\n",
              "      <td>0.0</td>\n",
              "      <td>0</td>\n",
              "      <td>0</td>\n",
              "      <td>0</td>\n",
              "      <td>221.0</td>\n",
              "      <td>148.0</td>\n",
              "      <td>85.0</td>\n",
              "      <td>25.38</td>\n",
              "      <td>90.0</td>\n",
              "      <td>80.0</td>\n",
              "      <td>1</td>\n",
              "    </tr>\n",
              "    <tr>\n",
              "      <th>1</th>\n",
              "      <td>36</td>\n",
              "      <td>4.0</td>\n",
              "      <td>M</td>\n",
              "      <td>NO</td>\n",
              "      <td>0.0</td>\n",
              "      <td>0.0</td>\n",
              "      <td>0</td>\n",
              "      <td>1</td>\n",
              "      <td>0</td>\n",
              "      <td>212.0</td>\n",
              "      <td>168.0</td>\n",
              "      <td>98.0</td>\n",
              "      <td>29.77</td>\n",
              "      <td>72.0</td>\n",
              "      <td>75.0</td>\n",
              "      <td>0</td>\n",
              "    </tr>\n",
              "    <tr>\n",
              "      <th>2</th>\n",
              "      <td>46</td>\n",
              "      <td>1.0</td>\n",
              "      <td>F</td>\n",
              "      <td>YES</td>\n",
              "      <td>10.0</td>\n",
              "      <td>0.0</td>\n",
              "      <td>0</td>\n",
              "      <td>0</td>\n",
              "      <td>0</td>\n",
              "      <td>250.0</td>\n",
              "      <td>116.0</td>\n",
              "      <td>71.0</td>\n",
              "      <td>20.35</td>\n",
              "      <td>88.0</td>\n",
              "      <td>94.0</td>\n",
              "      <td>0</td>\n",
              "    </tr>\n",
              "    <tr>\n",
              "      <th>3</th>\n",
              "      <td>50</td>\n",
              "      <td>1.0</td>\n",
              "      <td>M</td>\n",
              "      <td>YES</td>\n",
              "      <td>20.0</td>\n",
              "      <td>0.0</td>\n",
              "      <td>0</td>\n",
              "      <td>1</td>\n",
              "      <td>0</td>\n",
              "      <td>233.0</td>\n",
              "      <td>158.0</td>\n",
              "      <td>88.0</td>\n",
              "      <td>28.26</td>\n",
              "      <td>68.0</td>\n",
              "      <td>94.0</td>\n",
              "      <td>1</td>\n",
              "    </tr>\n",
              "    <tr>\n",
              "      <th>4</th>\n",
              "      <td>64</td>\n",
              "      <td>1.0</td>\n",
              "      <td>F</td>\n",
              "      <td>YES</td>\n",
              "      <td>30.0</td>\n",
              "      <td>0.0</td>\n",
              "      <td>0</td>\n",
              "      <td>0</td>\n",
              "      <td>0</td>\n",
              "      <td>241.0</td>\n",
              "      <td>136.5</td>\n",
              "      <td>85.0</td>\n",
              "      <td>26.42</td>\n",
              "      <td>70.0</td>\n",
              "      <td>77.0</td>\n",
              "      <td>0</td>\n",
              "    </tr>\n",
              "  </tbody>\n",
              "</table>\n",
              "</div>\n",
              "      <button class=\"colab-df-convert\" onclick=\"convertToInteractive('df-8234ac90-8c67-48ac-8a5e-e792d57bdb31')\"\n",
              "              title=\"Convert this dataframe to an interactive table.\"\n",
              "              style=\"display:none;\">\n",
              "        \n",
              "  <svg xmlns=\"http://www.w3.org/2000/svg\" height=\"24px\"viewBox=\"0 0 24 24\"\n",
              "       width=\"24px\">\n",
              "    <path d=\"M0 0h24v24H0V0z\" fill=\"none\"/>\n",
              "    <path d=\"M18.56 5.44l.94 2.06.94-2.06 2.06-.94-2.06-.94-.94-2.06-.94 2.06-2.06.94zm-11 1L8.5 8.5l.94-2.06 2.06-.94-2.06-.94L8.5 2.5l-.94 2.06-2.06.94zm10 10l.94 2.06.94-2.06 2.06-.94-2.06-.94-.94-2.06-.94 2.06-2.06.94z\"/><path d=\"M17.41 7.96l-1.37-1.37c-.4-.4-.92-.59-1.43-.59-.52 0-1.04.2-1.43.59L10.3 9.45l-7.72 7.72c-.78.78-.78 2.05 0 2.83L4 21.41c.39.39.9.59 1.41.59.51 0 1.02-.2 1.41-.59l7.78-7.78 2.81-2.81c.8-.78.8-2.07 0-2.86zM5.41 20L4 18.59l7.72-7.72 1.47 1.35L5.41 20z\"/>\n",
              "  </svg>\n",
              "      </button>\n",
              "      \n",
              "  <style>\n",
              "    .colab-df-container {\n",
              "      display:flex;\n",
              "      flex-wrap:wrap;\n",
              "      gap: 12px;\n",
              "    }\n",
              "\n",
              "    .colab-df-convert {\n",
              "      background-color: #E8F0FE;\n",
              "      border: none;\n",
              "      border-radius: 50%;\n",
              "      cursor: pointer;\n",
              "      display: none;\n",
              "      fill: #1967D2;\n",
              "      height: 32px;\n",
              "      padding: 0 0 0 0;\n",
              "      width: 32px;\n",
              "    }\n",
              "\n",
              "    .colab-df-convert:hover {\n",
              "      background-color: #E2EBFA;\n",
              "      box-shadow: 0px 1px 2px rgba(60, 64, 67, 0.3), 0px 1px 3px 1px rgba(60, 64, 67, 0.15);\n",
              "      fill: #174EA6;\n",
              "    }\n",
              "\n",
              "    [theme=dark] .colab-df-convert {\n",
              "      background-color: #3B4455;\n",
              "      fill: #D2E3FC;\n",
              "    }\n",
              "\n",
              "    [theme=dark] .colab-df-convert:hover {\n",
              "      background-color: #434B5C;\n",
              "      box-shadow: 0px 1px 3px 1px rgba(0, 0, 0, 0.15);\n",
              "      filter: drop-shadow(0px 1px 2px rgba(0, 0, 0, 0.3));\n",
              "      fill: #FFFFFF;\n",
              "    }\n",
              "  </style>\n",
              "\n",
              "      <script>\n",
              "        const buttonEl =\n",
              "          document.querySelector('#df-8234ac90-8c67-48ac-8a5e-e792d57bdb31 button.colab-df-convert');\n",
              "        buttonEl.style.display =\n",
              "          google.colab.kernel.accessAllowed ? 'block' : 'none';\n",
              "\n",
              "        async function convertToInteractive(key) {\n",
              "          const element = document.querySelector('#df-8234ac90-8c67-48ac-8a5e-e792d57bdb31');\n",
              "          const dataTable =\n",
              "            await google.colab.kernel.invokeFunction('convertToInteractive',\n",
              "                                                     [key], {});\n",
              "          if (!dataTable) return;\n",
              "\n",
              "          const docLinkHtml = 'Like what you see? Visit the ' +\n",
              "            '<a target=\"_blank\" href=https://colab.research.google.com/notebooks/data_table.ipynb>data table notebook</a>'\n",
              "            + ' to learn more about interactive tables.';\n",
              "          element.innerHTML = '';\n",
              "          dataTable['output_type'] = 'display_data';\n",
              "          await google.colab.output.renderOutput(dataTable, element);\n",
              "          const docLink = document.createElement('div');\n",
              "          docLink.innerHTML = docLinkHtml;\n",
              "          element.appendChild(docLink);\n",
              "        }\n",
              "      </script>\n",
              "    </div>\n",
              "  </div>\n",
              "  "
            ],
            "text/plain": [
              "   age  education sex is_smoking  ...    BMI  heartRate  glucose  TenYearCHD\n",
              "0   64        2.0   F        YES  ...  25.38       90.0     80.0           1\n",
              "1   36        4.0   M         NO  ...  29.77       72.0     75.0           0\n",
              "2   46        1.0   F        YES  ...  20.35       88.0     94.0           0\n",
              "3   50        1.0   M        YES  ...  28.26       68.0     94.0           1\n",
              "4   64        1.0   F        YES  ...  26.42       70.0     77.0           0\n",
              "\n",
              "[5 rows x 16 columns]"
            ]
          },
          "metadata": {},
          "execution_count": 34
        }
      ]
    },
    {
      "cell_type": "code",
      "source": [
        "# Encoding this categorical to prepare data for KNN impute\n",
        "data['is_smoking']=data['is_smoking'].apply(lambda x:1 if x=='YES' else 0)\n",
        "data['sex']=data['sex'].apply(lambda x:1 if x=='M' else 0)"
      ],
      "metadata": {
        "id": "EOIOHSLL3dRC"
      },
      "execution_count": 35,
      "outputs": []
    },
    {
      "cell_type": "code",
      "source": [
        "#data.drop(['glucose'],inplace=True,axis=1)"
      ],
      "metadata": {
        "id": "lCjFEqCKW5qb"
      },
      "execution_count": 36,
      "outputs": []
    },
    {
      "cell_type": "code",
      "source": [
        "data.isna().sum()"
      ],
      "metadata": {
        "colab": {
          "base_uri": "https://localhost:8080/"
        },
        "id": "GqbSKqCPW5nC",
        "outputId": "bc49a389-bb62-4b6b-eb9e-06bc2351c148"
      },
      "execution_count": 37,
      "outputs": [
        {
          "output_type": "execute_result",
          "data": {
            "text/plain": [
              "age                 0\n",
              "education          87\n",
              "sex                 0\n",
              "is_smoking          0\n",
              "cigsPerDay          0\n",
              "BPMeds              0\n",
              "prevalentStroke     0\n",
              "prevalentHyp        0\n",
              "diabetes            0\n",
              "totChol             0\n",
              "sysBP               0\n",
              "diaBP               0\n",
              "BMI                 0\n",
              "heartRate           0\n",
              "glucose             0\n",
              "TenYearCHD          0\n",
              "dtype: int64"
            ]
          },
          "metadata": {},
          "execution_count": 37
        }
      ]
    },
    {
      "cell_type": "code",
      "source": [
        ""
      ],
      "metadata": {
        "id": "gBnG7tRbW5kS"
      },
      "execution_count": 37,
      "outputs": []
    },
    {
      "cell_type": "code",
      "source": [
        "#data[data['glucose'].isna()]\n",
        "# define imputer\n",
        "imputer = KNNImputer(n_neighbors=10, weights='uniform', metric='nan_euclidean')"
      ],
      "metadata": {
        "id": "vbTyTU7h2bQ5"
      },
      "execution_count": 38,
      "outputs": []
    },
    {
      "cell_type": "code",
      "source": [
        "# fit on the dataset\n",
        "imputer.fit(data)"
      ],
      "metadata": {
        "colab": {
          "base_uri": "https://localhost:8080/"
        },
        "id": "7RyrtZIb3NoI",
        "outputId": "c9d4e57b-1a81-4944-b083-23dc8abc6502"
      },
      "execution_count": 39,
      "outputs": [
        {
          "output_type": "execute_result",
          "data": {
            "text/plain": [
              "KNNImputer(n_neighbors=10)"
            ]
          },
          "metadata": {},
          "execution_count": 39
        }
      ]
    },
    {
      "cell_type": "code",
      "source": [
        "# transform the dataset\n",
        "data_trans = pd.DataFrame(imputer.transform(data),columns=data.columns)"
      ],
      "metadata": {
        "id": "v4fW4HKI3Nkl"
      },
      "execution_count": 40,
      "outputs": []
    },
    {
      "cell_type": "code",
      "source": [
        "data_trans.isna().sum().sum()"
      ],
      "metadata": {
        "colab": {
          "base_uri": "https://localhost:8080/"
        },
        "id": "_6ttPKvO5AJf",
        "outputId": "e94c60c5-8b0b-4285-ea24-941c5a680547"
      },
      "execution_count": 41,
      "outputs": [
        {
          "output_type": "execute_result",
          "data": {
            "text/plain": [
              "0"
            ]
          },
          "metadata": {},
          "execution_count": 41
        }
      ]
    },
    {
      "cell_type": "code",
      "source": [
        "data=data_trans.copy()"
      ],
      "metadata": {
        "id": "d0gIdHgr6UN0"
      },
      "execution_count": 42,
      "outputs": []
    },
    {
      "cell_type": "code",
      "source": [
        "plt.figure(figsize=(10,10))\n",
        "sns.heatmap(data.corr(),annot=True,cmap='Blues');"
      ],
      "metadata": {
        "colab": {
          "base_uri": "https://localhost:8080/",
          "height": 664
        },
        "id": "HK2IQ_0KYhbs",
        "outputId": "e9f15369-ced4-492d-9a32-4609b8b70201"
      },
      "execution_count": 43,
      "outputs": [
        {
          "output_type": "display_data",
          "data": {
            "image/png": "[encoded data removed]",
            "text/plain": [
              "<Figure size 720x720 with 2 Axes>"
            ]
          },
          "metadata": {
            "needs_background": "light"
          }
        }
      ]
    },
    {
      "cell_type": "code",
      "source": [
        "\n",
        "X=data.drop(['TenYearCHD'],axis=1).values\n",
        "y=data['TenYearCHD'].values"
      ],
      "metadata": {
        "id": "A_gJCD5eZ5sS"
      },
      "execution_count": 44,
      "outputs": []
    },
    {
      "cell_type": "code",
      "source": [
        "# handling data imbalance\n",
        "oversampler= sv.distance_SMOTE()\n",
        "X_msmote, y_msmote= oversampler.sample(X, y)"
      ],
      "metadata": {
        "colab": {
          "base_uri": "https://localhost:8080/"
        },
        "id": "FsqPJWczZRhv",
        "outputId": "ee5c0aab-c921-44ab-eeab-3172ec1104d0"
      },
      "execution_count": 45,
      "outputs": [
        {
          "output_type": "stream",
          "name": "stderr",
          "text": [
            "2021-12-25 09:37:20,139:INFO:distance_SMOTE: Running sampling via ('distance_SMOTE', \"{'proportion': 1.0, 'n_neighbors': 5, 'n_jobs': 1, 'random_state': None}\")\n"
          ]
        }
      ]
    },
    {
      "cell_type": "code",
      "source": [
        "data_new=pd.DataFrame(X_msmote,columns=data.columns[:-1])\n",
        "data_new['TenYearCHD']=pd.DataFrame(y_msmote)\n",
        "data_new['TenYearCHD'].value_counts()"
      ],
      "metadata": {
        "id": "5fa1dmVNc735",
        "colab": {
          "base_uri": "https://localhost:8080/"
        },
        "outputId": "d7a45248-b3e6-4351-f7d0-8b02816a7f6b"
      },
      "execution_count": 46,
      "outputs": [
        {
          "output_type": "execute_result",
          "data": {
            "text/plain": [
              "0.0    2879\n",
              "1.0    2879\n",
              "Name: TenYearCHD, dtype: int64"
            ]
          },
          "metadata": {},
          "execution_count": 46
        }
      ]
    },
    {
      "cell_type": "code",
      "source": [
        "X=data_new.drop(['TenYearCHD'],axis=1)\n",
        "y=data_new['TenYearCHD']"
      ],
      "metadata": {
        "id": "1eCMyLQ83H_M"
      },
      "execution_count": 47,
      "outputs": []
    },
    {
      "cell_type": "code",
      "source": [
        "#X.drop(['is_smoking','education'],axis=1,inplace=True)"
      ],
      "metadata": {
        "id": "VhPcRzijwTES"
      },
      "execution_count": 48,
      "outputs": []
    },
    {
      "cell_type": "code",
      "source": [
        "X['pulse']=X['sysBP']-X['diaBP']\n",
        "X.drop(['sysBP','diaBP'],axis=1,inplace=True)"
      ],
      "metadata": {
        "id": "u_WkskRN_lK5"
      },
      "execution_count": 49,
      "outputs": []
    },
    {
      "cell_type": "code",
      "source": [
        "sns.distplot(X['pulse'])"
      ],
      "metadata": {
        "colab": {
          "base_uri": "https://localhost:8080/",
          "height": 297
        },
        "id": "MFVlQ-hG8Znj",
        "outputId": "8a3d8865-0075-4544-ec59-815cf15f5a58"
      },
      "execution_count": 50,
      "outputs": [
        {
          "output_type": "execute_result",
          "data": {
            "text/plain": [
              "<matplotlib.axes._subplots.AxesSubplot at 0x7f9b3bb79990>"
            ]
          },
          "metadata": {},
          "execution_count": 50
        },
        {
          "output_type": "display_data",
          "data": {
            "image/png": "[encoded data removed]",
            "text/plain": [
              "<Figure size 432x288 with 1 Axes>"
            ]
          },
          "metadata": {
            "needs_background": "light"
          }
        }
      ]
    },
    {
      "cell_type": "code",
      "source": [
        "X_train,X_test,y_train,y_test=train_test_split(X,y,test_size=0.25,random_state=10)"
      ],
      "metadata": {
        "id": "ZTcE3yKr2uKA"
      },
      "execution_count": 51,
      "outputs": []
    },
    {
      "cell_type": "code",
      "source": [
        "# Scaling the data\n",
        "sc = StandardScaler()\n",
        "X_train = sc.fit_transform(X_train)\n",
        "X_test = sc.transform(X_test)"
      ],
      "metadata": {
        "id": "qXoBK-BI2uGo"
      },
      "execution_count": 52,
      "outputs": []
    },
    {
      "cell_type": "code",
      "source": [
        "## Define the logistic model\n",
        "logistic = LogisticRegression(random_state=30)"
      ],
      "metadata": {
        "id": "OdWpY1qQ2uEC"
      },
      "execution_count": 53,
      "outputs": []
    },
    {
      "cell_type": "code",
      "source": [
        "scoring = ['roc_auc']\n",
        "scores = cross_validate(logistic,X, y, scoring = scoring, cv = 5, return_train_score=True,return_estimator=True,verbose = 10);"
      ],
      "metadata": {
        "colab": {
          "base_uri": "https://localhost:8080/"
        },
        "id": "hUNfV7VF2uBN",
        "outputId": "5eb57086-50a0-4903-f67d-dd25f929c029"
      },
      "execution_count": 54,
      "outputs": [
        {
          "output_type": "stream",
          "name": "stderr",
          "text": [
            "[Parallel(n_jobs=1)]: Using backend SequentialBackend with 1 concurrent workers.\n",
            "[Parallel(n_jobs=1)]: Done   1 out of   1 | elapsed:    0.2s remaining:    0.0s\n"
          ]
        },
        {
          "output_type": "stream",
          "name": "stdout",
          "text": [
            "[CV] START .....................................................................\n",
            "[CV] END ................. roc_auc: (train=0.711, test=0.702) total time=   0.1s\n",
            "[CV] START .....................................................................\n",
            "[CV] END ................. roc_auc: (train=0.716, test=0.687) total time=   0.1s\n",
            "[CV] START .....................................................................\n",
            "[CV] END ................. roc_auc: (train=0.708, test=0.717) total time=   0.1s\n",
            "[CV] START .....................................................................\n"
          ]
        },
        {
          "output_type": "stream",
          "name": "stderr",
          "text": [
            "[Parallel(n_jobs=1)]: Done   2 out of   2 | elapsed:    0.3s remaining:    0.0s\n",
            "[Parallel(n_jobs=1)]: Done   3 out of   3 | elapsed:    0.5s remaining:    0.0s\n"
          ]
        },
        {
          "output_type": "stream",
          "name": "stdout",
          "text": [
            "[CV] END ................. roc_auc: (train=0.705, test=0.713) total time=   0.1s\n",
            "[CV] START .....................................................................\n",
            "[CV] END ................. roc_auc: (train=0.710, test=0.718) total time=   0.2s\n"
          ]
        },
        {
          "output_type": "stream",
          "name": "stderr",
          "text": [
            "[Parallel(n_jobs=1)]: Done   4 out of   4 | elapsed:    0.6s remaining:    0.0s\n",
            "[Parallel(n_jobs=1)]: Done   5 out of   5 | elapsed:    0.8s remaining:    0.0s\n",
            "[Parallel(n_jobs=1)]: Done   5 out of   5 | elapsed:    0.8s finished\n"
          ]
        }
      ]
    },
    {
      "cell_type": "code",
      "source": [
        "logistic.fit(X_train,y_train)"
      ],
      "metadata": {
        "colab": {
          "base_uri": "https://localhost:8080/"
        },
        "id": "TiQs43CL33KE",
        "outputId": "c91d77d2-a849-4d9f-97ac-71b5f638b3e6"
      },
      "execution_count": 56,
      "outputs": [
        {
          "output_type": "execute_result",
          "data": {
            "text/plain": [
              "LogisticRegression(random_state=30)"
            ]
          },
          "metadata": {},
          "execution_count": 56
        }
      ]
    },
    {
      "cell_type": "code",
      "source": [
        "# Get the predicted class\n",
        "train_preds = logistic.predict(X_train)\n",
        "test_preds = logistic.predict(X_test)\n",
        "cm = confusion_matrix(y_test, test_preds)\n",
        "print(cm)"
      ],
      "metadata": {
        "colab": {
          "base_uri": "https://localhost:8080/"
        },
        "id": "kBjLlTFdtQVb",
        "outputId": "7be6f2e6-a2e9-4882-b987-54a2ad627e3b"
      },
      "execution_count": 57,
      "outputs": [
        {
          "output_type": "stream",
          "name": "stdout",
          "text": [
            "[[482 255]\n",
            " [220 483]]\n"
          ]
        }
      ]
    },
    {
      "cell_type": "code",
      "source": [
        "## Calc Precision and recall\n",
        "roc_auc = roc_auc_score(y_test, test_preds)\n",
        "print(roc_auc)\n",
        "precision = precision_score(y_test, test_preds)\n",
        "recall = recall_score(y_test, test_preds)\n",
        "print(\"Precision\")\n",
        "print(precision)\n",
        "print(\"Recall\")\n",
        "print(recall)\n",
        "print(\"F1-Score\")\n",
        "print(2*precision*recall/(recall+precision))"
      ],
      "metadata": {
        "colab": {
          "base_uri": "https://localhost:8080/"
        },
        "id": "IK7fH3Xwtyl-",
        "outputId": "34e95d2f-640e-413e-b1a7-914ec5af0896"
      },
      "execution_count": 58,
      "outputs": [
        {
          "output_type": "stream",
          "name": "stdout",
          "text": [
            "0.6705290951166836\n",
            "Precision\n",
            "0.6544715447154471\n",
            "Recall\n",
            "0.6870554765291608\n",
            "F1-Score\n",
            "0.6703678001387924\n"
          ]
        }
      ]
    },
    {
      "cell_type": "code",
      "source": [
        "# Get the predicted probabilities\n",
        "train_preds = logistic.predict_proba(X_train)\n",
        "test_preds = logistic.predict_proba(X_test)\n",
        "\n",
        "train_preds_df=pd.DataFrame(train_preds,columns=['No','Yes'])\n",
        "train_preds=np.array(train_preds_df['Yes'])\n",
        "\n",
        "test_preds_df=pd.DataFrame(test_preds,columns=['No','Yes'])\n",
        "test_preds=np.array(test_preds_df['Yes'])"
      ],
      "metadata": {
        "id": "_KDAWxOr3xA2"
      },
      "execution_count": 59,
      "outputs": []
    },
    {
      "cell_type": "code",
      "source": [
        "## Calculate optimal threshold using roc_curve method\n",
        "fpr, tpr, thresholds = roc_curve(y_train, train_preds)\n",
        "# calculate the g-mean for each threshold\n",
        "gmeans = np.sqrt(tpr * (1-fpr))\n",
        "# locate the index of the largest g-mean\n",
        "ix = np.argmax(gmeans)\n",
        "print('Best Threshold=%f, G-Mean=%.3f' % (thresholds[ix], gmeans[ix]))\n",
        "print(\"  \")\n",
        "plt.title(\"ROC-AUC for train data \")\n",
        "# plot the roc curve for the model\n",
        "plt.plot([0,1], [0,1], linestyle='--', label='No Skill')\n",
        "plt.plot(fpr, tpr, label='Logistic')# marker='.'\n",
        "plt.scatter(fpr[ix], tpr[ix], marker='o', color='black', label='Best')\n",
        "# axis labels\n",
        "plt.xlabel('False Positive Rate')\n",
        "plt.ylabel('True Positive Rate')\n",
        "plt.legend()\n",
        "# show the plot\n",
        "plt.show()"
      ],
      "metadata": {
        "colab": {
          "base_uri": "https://localhost:8080/",
          "height": 331
        },
        "id": "kwoTMBSWcRFN",
        "outputId": "d5480c40-a3e4-46bb-e50b-558bb610a707"
      },
      "execution_count": 60,
      "outputs": [
        {
          "output_type": "stream",
          "name": "stdout",
          "text": [
            "Best Threshold=0.507997, G-Mean=0.681\n",
            "  \n"
          ]
        },
        {
          "output_type": "display_data",
          "data": {
            "image/png": "[encoded data removed]",
            "text/plain": [
              "<Figure size 432x288 with 1 Axes>"
            ]
          },
          "metadata": {
            "needs_background": "light"
          }
        }
      ]
    },
    {
      "cell_type": "code",
      "source": [
        "test_preds_new=np.array(test_preds_df['Yes'].apply(lambda x:1 if x>=thresholds[ix] else 0))\n",
        "test_preds_new=np.array(test_preds_df['Yes'].apply(lambda x:1 if x>=thresholds[ix] else 0))"
      ],
      "metadata": {
        "id": "oWuqJV3QcQ_K"
      },
      "execution_count": 61,
      "outputs": []
    },
    {
      "cell_type": "code",
      "source": [
        "# Get the confusion matrix for test\n",
        "plt.figure(figsize=(3,3))\n",
        "labels = ['Not at Risk','Heart Risk' ]\n",
        "#cm = confusion_matrix(y_test, test_preds_new)\n",
        "cm = confusion_matrix(y_test, test_preds_new)\n",
        "\n",
        "cat = ['TN','FP','FN','TP']\n",
        "#cat = np.asarray(labels2).reshape(2,2)\n",
        "counts = [count for count in cm.flatten()]\n",
        "labelsIn = [f\"{v1}\\n{v2}\" for v1, v2 in  zip(cat,counts)]\n",
        "\n",
        "labelsIn = np.asarray(labelsIn).reshape(2,2)\n",
        "\n",
        "ax= plt.subplot()\n",
        "sns.heatmap(cm, annot=labelsIn, ax = ax,fmt='', cmap='Blues');\n",
        "\n",
        "# labels, title and ticks\n",
        "ax.set_xlabel('Predicted labels');\n",
        "ax.set_ylabel('True labels');\n",
        "ax.set_title('Confusion Matrix');\n",
        "ax.xaxis.set_ticklabels(labels);\n",
        "ax.yaxis.set_ticklabels(labels);"
      ],
      "metadata": {
        "colab": {
          "base_uri": "https://localhost:8080/",
          "height": 241
        },
        "id": "qiGxE2Wn_yBQ",
        "outputId": "b22853dc-43c1-4a3e-a319-a452906f94c2"
      },
      "execution_count": 62,
      "outputs": [
        {
          "output_type": "display_data",
          "data": {
            "image/png": "[encoded data removed]",
            "text/plain": [
              "<Figure size 216x216 with 2 Axes>"
            ]
          },
          "metadata": {
            "needs_background": "light"
          }
        }
      ]
    },
    {
      "cell_type": "code",
      "source": [
        "## Calc Precision and recall\n",
        "roc_auc = roc_auc_score(y_test, test_preds_new)\n",
        "print(roc_auc)\n",
        "precision = precision_score(y_test, test_preds_new)\n",
        "recall = recall_score(y_test, test_preds_new)\n",
        "print(precision)\n",
        "print(\"\\n\")\n",
        "print(recall)\n",
        "print(\"F1-Score\")\n",
        "print(2*precision*recall/(recall+precision))"
      ],
      "metadata": {
        "id": "BeNb2gYbIFIA",
        "colab": {
          "base_uri": "https://localhost:8080/"
        },
        "outputId": "a08305c6-d804-46c4-897f-8b9cf7287c0f"
      },
      "execution_count": 63,
      "outputs": [
        {
          "output_type": "stream",
          "name": "stdout",
          "text": [
            "0.6695553655490812\n",
            "0.6574202496532594\n",
            "\n",
            "\n",
            "0.6742532005689901\n",
            "F1-Score\n",
            "0.6657303370786517\n"
          ]
        }
      ]
    },
    {
      "cell_type": "markdown",
      "source": [
        "Tuning the logistic model"
      ],
      "metadata": {
        "id": "VEDxWyah3mk2"
      }
    },
    {
      "cell_type": "code",
      "source": [
        "grid={\n",
        "'C':[100, 10, 5,1.0, 0.1, 0.01],\n",
        "'penalty':['none', 'l1', 'l2', 'elasticnet'],\n",
        "'solver':['newton-cg', 'lbfgs', 'sag', 'saga']\n",
        "}\n",
        "logistic = LogisticRegression(random_state=10)"
      ],
      "metadata": {
        "id": "C-NTLZquFRP8"
      },
      "execution_count": 64,
      "outputs": []
    },
    {
      "cell_type": "code",
      "source": [
        "\n",
        "grid_search = GridSearchCV(estimator=logistic, param_grid=grid, n_jobs=-1, scoring='roc_auc',cv=5,error_score=0)\n",
        "grid_result = grid_search.fit(X_train, y_train)"
      ],
      "metadata": {
        "id": "84XEPqbWghu7"
      },
      "execution_count": 65,
      "outputs": []
    },
    {
      "cell_type": "code",
      "source": [
        "# import sklearn\n",
        "# print(sorted(sklearn.metrics.SCORERS.keys()))"
      ],
      "metadata": {
        "id": "v7llSrsXA2Dq"
      },
      "execution_count": 66,
      "outputs": []
    },
    {
      "cell_type": "code",
      "source": [
        "C=grid_result.best_params_['C']\n",
        "penalty=grid_result.best_params_['penalty']\n",
        "solver=grid_result.best_params_['solver']\n",
        "grid_result.best_params_"
      ],
      "metadata": {
        "colab": {
          "base_uri": "https://localhost:8080/"
        },
        "id": "b90h1FU2iVj6",
        "outputId": "94d3e118-8d7c-43f3-e723-21ad7f46c95e"
      },
      "execution_count": 67,
      "outputs": [
        {
          "output_type": "execute_result",
          "data": {
            "text/plain": [
              "{'C': 0.01, 'penalty': 'l2', 'solver': 'newton-cg'}"
            ]
          },
          "metadata": {},
          "execution_count": 67
        }
      ]
    },
    {
      "cell_type": "code",
      "source": [
        "tuned_logistic=LogisticRegression(C=C, penalty=penalty,solver=solver,random_state=1)\n",
        "tuned_logistic.fit(X_train,y_train)"
      ],
      "metadata": {
        "colab": {
          "base_uri": "https://localhost:8080/"
        },
        "id": "xj681jR5kdNK",
        "outputId": "a10b68b0-d5b5-4781-c588-c181f6a0d939"
      },
      "execution_count": 68,
      "outputs": [
        {
          "output_type": "execute_result",
          "data": {
            "text/plain": [
              "LogisticRegression(C=0.01, random_state=1, solver='newton-cg')"
            ]
          },
          "metadata": {},
          "execution_count": 68
        }
      ]
    },
    {
      "cell_type": "code",
      "source": [
        "# Get the predicted probabilities\n",
        "train_preds = tuned_logistic.predict(X_train)\n",
        "test_preds = tuned_logistic.predict(X_test)"
      ],
      "metadata": {
        "id": "MqDWC1Sc79ce"
      },
      "execution_count": 69,
      "outputs": []
    },
    {
      "cell_type": "code",
      "source": [
        "# Get the confusion matrix for test\n",
        "plt.figure(figsize=(3,3))\n",
        "labels = ['Not at Risk','Heart Risk' ]\n",
        "cm = confusion_matrix(y_test, test_preds)\n",
        "\n",
        "cat = ['TN','FP','FN','TP']\n",
        "#cat = np.asarray(labels2).reshape(2,2)\n",
        "counts = [count for count in cm.flatten()]\n",
        "labelsIn = [f\"{v1}\\n{v2}\" for v1, v2 in  zip(cat,counts)]\n",
        "\n",
        "labelsIn = np.asarray(labelsIn).reshape(2,2)\n",
        "\n",
        "ax= plt.subplot()\n",
        "sns.heatmap(cm, annot=labelsIn, ax = ax,fmt='', cmap='Blues');\n",
        "\n",
        "# labels, title and ticks\n",
        "ax.set_xlabel('Predicted labels');\n",
        "ax.set_ylabel('True labels');\n",
        "ax.set_title('Confusion Matrix');\n",
        "ax.xaxis.set_ticklabels(labels);\n",
        "ax.yaxis.set_ticklabels(labels);"
      ],
      "metadata": {
        "colab": {
          "base_uri": "https://localhost:8080/",
          "height": 241
        },
        "outputId": "60c04c74-b3fa-4735-c203-20717890af14",
        "id": "S14ED04DlR_H"
      },
      "execution_count": 70,
      "outputs": [
        {
          "output_type": "display_data",
          "data": {
            "image/png": "[encoded data removed]",
            "text/plain": [
              "<Figure size 216x216 with 2 Axes>"
            ]
          },
          "metadata": {
            "needs_background": "light"
          }
        }
      ]
    },
    {
      "cell_type": "code",
      "source": [
        "## Calc Precision and recall\n",
        "roc_auc = roc_auc_score(y_test, test_preds_new)\n",
        "print(roc_auc)\n",
        "print(\"\")\n",
        "\n",
        "precision = precision_score(y_test, test_preds_new)\n",
        "recall = recall_score(y_test, test_preds_new)\n",
        "print(\"Precision\")\n",
        "print(precision)\n",
        "print(\"Recall\")\n",
        "print(recall)\n",
        "print(2*precision*recall/(recall+precision))\n",
        "print(\"\")\n",
        "accuracy = accuracy_score(y_test, test_preds_new)\n",
        "print(accuracy)"
      ],
      "metadata": {
        "id": "3nexf1qElR_I",
        "colab": {
          "base_uri": "https://localhost:8080/"
        },
        "outputId": "a771a102-bf86-4d62-c747-4f8fbb618761"
      },
      "execution_count": 71,
      "outputs": [
        {
          "output_type": "stream",
          "name": "stdout",
          "text": [
            "0.6695553655490812\n",
            "\n",
            "Precision\n",
            "0.6574202496532594\n",
            "Recall\n",
            "0.6742532005689901\n",
            "0.6657303370786517\n",
            "\n",
            "0.6694444444444444\n"
          ]
        }
      ]
    },
    {
      "cell_type": "markdown",
      "source": [
        "# Support Vector Classifier"
      ],
      "metadata": {
        "id": "E2bvI3S4aPA4"
      }
    },
    {
      "cell_type": "code",
      "source": [
        "clf = SVC(kernel='rbf', C=1E6,random_state=1)\n",
        "clf.fit(X_train, y_train)"
      ],
      "metadata": {
        "colab": {
          "base_uri": "https://localhost:8080/"
        },
        "id": "7dnXlfzniCLY",
        "outputId": "36f40771-d521-4d3b-efb0-239ce318b18e"
      },
      "execution_count": 72,
      "outputs": [
        {
          "output_type": "execute_result",
          "data": {
            "text/plain": [
              "SVC(C=1000000.0, random_state=1)"
            ]
          },
          "metadata": {},
          "execution_count": 72
        }
      ]
    },
    {
      "cell_type": "code",
      "source": [
        "y_pred_svc=clf.predict(X_test)"
      ],
      "metadata": {
        "id": "CygE-Ap3l0R-"
      },
      "execution_count": 73,
      "outputs": []
    },
    {
      "cell_type": "code",
      "source": [
        "cm = confusion_matrix(y_test, y_pred_svc)\n",
        "print(cm)"
      ],
      "metadata": {
        "colab": {
          "base_uri": "https://localhost:8080/"
        },
        "id": "SrhmN2_Vl-V3",
        "outputId": "58741725-1ecb-4101-e25e-1b8f28a7ee70"
      },
      "execution_count": 74,
      "outputs": [
        {
          "output_type": "stream",
          "name": "stdout",
          "text": [
            "[[595 142]\n",
            " [ 92 611]]\n"
          ]
        }
      ]
    },
    {
      "cell_type": "code",
      "source": [
        "precision = precision_score(y_test, y_pred_svc)\n",
        "recall = recall_score(y_test, y_pred_svc)\n",
        "print(precision)\n",
        "print(recall)\n",
        "print(2*precision*recall/(recall+precision))\n",
        "print(\"\")\n",
        "accuracy = accuracy_score(y_test, y_pred_svc)\n",
        "print(accuracy)"
      ],
      "metadata": {
        "colab": {
          "base_uri": "https://localhost:8080/"
        },
        "id": "4HsTbj_1mKFw",
        "outputId": "cbd481c4-d7d0-49ac-9077-2aefdf6091e5"
      },
      "execution_count": 75,
      "outputs": [
        {
          "output_type": "stream",
          "name": "stdout",
          "text": [
            "0.8114209827357237\n",
            "0.8691322901849218\n",
            "0.8392857142857143\n",
            "\n",
            "0.8375\n"
          ]
        }
      ]
    },
    {
      "cell_type": "code",
      "source": [
        "clf = SVC(kernel='rbf', C=1E6,random_state=1,probability=True)\n",
        "clf.fit(X_train, y_train)"
      ],
      "metadata": {
        "colab": {
          "base_uri": "https://localhost:8080/"
        },
        "id": "YQ_M0bzOm8IP",
        "outputId": "5bfffbea-8bff-474d-e569-516995e3f93b"
      },
      "execution_count": 76,
      "outputs": [
        {
          "output_type": "execute_result",
          "data": {
            "text/plain": [
              "SVC(C=1000000.0, probability=True, random_state=1)"
            ]
          },
          "metadata": {},
          "execution_count": 76
        }
      ]
    },
    {
      "cell_type": "code",
      "source": [
        "train_preds=clf.predict_proba(X_train)\n",
        "test_preds=clf.predict_proba(X_test)"
      ],
      "metadata": {
        "id": "K91v9GDCqkOb"
      },
      "execution_count": 77,
      "outputs": []
    },
    {
      "cell_type": "code",
      "source": [
        "## Calc threshold from training data\n",
        "train_preds_df=pd.DataFrame(train_preds,columns=['No','Yes'])\n",
        "train_preds=np.array(train_preds_df['Yes'])\n",
        "\n",
        "## For test data\n",
        "test_preds_df=pd.DataFrame(test_preds,columns=['No','Yes'])\n",
        "test_preds=np.array(test_preds_df['Yes'])"
      ],
      "metadata": {
        "id": "dNo4OzRqq_Gz"
      },
      "execution_count": 78,
      "outputs": []
    },
    {
      "cell_type": "code",
      "source": [
        "train_preds"
      ],
      "metadata": {
        "colab": {
          "base_uri": "https://localhost:8080/"
        },
        "id": "r_K-tkYNq_G0",
        "outputId": "1f1ec83e-a7e8-434e-905d-eff14b336c6b"
      },
      "execution_count": 79,
      "outputs": [
        {
          "output_type": "execute_result",
          "data": {
            "text/plain": [
              "array([9.99999921e-01, 9.99999753e-01, 3.70278783e-04, ...,\n",
              "       2.01284432e-05, 9.99999974e-01, 1.15214335e-01])"
            ]
          },
          "metadata": {},
          "execution_count": 79
        }
      ]
    },
    {
      "cell_type": "code",
      "source": [
        "## Calculate optimal threshold using roc_curve method\n",
        "fpr, tpr, thresholds = roc_curve(y_train, train_preds)\n",
        "# calculate the g-mean for each threshold\n",
        "gmeans = np.sqrt(tpr * (1-fpr))\n",
        "# locate the index of the largest g-mean\n",
        "ix = np.argmax(gmeans)\n",
        "print('Best Threshold=%f, G-Mean=%.3f' % (thresholds[ix], gmeans[ix]))\n",
        "\n",
        "\n",
        "# plot the roc curve for the model\n",
        "plt.plot([0,1], [0,1], linestyle='--', label='No Skill')\n",
        "plt.plot(fpr, tpr, label='SVC' , marker='.')\n",
        "plt.scatter(fpr[ix], tpr[ix], marker='o', color='black', label='Best')\n",
        "# axis labels\n",
        "plt.xlabel('False Positive Rate')\n",
        "plt.ylabel('True Positive Rate')\n",
        "plt.legend()\n",
        "# show the plot\n",
        "plt.show()"
      ],
      "metadata": {
        "colab": {
          "base_uri": "https://localhost:8080/",
          "height": 297
        },
        "id": "FSz0X4F9rZ3-",
        "outputId": "8427c2a8-46cc-4749-ef4c-a35585a81aa4"
      },
      "execution_count": 80,
      "outputs": [
        {
          "output_type": "stream",
          "name": "stdout",
          "text": [
            "Best Threshold=0.506348, G-Mean=1.000\n"
          ]
        },
        {
          "output_type": "display_data",
          "data": {
            "image/png": "[encoded data removed]",
            "text/plain": [
              "<Figure size 432x288 with 1 Axes>"
            ]
          },
          "metadata": {
            "needs_background": "light"
          }
        }
      ]
    },
    {
      "cell_type": "code",
      "source": [
        "train_preds_new=np.array(train_preds_df['Yes'].apply(lambda x:1 if x>thresholds[ix] else 0))\n",
        "test_preds_new=np.array(test_preds_df['Yes'].apply(lambda x:1 if x>thresholds[ix] else 0))"
      ],
      "metadata": {
        "id": "vp3F6Q_dtgNI"
      },
      "execution_count": 81,
      "outputs": []
    },
    {
      "cell_type": "code",
      "source": [
        "# Get the confusion matrix for test\n",
        "\n",
        "labels = ['Not at Risk','Heart Risk' ]\n",
        "cm = confusion_matrix(y_test, test_preds_new)\n",
        "\n",
        "cat = ['TN','FP','FN','TP']\n",
        "#cat = np.asarray(labels2).reshape(2,2)\n",
        "counts = [count for count in cm.flatten()]\n",
        "labelsIn = [f\"{v1}\\n{v2}\" for v1, v2 in  zip(cat,counts)]\n",
        "\n",
        "labelsIn = np.asarray(labelsIn).reshape(2,2)\n",
        "\n",
        "ax= plt.subplot()\n",
        "sns.heatmap(cm, annot=labelsIn, ax = ax,fmt='', cmap='Blues');\n",
        "\n",
        "# labels, title and ticks\n",
        "ax.set_xlabel('Predicted labels')\n",
        "ax.set_ylabel('True labels')\n",
        "ax.set_title('Confusion Matrix')\n",
        "ax.xaxis.set_ticklabels(labels)\n",
        "ax.yaxis.set_ticklabels(labels)"
      ],
      "metadata": {
        "colab": {
          "base_uri": "https://localhost:8080/",
          "height": 313
        },
        "outputId": "1ed89dea-f74b-4fe9-a341-6b7031c4ebba",
        "id": "fwesKuSYtgNI"
      },
      "execution_count": 82,
      "outputs": [
        {
          "output_type": "execute_result",
          "data": {
            "text/plain": [
              "[Text(0, 0.5, 'Not at Risk'), Text(0, 1.5, 'Heart Risk')]"
            ]
          },
          "metadata": {},
          "execution_count": 82
        },
        {
          "output_type": "display_data",
          "data": {
            "image/png": "[encoded data removed]",
            "text/plain": [
              "<Figure size 432x288 with 2 Axes>"
            ]
          },
          "metadata": {
            "needs_background": "light"
          }
        }
      ]
    },
    {
      "cell_type": "code",
      "source": [
        "precision = precision_score(y_test, test_preds_new)\n",
        "recall = recall_score(y_test, test_preds_new)\n",
        "print(precision)\n",
        "print(recall)\n",
        "print(2*precision*recall/(recall+precision))\n",
        "print(\"\")\n",
        "accuracy = accuracy_score(y_test, test_preds_new)\n",
        "print(accuracy)"
      ],
      "metadata": {
        "colab": {
          "base_uri": "https://localhost:8080/"
        },
        "id": "BP-53-N8uOpn",
        "outputId": "6821c5b1-d03e-4c97-fb17-ae52c3f56838"
      },
      "execution_count": 83,
      "outputs": [
        {
          "output_type": "stream",
          "name": "stdout",
          "text": [
            "0.8503703703703703\n",
            "0.8165007112375533\n",
            "0.8330914368650217\n",
            "\n",
            "0.8402777777777778\n"
          ]
        }
      ]
    },
    {
      "cell_type": "code",
      "source": [
        "train_preds_class=clf.predict(X_train)\n",
        "test_preds_class=clf.predict(X_test)\n",
        "cm = confusion_matrix(y_test, test_preds_class)\n",
        "cm"
      ],
      "metadata": {
        "colab": {
          "base_uri": "https://localhost:8080/"
        },
        "id": "lIq6TskAfmgb",
        "outputId": "7b2e6423-4e72-4dc7-dba5-af187c43bc95"
      },
      "execution_count": 84,
      "outputs": [
        {
          "output_type": "execute_result",
          "data": {
            "text/plain": [
              "array([[595, 142],\n",
              "       [ 92, 611]])"
            ]
          },
          "metadata": {},
          "execution_count": 84
        }
      ]
    },
    {
      "cell_type": "code",
      "source": [
        "precision = precision_score(y_test, test_preds_class)\n",
        "recall = recall_score(y_test, test_preds_class)\n",
        "print(precision)\n",
        "print(recall)\n",
        "print(2*precision*recall/(recall+precision))\n",
        "print(\"\")\n",
        "accuracy = accuracy_score(y_test, test_preds_class)\n",
        "print(accuracy)"
      ],
      "metadata": {
        "colab": {
          "base_uri": "https://localhost:8080/"
        },
        "id": "S4g3qIT-hdQf",
        "outputId": "b39c8c55-8131-48ec-8187-3195729a250d"
      },
      "execution_count": 85,
      "outputs": [
        {
          "output_type": "stream",
          "name": "stdout",
          "text": [
            "0.8114209827357237\n",
            "0.8691322901849218\n",
            "0.8392857142857143\n",
            "\n",
            "0.8375\n"
          ]
        }
      ]
    },
    {
      "cell_type": "markdown",
      "source": [
        "# Bagging Classifier"
      ],
      "metadata": {
        "id": "IHEFOwdbrk-_"
      }
    },
    {
      "cell_type": "code",
      "source": [
        "# define models and parameters\n",
        "model = BaggingClassifier()\n",
        "n_estimators = [50, 100,500, 1000]\n",
        "# define grid search\n",
        "grid = dict(n_estimators=n_estimators)\n",
        "cv = RepeatedStratifiedKFold(n_splits=5, n_repeats=3, random_state=1)\n",
        "grid_search = GridSearchCV(estimator=model, param_grid=grid, n_jobs=-1, cv=cv, scoring='roc_auc',error_score=0)\n",
        "grid_result = grid_search.fit(X_train, y_train)\n",
        "# summarize results\n",
        "print(\"Best: %f using %s\" % (grid_result.best_score_, grid_result.best_params_))\n",
        "means = grid_result.cv_results_['mean_test_score']\n",
        "stds = grid_result.cv_results_['std_test_score']\n",
        "params = grid_result.cv_results_['params']\n",
        "for mean, stdev, param in zip(means, stds, params):\n",
        "    print(\"%f (%f) with: %r\" % (mean, stdev, param))"
      ],
      "metadata": {
        "id": "vPMMunH7remj",
        "colab": {
          "base_uri": "https://localhost:8080/"
        },
        "outputId": "344791ea-1734-4034-82fe-2e57a4f634e7"
      },
      "execution_count": 86,
      "outputs": [
        {
          "output_type": "stream",
          "name": "stdout",
          "text": [
            "Best: 0.945477 using {'n_estimators': 1000}\n",
            "0.943809 (0.004731) with: {'n_estimators': 50}\n",
            "0.944194 (0.003891) with: {'n_estimators': 100}\n",
            "0.945360 (0.004714) with: {'n_estimators': 500}\n",
            "0.945477 (0.004014) with: {'n_estimators': 1000}\n"
          ]
        }
      ]
    },
    {
      "cell_type": "code",
      "source": [
        "grid_result.best_params_"
      ],
      "metadata": {
        "id": "dO348Pyjrej6",
        "colab": {
          "base_uri": "https://localhost:8080/"
        },
        "outputId": "1bc8951d-961d-4353-fcf0-2846bc1b4467"
      },
      "execution_count": 87,
      "outputs": [
        {
          "output_type": "execute_result",
          "data": {
            "text/plain": [
              "{'n_estimators': 1000}"
            ]
          },
          "metadata": {},
          "execution_count": 87
        }
      ]
    },
    {
      "cell_type": "code",
      "source": [
        "clf_bag=BaggingClassifier(n_estimators=grid_result.best_params_['n_estimators'],random_state=10).fit(X_train,y_train)\n",
        "y_pred_bag=clf_bag.predict(X_test)"
      ],
      "metadata": {
        "id": "TeWhqtigr_ot"
      },
      "execution_count": 88,
      "outputs": []
    },
    {
      "cell_type": "code",
      "source": [
        "cm = confusion_matrix(y_test, y_pred_bag)\n",
        "print(cm)"
      ],
      "metadata": {
        "id": "3eYfCEWyr_ot",
        "colab": {
          "base_uri": "https://localhost:8080/"
        },
        "outputId": "1f438cf9-81c1-4330-d9fa-028e7e774091"
      },
      "execution_count": 89,
      "outputs": [
        {
          "output_type": "stream",
          "name": "stdout",
          "text": [
            "[[720  17]\n",
            " [113 590]]\n"
          ]
        }
      ]
    },
    {
      "cell_type": "code",
      "source": [
        "precision = precision_score(y_test, y_pred_bag)\n",
        "recall = recall_score(y_test, y_pred_bag)\n",
        "print(\"Precision: {:.3f}\".format(precision))\n",
        "print(\"Recall: {:.3f}\".format(recall))\n",
        "print (\"F1-Score {:.3f}\".format(2*precision*recall/(recall+precision)))\n",
        "accuracy =accuracy_score(y_test, y_pred_bag)\n",
        "print(accuracy)"
      ],
      "metadata": {
        "id": "vfuAFs5ErehA",
        "colab": {
          "base_uri": "https://localhost:8080/"
        },
        "outputId": "dcc1c11e-8e98-49bf-e01f-f2ccef8bf982"
      },
      "execution_count": 90,
      "outputs": [
        {
          "output_type": "stream",
          "name": "stdout",
          "text": [
            "Precision: 0.972\n",
            "Recall: 0.839\n",
            "F1-Score 0.901\n",
            "0.9097222222222222\n"
          ]
        }
      ]
    },
    {
      "cell_type": "markdown",
      "source": [
        "Bagging with Logistic"
      ],
      "metadata": {
        "id": "e17P9KrbpgVB"
      }
    },
    {
      "cell_type": "code",
      "source": [
        "base1 = LogisticRegression(random_state=10)\n"
      ],
      "metadata": {
        "id": "29YlOif_pj-f"
      },
      "execution_count": 91,
      "outputs": []
    },
    {
      "cell_type": "code",
      "source": [
        "clf_bag_log1=BaggingClassifier(base_estimator=base1,n_estimators=500,max_samples=3000,random_state=10,bootstrap_features=True,oob_score=True).fit(X_train,y_train)\n",
        "#clf_bag_log1=BaggingClassifier(base_estimator=base1,n_estimators=500,max_samples=3000,random_state=10,bootstrap_features=True,warm_start=True).fit(X_train,y_train)\n",
        "y_pred_bag1=clf_bag_log1.predict(X_test)\n",
        "cm = confusion_matrix(y_test, y_pred_bag1)\n",
        "print(cm)\n",
        "\n",
        "## Metrics\n",
        "precision = precision_score(y_test, y_pred_bag1)\n",
        "recall = recall_score(y_test, y_pred_bag1)\n",
        "print(\"Precision: {:.3f}\".format(precision))\n",
        "print(\"Recall: {:.3f}\".format(recall))\n",
        "print (\"F1-Score {:.3f}\".format(2*precision*recall/(recall+precision)))\n",
        "accuracy =accuracy_score(y_test, y_pred_bag1)\n",
        "print(accuracy)"
      ],
      "metadata": {
        "id": "xIpPQptUpwQN",
        "colab": {
          "base_uri": "https://localhost:8080/"
        },
        "outputId": "777064a5-59fb-4574-cfee-866c10a65f9f"
      },
      "execution_count": 92,
      "outputs": [
        {
          "output_type": "stream",
          "name": "stdout",
          "text": [
            "[[476 261]\n",
            " [229 474]]\n",
            "Precision: 0.645\n",
            "Recall: 0.674\n",
            "F1-Score 0.659\n",
            "0.6597222222222222\n"
          ]
        }
      ]
    },
    {
      "cell_type": "code",
      "source": [
        "from sklearn.ensemble import AdaBoostClassifier"
      ],
      "metadata": {
        "id": "ek_kBcm8uvKV"
      },
      "execution_count": 93,
      "outputs": []
    },
    {
      "cell_type": "code",
      "source": [
        "\n",
        "clf_adb = AdaBoostClassifier(random_state=1)\n",
        "clf_adb.fit(X_train, y_train)\n",
        "\n",
        "#############\n",
        "y_pred_adb=clf_adb.predict(X_test)\n",
        "## Metrics\n",
        "precision = precision_score(y_test, y_pred_adb)\n",
        "recall = recall_score(y_test, y_pred_adb)\n",
        "print(\"Precision: {:.3f}\".format(precision))\n",
        "print(\"Recall: {:.3f}\".format(recall))\n",
        "print (\"F1-Score {:.3f}\".format(2*precision*recall/(recall+precision)))\n",
        "accuracy =accuracy_score(y_test, y_pred_adb)\n",
        "print(accuracy)\n"
      ],
      "metadata": {
        "colab": {
          "base_uri": "https://localhost:8080/"
        },
        "outputId": "a0e2959f-8c7c-4827-ac16-bc8dd521eaa0",
        "id": "W_nFZVD35B3M"
      },
      "execution_count": 94,
      "outputs": [
        {
          "output_type": "stream",
          "name": "stdout",
          "text": [
            "Precision: 0.973\n",
            "Recall: 0.832\n",
            "F1-Score 0.897\n",
            "0.9069444444444444\n"
          ]
        }
      ]
    },
    {
      "cell_type": "code",
      "source": [
        "clf_adb.n_estimators"
      ],
      "metadata": {
        "colab": {
          "base_uri": "https://localhost:8080/"
        },
        "id": "XrtbptTfyH69",
        "outputId": "51833a7a-4a07-424a-9c9b-c792f8f25941"
      },
      "execution_count": 95,
      "outputs": [
        {
          "output_type": "execute_result",
          "data": {
            "text/plain": [
              "50"
            ]
          },
          "metadata": {},
          "execution_count": 95
        }
      ]
    },
    {
      "cell_type": "code",
      "source": [
        "clf_adb.feature_importances_"
      ],
      "metadata": {
        "colab": {
          "base_uri": "https://localhost:8080/"
        },
        "id": "yWcA2bU8xNm2",
        "outputId": "d8b3d8c7-d541-4e73-cf2a-f9cd8e6a2744"
      },
      "execution_count": 96,
      "outputs": [
        {
          "output_type": "execute_result",
          "data": {
            "text/plain": [
              "array([0.08, 0.24, 0.22, 0.08, 0.06, 0.04, 0.02, 0.1 , 0.  , 0.04, 0.02,\n",
              "       0.02, 0.02, 0.06])"
            ]
          },
          "metadata": {},
          "execution_count": 96
        }
      ]
    },
    {
      "cell_type": "code",
      "source": [
        "# define models and parameters\n",
        "model = AdaBoostClassifier(random_state=1)\n",
        "n_estimators = [10,50, 100,200,500, 800,1000]\n",
        "# define grid search\n",
        "grid = dict(n_estimators=n_estimators)\n",
        "#cv = RepeatedStratifiedKFold(n_splits=5, n_repeats=3, random_state=1)\n",
        "grid_search = GridSearchCV(estimator=model, param_grid=grid, n_jobs=-1, cv=5, scoring='f1',error_score=0)\n",
        "grid_result = grid_search.fit(X_train, y_train)\n",
        "# summarize results\n",
        "print(\"Best: %f using %s\" % (grid_result.best_score_, grid_result.best_params_))\n",
        "means = grid_result.cv_results_['mean_test_score']\n",
        "stds = grid_result.cv_results_['std_test_score']\n",
        "params = grid_result.cv_results_['params']\n",
        "for mean, stdev, param in zip(means, stds, params):\n",
        "    print(\"%f (%f) with: %r\" % (mean, stdev, param))"
      ],
      "metadata": {
        "colab": {
          "base_uri": "https://localhost:8080/"
        },
        "id": "p0eKhgTru2iB",
        "outputId": "6c73c149-3392-481f-ad78-ce1ef4fcc54a"
      },
      "execution_count": 100,
      "outputs": [
        {
          "output_type": "stream",
          "name": "stdout",
          "text": [
            "Best: 0.898268 using {'n_estimators': 100}\n",
            "0.870786 (0.011493) with: {'n_estimators': 10}\n",
            "0.897143 (0.007774) with: {'n_estimators': 50}\n",
            "0.898268 (0.008733) with: {'n_estimators': 100}\n",
            "0.896853 (0.009922) with: {'n_estimators': 200}\n",
            "0.894434 (0.010099) with: {'n_estimators': 500}\n",
            "0.892781 (0.009685) with: {'n_estimators': 800}\n",
            "0.891652 (0.007892) with: {'n_estimators': 1000}\n"
          ]
        }
      ]
    },
    {
      "cell_type": "code",
      "source": [
        "means = grid_result.cv_results_['mean_test_score']\n",
        "#stds = grid_result.cv_results_['std_test_score']\n",
        "params = grid_result.cv_results_['param_n_estimators']\n",
        "df_scores=pd.DataFrame(zip(means, params),columns=['Scores','n_estimators'])\n",
        "\n",
        "#plt.ylim(0, 20)\n",
        "#plt.xlim(10, None)\n",
        "sns.lineplot(data=df_scores,y='Scores',x='n_estimators',markers='True');"
      ],
      "metadata": {
        "colab": {
          "base_uri": "https://localhost:8080/",
          "height": 280
        },
        "id": "MeIZqQNh2znU",
        "outputId": "4b31437b-9d99-49b3-9e53-5fcc9d8277cb"
      },
      "execution_count": 101,
      "outputs": [
        {
          "output_type": "display_data",
          "data": {
            "image/png": "[encoded data removed]",
            "text/plain": [
              "<Figure size 432x288 with 1 Axes>"
            ]
          },
          "metadata": {
            "needs_background": "light"
          }
        }
      ]
    },
    {
      "cell_type": "code",
      "source": [
        ""
      ],
      "metadata": {
        "id": "jA5-WuYO3Esr"
      },
      "execution_count": 101,
      "outputs": []
    },
    {
      "cell_type": "code",
      "source": [
        ""
      ],
      "metadata": {
        "id": "5cCvcAqIxIo8"
      },
      "execution_count": 103,
      "outputs": []
    },
    {
      "cell_type": "markdown",
      "source": [
        "# Gaussian NB"
      ],
      "metadata": {
        "id": "HooGQ7s0TD0T"
      }
    },
    {
      "cell_type": "code",
      "source": [
        "var_smoothing_vals=np.arange(0.01,0.1,0.005)\n",
        "learning_rate_vals=np.arange(0.05,0.9,0.05)\n",
        "\n",
        "prec_list=[]\n",
        "rec_list=[]\n",
        "f1_list=[]\n",
        "acc_list=[]\n",
        "itrs_list=[]\n",
        "for i in var_smoothing_vals:\n",
        "  for j in learning_rate_vals:\n",
        "    #print (\"For var_smoothing={:.3f} and learning_rate={:.3f}\".format(i,j))\n",
        "    itrs_list.append(\"smoothing={:.3f},learn_rate={:.3f}\".format(i,j))\n",
        "    clf_adb_NB = AdaBoostClassifier(random_state=1,base_estimator=GaussianNB(var_smoothing=i),learning_rate=j)\n",
        "    clf_adb_NB.fit(X_train, y_train)\n",
        "    # #############\n",
        "    y_pred_adb_NB_train=clf_adb_NB.predict(X_train)\n",
        "    ## Metrics\n",
        "    precision = precision_score(y_train, y_pred_adb_NB_train)\n",
        "    recall = recall_score(y_train, y_pred_adb_NB_train)\n",
        "    prec_list.append(precision)\n",
        "    rec_list.append(recall)\n",
        "    #print(\"Precision: {:.3f}\".format(precision))\n",
        "    #print(\"Recall: {:.3f}\".format(recall))\n",
        "    f1=2*precision*recall/(recall+precision)\n",
        "    #print (\"F1-Score {:.3f}\".format(f1)\n",
        "    f1_list.append(f1)\n",
        "    accuracy =accuracy_score(y_train, y_pred_adb_NB_train)\n",
        "    acc_list.append(accuracy)\n",
        "    #print(\"Accuracy {:.3f}\".format(accuracy))\n",
        "\n",
        "scores_comp_adb_nb=pd.DataFrame(zip(prec_list,rec_list,f1_list,acc_list),columns=['Precision','Recall','F1','Accuracy'],index=itrs_list)"
      ],
      "metadata": {
        "id": "nxQFCzJxNq3l"
      },
      "execution_count": 158,
      "outputs": []
    },
    {
      "cell_type": "code",
      "source": [
        "f1_mx=max(scores_comp_adb_nb['F1'])\n",
        "acc_max=max(scores_comp_adb_nb['Accuracy'])\n",
        "scores_comp_adb_nb[(scores_comp_adb_nb['F1']==f1_mx) | (scores_comp_adb_nb['Accuracy']==acc_max)  ]"
      ],
      "metadata": {
        "colab": {
          "base_uri": "https://localhost:8080/",
          "height": 144
        },
        "id": "xz0fBxxOAXbR",
        "outputId": "48d38b2b-8fa0-488f-914d-eef8b637c092"
      },
      "execution_count": 127,
      "outputs": [
        {
          "output_type": "execute_result",
          "data": {
            "text/html": [
              "\n",
              "  <div id=\"df-fb41776d-94cf-4ae9-a22b-b1670ff3f50b\">\n",
              "    <div class=\"colab-df-container\">\n",
              "      <div>\n",
              "<style scoped>\n",
              "    .dataframe tbody tr th:only-of-type {\n",
              "        vertical-align: middle;\n",
              "    }\n",
              "\n",
              "    .dataframe tbody tr th {\n",
              "        vertical-align: top;\n",
              "    }\n",
              "\n",
              "    .dataframe thead th {\n",
              "        text-align: right;\n",
              "    }\n",
              "</style>\n",
              "<table border=\"1\" class=\"dataframe\">\n",
              "  <thead>\n",
              "    <tr style=\"text-align: right;\">\n",
              "      <th></th>\n",
              "      <th>Precision</th>\n",
              "      <th>Recall</th>\n",
              "      <th>F1</th>\n",
              "      <th>Accuracy</th>\n",
              "    </tr>\n",
              "  </thead>\n",
              "  <tbody>\n",
              "    <tr>\n",
              "      <th>smoothing=0.070,learn_rate=0.100</th>\n",
              "      <td>0.759791</td>\n",
              "      <td>0.802390</td>\n",
              "      <td>0.780510</td>\n",
              "      <td>0.77258</td>\n",
              "    </tr>\n",
              "    <tr>\n",
              "      <th>smoothing=0.080,learn_rate=0.100</th>\n",
              "      <td>0.758442</td>\n",
              "      <td>0.805147</td>\n",
              "      <td>0.781097</td>\n",
              "      <td>0.77258</td>\n",
              "    </tr>\n",
              "    <tr>\n",
              "      <th>smoothing=0.085,learn_rate=0.100</th>\n",
              "      <td>0.758218</td>\n",
              "      <td>0.805607</td>\n",
              "      <td>0.781194</td>\n",
              "      <td>0.77258</td>\n",
              "    </tr>\n",
              "  </tbody>\n",
              "</table>\n",
              "</div>\n",
              "      <button class=\"colab-df-convert\" onclick=\"convertToInteractive('df-fb41776d-94cf-4ae9-a22b-b1670ff3f50b')\"\n",
              "              title=\"Convert this dataframe to an interactive table.\"\n",
              "              style=\"display:none;\">\n",
              "        \n",
              "  <svg xmlns=\"http://www.w3.org/2000/svg\" height=\"24px\"viewBox=\"0 0 24 24\"\n",
              "       width=\"24px\">\n",
              "    <path d=\"M0 0h24v24H0V0z\" fill=\"none\"/>\n",
              "    <path d=\"M18.56 5.44l.94 2.06.94-2.06 2.06-.94-2.06-.94-.94-2.06-.94 2.06-2.06.94zm-11 1L8.5 8.5l.94-2.06 2.06-.94-2.06-.94L8.5 2.5l-.94 2.06-2.06.94zm10 10l.94 2.06.94-2.06 2.06-.94-2.06-.94-.94-2.06-.94 2.06-2.06.94z\"/><path d=\"M17.41 7.96l-1.37-1.37c-.4-.4-.92-.59-1.43-.59-.52 0-1.04.2-1.43.59L10.3 9.45l-7.72 7.72c-.78.78-.78 2.05 0 2.83L4 21.41c.39.39.9.59 1.41.59.51 0 1.02-.2 1.41-.59l7.78-7.78 2.81-2.81c.8-.78.8-2.07 0-2.86zM5.41 20L4 18.59l7.72-7.72 1.47 1.35L5.41 20z\"/>\n",
              "  </svg>\n",
              "      </button>\n",
              "      \n",
              "  <style>\n",
              "    .colab-df-container {\n",
              "      display:flex;\n",
              "      flex-wrap:wrap;\n",
              "      gap: 12px;\n",
              "    }\n",
              "\n",
              "    .colab-df-convert {\n",
              "      background-color: #E8F0FE;\n",
              "      border: none;\n",
              "      border-radius: 50%;\n",
              "      cursor: pointer;\n",
              "      display: none;\n",
              "      fill: #1967D2;\n",
              "      height: 32px;\n",
              "      padding: 0 0 0 0;\n",
              "      width: 32px;\n",
              "    }\n",
              "\n",
              "    .colab-df-convert:hover {\n",
              "      background-color: #E2EBFA;\n",
              "      box-shadow: 0px 1px 2px rgba(60, 64, 67, 0.3), 0px 1px 3px 1px rgba(60, 64, 67, 0.15);\n",
              "      fill: #174EA6;\n",
              "    }\n",
              "\n",
              "    [theme=dark] .colab-df-convert {\n",
              "      background-color: #3B4455;\n",
              "      fill: #D2E3FC;\n",
              "    }\n",
              "\n",
              "    [theme=dark] .colab-df-convert:hover {\n",
              "      background-color: #434B5C;\n",
              "      box-shadow: 0px 1px 3px 1px rgba(0, 0, 0, 0.15);\n",
              "      filter: drop-shadow(0px 1px 2px rgba(0, 0, 0, 0.3));\n",
              "      fill: #FFFFFF;\n",
              "    }\n",
              "  </style>\n",
              "\n",
              "      <script>\n",
              "        const buttonEl =\n",
              "          document.querySelector('#df-fb41776d-94cf-4ae9-a22b-b1670ff3f50b button.colab-df-convert');\n",
              "        buttonEl.style.display =\n",
              "          google.colab.kernel.accessAllowed ? 'block' : 'none';\n",
              "\n",
              "        async function convertToInteractive(key) {\n",
              "          const element = document.querySelector('#df-fb41776d-94cf-4ae9-a22b-b1670ff3f50b');\n",
              "          const dataTable =\n",
              "            await google.colab.kernel.invokeFunction('convertToInteractive',\n",
              "                                                     [key], {});\n",
              "          if (!dataTable) return;\n",
              "\n",
              "          const docLinkHtml = 'Like what you see? Visit the ' +\n",
              "            '<a target=\"_blank\" href=https://colab.research.google.com/notebooks/data_table.ipynb>data table notebook</a>'\n",
              "            + ' to learn more about interactive tables.';\n",
              "          element.innerHTML = '';\n",
              "          dataTable['output_type'] = 'display_data';\n",
              "          await google.colab.output.renderOutput(dataTable, element);\n",
              "          const docLink = document.createElement('div');\n",
              "          docLink.innerHTML = docLinkHtml;\n",
              "          element.appendChild(docLink);\n",
              "        }\n",
              "      </script>\n",
              "    </div>\n",
              "  </div>\n",
              "  "
            ],
            "text/plain": [
              "                                  Precision    Recall        F1  Accuracy\n",
              "smoothing=0.070,learn_rate=0.100   0.759791  0.802390  0.780510   0.77258\n",
              "smoothing=0.080,learn_rate=0.100   0.758442  0.805147  0.781097   0.77258\n",
              "smoothing=0.085,learn_rate=0.100   0.758218  0.805607  0.781194   0.77258"
            ]
          },
          "metadata": {},
          "execution_count": 127
        }
      ]
    },
    {
      "cell_type": "code",
      "source": [
        "\n",
        "clf_adb_NB = AdaBoostClassifier(random_state=1,base_estimator=GaussianNB(var_smoothing=0.085),learning_rate=0.1)\n",
        "clf_adb_NB.fit(X_train, y_train)\n",
        "\n",
        "# #############\n",
        "y_pred_adb_NB=clf_adb_NB.predict(X_test)\n",
        "## Metrics\n",
        "precision = precision_score(y_test, y_pred_adb_NB)\n",
        "recall = recall_score(y_test, y_pred_adb_NB)\n",
        "print(\"Precision: {:.3f}\".format(precision))\n",
        "print(\"Recall: {:.3f}\".format(recall))\n",
        "print (\"F1-Score {:.3f}\".format(2*precision*recall/(recall+precision)))\n",
        "accuracy =accuracy_score(y_test, y_pred_adb_NB)\n",
        "print(\"Accuracy {:.3f}\".format(accuracy))\n"
      ],
      "metadata": {
        "colab": {
          "base_uri": "https://localhost:8080/"
        },
        "id": "fNGz9NInC6eY",
        "outputId": "0dfe232e-6b38-4283-8990-0001138d6370"
      },
      "execution_count": 159,
      "outputs": [
        {
          "output_type": "stream",
          "name": "stdout",
          "text": [
            "Precision: 0.743\n",
            "Recall: 0.797\n",
            "F1-Score 0.769\n",
            "Accuracy 0.766\n"
          ]
        }
      ]
    },
    {
      "cell_type": "code",
      "source": [
        "# Adaboost NB tuned\n",
        "cm = confusion_matrix(y_test, y_pred_adb_NB)\n",
        "print(cm)"
      ],
      "metadata": {
        "colab": {
          "base_uri": "https://localhost:8080/"
        },
        "id": "vDK2SFYoEY_g",
        "outputId": "f1441421-3aef-41d6-d298-02e144dca84f"
      },
      "execution_count": 160,
      "outputs": [
        {
          "output_type": "stream",
          "name": "stdout",
          "text": [
            "[[543 194]\n",
            " [143 560]]\n"
          ]
        }
      ]
    },
    {
      "cell_type": "code",
      "source": [
        ""
      ],
      "metadata": {
        "id": "jsAPsQaJFSYA"
      },
      "execution_count": null,
      "outputs": []
    },
    {
      "cell_type": "code",
      "source": [
        "\n",
        "clf_adb_svc = AdaBoostClassifier(random_state=1,base_estimator=SVC(kernel='rbf', C=1E6,random_state=1,probability=True),learning_rate=0.05,n_estimators=10)\n",
        "clf_adb_svc.fit(X_train, y_train)\n",
        "\n",
        "# #############\n",
        "y_pred_adb_svc=clf_adb_svc.predict(X_test)\n",
        "## Metrics\n",
        "precision = precision_score(y_test, y_pred_adb_svc)\n",
        "recall = recall_score(y_test, y_pred_adb_svc)\n",
        "print(\"Precision: {:.3f}\".format(precision))\n",
        "print(\"Recall: {:.3f}\".format(recall))\n",
        "print (\"F1-Score {:.3f}\".format(2*precision*recall/(recall+precision)))\n",
        "accuracy =accuracy_score(y_test, y_pred_adb_svc)\n",
        "print(accuracy)\n",
        "\n",
        "# Adaboost SVC tuned\n",
        "cm = confusion_matrix(y_test, y_pred_adb_svc)\n",
        "print(cm)\n"
      ],
      "metadata": {
        "colab": {
          "base_uri": "https://localhost:8080/"
        },
        "id": "DKVzwunnFSUg",
        "outputId": "384add35-cc81-4b46-8286-0a8aa3442e4e"
      },
      "execution_count": 142,
      "outputs": [
        {
          "output_type": "stream",
          "name": "stdout",
          "text": [
            "Precision: 0.898\n",
            "Recall: 0.836\n",
            "F1-Score 0.866\n",
            "0.8736111111111111\n",
            "[[670  67]\n",
            " [115 588]]\n"
          ]
        }
      ]
    },
    {
      "cell_type": "code",
      "source": [
        "!pip install CatBoost>> /dev/null"
      ],
      "metadata": {
        "id": "IYSL9He2WUUz"
      },
      "execution_count": 164,
      "outputs": []
    },
    {
      "cell_type": "code",
      "source": [
        "from catboost import CatBoostClassifier\n"
      ],
      "metadata": {
        "id": "bElHLtdZRtxa"
      },
      "execution_count": 165,
      "outputs": []
    },
    {
      "cell_type": "code",
      "source": [
        "#model = CatBoostClassifier()\n",
        "clf_cat = CatBoostClassifier(random_state=1,verbose=False)\n",
        "clf_cat.fit(X_train, y_train)\n",
        "\n",
        "# #############\n",
        "y_pred_cat=clf_cat.predict(X_test)\n",
        "## Metrics\n",
        "precision = precision_score(y_test, y_pred_cat)\n",
        "recall = recall_score(y_test, y_pred_cat)\n",
        "print(\"Precision: {:.3f}\".format(precision))\n",
        "print(\"Recall: {:.3f}\".format(recall))\n",
        "print (\"F1-Score {:.3f}\".format(2*precision*recall/(recall+precision)))\n",
        "accuracy =accuracy_score(y_test, y_pred_cat)\n",
        "print(accuracy)\n",
        "\n",
        "# Adaboost SVC tuned\n",
        "cm = confusion_matrix(y_test, y_pred_cat)\n",
        "print(cm)\n"
      ],
      "metadata": {
        "colab": {
          "base_uri": "https://localhost:8080/"
        },
        "id": "SOBvIjzOWgWy",
        "outputId": "80b39b07-cc8d-4123-d3aa-c7f229b706a3"
      },
      "execution_count": 168,
      "outputs": [
        {
          "output_type": "stream",
          "name": "stdout",
          "text": [
            "Precision: 0.972\n",
            "Recall: 0.828\n",
            "F1-Score 0.894\n",
            "0.9041666666666667\n",
            "[[720  17]\n",
            " [121 582]]\n"
          ]
        }
      ]
    }
  ]
}